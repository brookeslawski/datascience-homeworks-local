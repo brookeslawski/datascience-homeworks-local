{
 "cells": [
  {
   "cell_type": "markdown",
   "metadata": {},
   "source": [
    "# Introduction to Data Science - Homework 1\n",
    "*CS 5963 / MATH 3900, University of Utah, http://datasciencecourse.net/*\n",
    "\n",
    "Due: Friday, Jannuary 19, 11:59pm.\n",
    "\n",
    "This homework is designed to practice the skills we learned in up until Lecture 3: working with loops, conditions, functions, and the built-in Python data structures. Make sure to go through the lecture again in case you have any troubles.\n",
    "\n",
    "**Note: You may not use higher-level library functions but should implement everything using functions, loops, and conditions.**"
   ]
  },
  {
   "cell_type": "markdown",
   "metadata": {},
   "source": [
    "## Your Data\n",
    "Fill out the following information: \n",
    "\n",
    "*First Name:*   Brooke <br>\n",
    "*Last Name:*   Stanislawski <br>\n",
    "*E-mail:*   brooke.stanislawski@utah.edu <br>\n",
    "*UID:*  u1142223 <br>\n"
   ]
  },
  {
   "cell_type": "markdown",
   "metadata": {},
   "source": [
    "## Problem 1 - Largest Element\n",
    "\n",
    "Write a function that returns the largest element in a list."
   ]
  },
  {
   "cell_type": "code",
   "execution_count": 1,
   "metadata": {
    "collapsed": true
   },
   "outputs": [],
   "source": [
    "def get_largest_element(my_list):\n",
    "    # your code goes here\n",
    "    max_val = my_list[0];\n",
    "    for i in range(len(my_list)):\n",
    "        if (my_list[i] > max_val):\n",
    "            max_val = my_list[i]\n",
    "    print(max_val)"
   ]
  },
  {
   "cell_type": "code",
   "execution_count": 2,
   "metadata": {},
   "outputs": [
    {
     "name": "stdout",
     "output_type": "stream",
     "text": [
      "133\n",
      "200\n",
      "500\n",
      "0\n",
      "-12\n"
     ]
    }
   ],
   "source": [
    "get_largest_element([13, 25, 29, 17, 99, 133, -12, 0, 18])\n",
    "get_largest_element([200, 25, 29, 17, 99, 133, -12, 0, 18])\n",
    "get_largest_element([200, 25, 29, 17, 99, 133, -12, 0, 500])\n",
    "get_largest_element([-200, -25, -29, -17, -99, -133, -12, 0, -18])\n",
    "get_largest_element([-200, -25, -29, -17, -99, -133, -12, -18])"
   ]
  },
  {
   "cell_type": "code",
   "execution_count": 3,
   "metadata": {
    "collapsed": true
   },
   "outputs": [],
   "source": [
    "#debugging notes\n",
    "\n",
    "#my_list = [13, 25, 29, 17, 99, 133, -12, 0, 18]\n",
    "#print(len(my_list))\n",
    "#print(range(len(my_list)))"
   ]
  },
  {
   "cell_type": "markdown",
   "metadata": {},
   "source": [
    "## Problem 2 - Reverse List\n",
    "\n",
    "Write function that reverses a list."
   ]
  },
  {
   "cell_type": "code",
   "execution_count": 10,
   "metadata": {
    "collapsed": true
   },
   "outputs": [],
   "source": [
    "# your function goes here\n",
    "def reverse_list(input_list):\n",
    "    index = len(input_list)-1\n",
    "    new_list = [0] * len(input_list)\n",
    "    for j in range(len(input_list)):\n",
    "        new_list[j] = input_list[(index -j)]\n",
    "    print(new_list)"
   ]
  },
  {
   "cell_type": "code",
   "execution_count": 11,
   "metadata": {},
   "outputs": [
    {
     "name": "stdout",
     "output_type": "stream",
     "text": [
      "[18, 0, -12, 133, 99, 17, 29, 25, 13]\n",
      "['c', 'b', 'a']\n",
      "['c', 100, 'b', 'a']\n"
     ]
    }
   ],
   "source": [
    "# call your function with a couple of different lists and print the reults here\n",
    "reverse_list([13, 25, 29, 17, 99, 133, -12, 0, 18])\n",
    "reverse_list([\"a\",\"b\",\"c\"])\n",
    "reverse_list(['a','b', 100,'c'])"
   ]
  },
  {
   "cell_type": "markdown",
   "metadata": {},
   "source": [
    "## Problem 3 - Combining List\n",
    "\n",
    "Write a function that combines two lists by alternatingly taking elements, e.g. [a,b,c], [1,2,3] → [a,1,b,2,c,3]."
   ]
  },
  {
   "cell_type": "code",
   "execution_count": 27,
   "metadata": {
    "collapsed": true
   },
   "outputs": [],
   "source": [
    "# your function goes here\n",
    "def combine_lists(a_list,b_list):\n",
    "    #assuming two lists will always be of equal length\n",
    "    new_length = len(a_list) + len(b_list)\n",
    "    #print(new_length)\n",
    "    comb_list = [0] * new_length\n",
    "    #print(comb_list)\n",
    "    for k in range(new_length):\n",
    "        #print(k)\n",
    "        if (k % 2 == 1): #if k is odd\n",
    "            comb_list[k] = b_list[int((k-1)/2)]\n",
    "        else: #if k is even\n",
    "            comb_list[k] = a_list[int(k/2)]\n",
    "    print(comb_list)"
   ]
  },
  {
   "cell_type": "code",
   "execution_count": 30,
   "metadata": {},
   "outputs": [
    {
     "name": "stdout",
     "output_type": "stream",
     "text": [
      "['a', 1, 'b', 2, 'c', 3]\n",
      "['a', 'x', 'b', 'y', 'c', 'z']\n",
      "[0, 1, 4, 2]\n",
      "[0.5, 1, 4, 2.3, 5, 10, 6, 11, 7, 12, 8, 13]\n"
     ]
    }
   ],
   "source": [
    "# call your function with a couple of different lists and print the reults here\n",
    "combine_lists([\"a\",\"b\",\"c\"], [1, 2, 3])\n",
    "combine_lists([\"a\",\"b\",\"c\"], [\"x\", \"y\", \"z\"])\n",
    "combine_lists([0,4], [1,2])\n",
    "combine_lists([0.5,4,5,6,7,8], [1,2.3,10,11,12,13])"
   ]
  },
  {
   "cell_type": "markdown",
   "metadata": {},
   "source": [
    "## Problem 4 - Numbers to Digits\n",
    "\n",
    "Write a function that takes a number and returns a list of its digits."
   ]
  },
  {
   "cell_type": "code",
   "execution_count": null,
   "metadata": {
    "collapsed": true
   },
   "outputs": [],
   "source": [
    "# your function goes here"
   ]
  },
  {
   "cell_type": "code",
   "execution_count": null,
   "metadata": {
    "collapsed": true
   },
   "outputs": [],
   "source": [
    "# call your function with a couple of different lists and print the reults here"
   ]
  },
  {
   "cell_type": "markdown",
   "metadata": {},
   "source": [
    "## Problem 5 - Sums\n",
    "\n",
    "Write three functions that compute the sum of the numbers in a list: using a for-loop, a while-loop and recursion."
   ]
  },
  {
   "cell_type": "code",
   "execution_count": null,
   "metadata": {
    "collapsed": true
   },
   "outputs": [],
   "source": [
    "# your function goes here"
   ]
  },
  {
   "cell_type": "code",
   "execution_count": null,
   "metadata": {
    "collapsed": true
   },
   "outputs": [],
   "source": [
    "# call your function with a couple of different lists and print the reults here"
   ]
  },
  {
   "cell_type": "markdown",
   "metadata": {},
   "source": [
    "## Problem 6 - Fibonacchi Sequence\n",
    "\n",
    "Write a function that takes a number n and an empty array that writes the first n numbers of the Fibonacchi Sequence into the empty array. Print the array. \n",
    "\n",
    "The Fibonnachi Sequnece where every number after the first two is the sum of the previous two numbers, i.e.,\n",
    "\n",
    "1, 1, 2, 3, 5, 8, 13, 21, 34, 55, ..."
   ]
  },
  {
   "cell_type": "code",
   "execution_count": null,
   "metadata": {
    "collapsed": true
   },
   "outputs": [],
   "source": [
    "# your function goese here"
   ]
  },
  {
   "cell_type": "code",
   "execution_count": null,
   "metadata": {
    "collapsed": true
   },
   "outputs": [],
   "source": [
    "# call your function with a couple of different n and print the reults here"
   ]
  },
  {
   "cell_type": "markdown",
   "metadata": {},
   "source": [
    "## Problem 7 - Rainfall\n",
    "\n",
    "Write a function called rainfall that reads a list of numbers representing daily rainfall amounts. The list may contain the number -999 indicating the end of the data of interest. Produce the average of the non-negative values in the list up to the first -999 (if it shows up). There may be negative numbers other than -999 in the list.\n",
    "\n",
    "We provide you with several different test arrays, but your code should work with arbitrary arrays."
   ]
  },
  {
   "cell_type": "code",
   "execution_count": null,
   "metadata": {
    "collapsed": true
   },
   "outputs": [],
   "source": [
    "rainfall_one = [16, 19, 22, 41, -999, 199, 254]\n",
    "rainfall_two = [33, 24, 10, -2, -99, 0, 15, 82, -1325, 15]\n",
    "rainfall_three = [2, 2, -999, 10]\n",
    "rainfall_four = [-999, 2, 5, -19, 16]\n",
    "rainfall_five = []"
   ]
  },
  {
   "cell_type": "code",
   "execution_count": null,
   "metadata": {
    "collapsed": true
   },
   "outputs": [],
   "source": [
    "def rainfall(rainfall_list):\n",
    "    # your code goes here"
   ]
  },
  {
   "cell_type": "code",
   "execution_count": null,
   "metadata": {
    "collapsed": true
   },
   "outputs": [],
   "source": [
    "# print the results for all the lists above here\n",
    "rainfall(rainfall_one)"
   ]
  },
  {
   "cell_type": "code",
   "execution_count": null,
   "metadata": {
    "collapsed": true
   },
   "outputs": [],
   "source": [
    "rainfall(rainfall_two)"
   ]
  },
  {
   "cell_type": "code",
   "execution_count": null,
   "metadata": {
    "collapsed": true
   },
   "outputs": [],
   "source": [
    "rainfall(rainfall_three)"
   ]
  },
  {
   "cell_type": "code",
   "execution_count": null,
   "metadata": {
    "collapsed": true
   },
   "outputs": [],
   "source": [
    "rainfall(rainfall_four)"
   ]
  },
  {
   "cell_type": "code",
   "execution_count": null,
   "metadata": {
    "collapsed": true
   },
   "outputs": [],
   "source": [
    "rainfall(rainfall_five)"
   ]
  }
 ],
 "metadata": {
  "anaconda-cloud": {},
  "kernelspec": {
   "display_name": "Python 3",
   "language": "python",
   "name": "python3"
  },
  "language_info": {
   "codemirror_mode": {
    "name": "ipython",
    "version": 3
   },
   "file_extension": ".py",
   "mimetype": "text/x-python",
   "name": "python",
   "nbconvert_exporter": "python",
   "pygments_lexer": "ipython3",
   "version": "3.6.3"
  }
 },
 "nbformat": 4,
 "nbformat_minor": 1
}
