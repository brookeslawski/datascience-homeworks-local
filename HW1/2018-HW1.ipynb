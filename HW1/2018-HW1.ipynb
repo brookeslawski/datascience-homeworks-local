{
 "cells": [
  {
   "cell_type": "markdown",
   "metadata": {},
   "source": [
    "# Introduction to Data Science - Homework 1\n",
    "*CS 5963 / MATH 3900, University of Utah, http://datasciencecourse.net/*\n",
    "\n",
    "Due: Friday, Jannuary 19, 11:59pm.\n",
    "\n",
    "This homework is designed to practice the skills we learned in up until Lecture 3: working with loops, conditions, functions, and the built-in Python data structures. Make sure to go through the lecture again in case you have any troubles.\n",
    "\n",
    "**Note: You may not use higher-level library functions but should implement everything using functions, loops, and conditions.**"
   ]
  },
  {
   "cell_type": "markdown",
   "metadata": {},
   "source": [
    "## Your Data\n",
    "Fill out the following information: \n",
    "\n",
    "*First Name:*   Brooke <br>\n",
    "*Last Name:*   Stanislawski <br>\n",
    "*E-mail:*   brooke.stanislawski@utah.edu <br>\n",
    "*UID:*  u1142223 <br>\n"
   ]
  },
  {
   "cell_type": "markdown",
   "metadata": {},
   "source": [
    "## Problem 1 - Largest Element\n",
    "\n",
    "Write a function that returns the largest element in a list."
   ]
  },
  {
   "cell_type": "code",
   "execution_count": 1,
   "metadata": {
    "collapsed": true
   },
   "outputs": [],
   "source": [
    "def get_largest_element(my_list):\n",
    "    # your code goes here\n",
    "    max_val = my_list[0]\n",
    "    for i in range(len(my_list)):\n",
    "        if (my_list[i] > max_val):\n",
    "            max_val = my_list[i]\n",
    "    return max_val"
   ]
  },
  {
   "cell_type": "code",
   "execution_count": 2,
   "metadata": {},
   "outputs": [
    {
     "name": "stdout",
     "output_type": "stream",
     "text": [
      "133\n",
      "200\n",
      "500\n",
      "0\n",
      "-12\n"
     ]
    }
   ],
   "source": [
    "print(get_largest_element([13, 25, 29, 17, 99, 133, -12, 0, 18]))\n",
    "print(get_largest_element([200, 25, 29, 17, 99, 133, -12, 0, 18]))\n",
    "print(get_largest_element([200, 25, 29, 17, 99, 133, -12, 0, 500]))\n",
    "print(get_largest_element([-200, -25, -29, -17, -99, -133, -12, 0, -18]))\n",
    "print(get_largest_element([-200, -25, -29, -17, -99, -133, -12, -18]))"
   ]
  },
  {
   "cell_type": "code",
   "execution_count": 3,
   "metadata": {
    "collapsed": true
   },
   "outputs": [],
   "source": [
    "#debugging notes\n",
    "\n",
    "#my_list = [13, 25, 29, 17, 99, 133, -12, 0, 18]\n",
    "#print(len(my_list))\n",
    "#print(range(len(my_list)))"
   ]
  },
  {
   "cell_type": "markdown",
   "metadata": {},
   "source": [
    "## Problem 2 - Reverse List\n",
    "\n",
    "Write function that reverses a list."
   ]
  },
  {
   "cell_type": "code",
   "execution_count": 4,
   "metadata": {
    "collapsed": true
   },
   "outputs": [],
   "source": [
    "# your function goes here\n",
    "def reverse_list(input_list):\n",
    "    index = len(input_list)-1\n",
    "    new_list = [0] * len(input_list)\n",
    "    for j in range(len(input_list)):\n",
    "        new_list[j] = input_list[(index -j)]\n",
    "    return new_list"
   ]
  },
  {
   "cell_type": "code",
   "execution_count": 5,
   "metadata": {},
   "outputs": [
    {
     "name": "stdout",
     "output_type": "stream",
     "text": [
      "[18, 0, -12, 133, 99, 17, 29, 25, 13]\n",
      "['c', 'b', 'a']\n",
      "['c', 100, 'b', 'a']\n",
      "[18, 0, -12, 133, 99, 17, 29, 25, 0.0]\n",
      "['a']\n",
      "[]\n"
     ]
    }
   ],
   "source": [
    "# call your function with a couple of different lists and print the reults here\n",
    "print(reverse_list([13, 25, 29, 17, 99, 133, -12, 0, 18]))\n",
    "print(reverse_list([\"a\",\"b\",\"c\"]))\n",
    "print(reverse_list(['a','b', 100,'c']))\n",
    "print(reverse_list([0.0, 25, 29, 17, 99, 133, -12, 0, 18]))\n",
    "print(reverse_list([\"a\"]))\n",
    "print(reverse_list([]))"
   ]
  },
  {
   "cell_type": "markdown",
   "metadata": {},
   "source": [
    "## Problem 3 - Combining List\n",
    "\n",
    "Write a function that combines two lists by alternatingly taking elements, e.g. [a,b,c], [1,2,3] → [a,1,b,2,c,3]."
   ]
  },
  {
   "cell_type": "code",
   "execution_count": 6,
   "metadata": {
    "collapsed": true
   },
   "outputs": [],
   "source": [
    "# your function goes here\n",
    "def combine_lists(a_list,b_list):\n",
    "    #assuming two lists will always be of equal length\n",
    "    new_length = len(a_list) + len(b_list)\n",
    "    comb_list = [0] * new_length\n",
    "    for k in range(new_length):\n",
    "        if (k % 2 == 1): #if k is odd\n",
    "            comb_list[k] = b_list[int((k-1)/2)]\n",
    "        else: #if k is even\n",
    "            comb_list[k] = a_list[int(k/2)]\n",
    "    return comb_list"
   ]
  },
  {
   "cell_type": "code",
   "execution_count": 7,
   "metadata": {},
   "outputs": [
    {
     "name": "stdout",
     "output_type": "stream",
     "text": [
      "['a', 1, 'b', 2, 'c', 3]\n",
      "['a', 'x', 'b', 'y', 'c', 'z']\n",
      "[0, 1, 4, 2]\n",
      "[0.5, 1, 4, 2.3, 5, 10, 6, 11, 7, 12, 8, 13]\n"
     ]
    }
   ],
   "source": [
    "# call your function with a couple of different lists and print the reults here\n",
    "print(combine_lists([\"a\",\"b\",\"c\"], [1, 2, 3]))\n",
    "print(combine_lists([\"a\",\"b\",\"c\"], [\"x\", \"y\", \"z\"]))\n",
    "print(combine_lists([0,4], [1,2]))\n",
    "print(combine_lists([0.5,4,5,6,7,8], [1,2.3,10,11,12,13]))"
   ]
  },
  {
   "cell_type": "markdown",
   "metadata": {},
   "source": [
    "## Problem 4 - Numbers to Digits\n",
    "\n",
    "Write a function that takes a number and returns a list of its digits."
   ]
  },
  {
   "cell_type": "code",
   "execution_count": 8,
   "metadata": {
    "collapsed": true
   },
   "outputs": [],
   "source": [
    "# your function goes here\n",
    "def num_to_dig(number):\n",
    "    #assuming inputs will be greater than zero\n",
    "    i = 0\n",
    "    while (number > 0):\n",
    "        if i == 0: # initialize first value in list\n",
    "            digits = [number % 10]\n",
    "        else: #append for i > 0\n",
    "            digits.append(number % 10)\n",
    "        number = int(number/10)\n",
    "        i += 1\n",
    "    return reverse_list(digits) #using function from Problem 2"
   ]
  },
  {
   "cell_type": "code",
   "execution_count": 9,
   "metadata": {},
   "outputs": [
    {
     "name": "stdout",
     "output_type": "stream",
     "text": [
      "[1, 2, 3, 4, 5, 6]\n",
      "[3, 0, 2, 3, 4, 5, 6]\n",
      "[9, 9, 9, 9, 3, 0, 2, 9, 3]\n",
      "[2, 1]\n",
      "[1]\n"
     ]
    }
   ],
   "source": [
    "# call your function with a couple of different lists and print the reults here\n",
    "print(num_to_dig(123456))\n",
    "print(num_to_dig(3023456))\n",
    "print(num_to_dig(999930293))\n",
    "print(num_to_dig(21))\n",
    "print(num_to_dig(1))"
   ]
  },
  {
   "cell_type": "markdown",
   "metadata": {},
   "source": [
    "## Problem 5 - Sums\n",
    "\n",
    "Write three functions that compute the sum of the numbers in a list: using a for-loop, a while-loop and recursion."
   ]
  },
  {
   "cell_type": "code",
   "execution_count": 10,
   "metadata": {
    "collapsed": true
   },
   "outputs": [],
   "source": [
    "# your function goes here\n",
    "\n",
    "def sum_for(input_list): #sum using for-loop\n",
    "    sum_list = 0\n",
    "    for i in range(len(input_list)):\n",
    "        sum_list += input_list[i]\n",
    "    return sum_list\n",
    "\n",
    "def sum_while(input_list): #sum using while-loop\n",
    "    sum_list = 0\n",
    "    count = 0\n",
    "    while count < len(input_list):\n",
    "        sum_list += input_list[count]\n",
    "        count += 1\n",
    "    return sum_list\n",
    "    \n",
    "def sum_rec(input_list): #sum using recursion\n",
    "    if len(input_list) > 0:\n",
    "        return input_list[0] + sum_rec(input_list[1:])\n",
    "    else:\n",
    "        return 0"
   ]
  },
  {
   "cell_type": "code",
   "execution_count": 11,
   "metadata": {},
   "outputs": [
    {
     "name": "stdout",
     "output_type": "stream",
     "text": [
      "Sum using for loop: 6\n",
      "Sum using for loop: 4\n",
      "Sum using for loop: -2.7\n",
      "Sum using for loop: 0\n",
      "Sum using for loop: -4\n",
      "Sum using while loop: 6\n",
      "Sum using while loop: 4\n",
      "Sum using while loop: -2.7\n",
      "Sum using while loop: 0\n",
      "Sum using while loop: -4\n",
      "Sum using recursion: 6\n",
      "Sum using recursion: 4\n",
      "Sum using recursion: -2.7\n",
      "Sum using recursion: 0\n",
      "Sum using recursion: -4\n"
     ]
    }
   ],
   "source": [
    "# call your function with a couple of different lists and print the reults here\n",
    "print(\"Sum using for loop:\", sum_for([1, 2, 3]))\n",
    "print(\"Sum using for loop:\", sum_for([-1, 2, 3]))\n",
    "print(\"Sum using for loop:\", sum_for([-5.0, 2.3, 0]))\n",
    "print(\"Sum using for loop:\", sum_for([0]))\n",
    "print(\"Sum using for loop:\", sum_for([-1, 2, 3, -4, 5, -6, 7, -8, 9, -10, 11, -12]))\n",
    "\n",
    "print(\"Sum using while loop:\", sum_while([1, 2, 3]))\n",
    "print(\"Sum using while loop:\", sum_while([-1, 2, 3]))\n",
    "print(\"Sum using while loop:\", sum_while([-5.0, 2.3, 0]))\n",
    "print(\"Sum using while loop:\", sum_while([0]))\n",
    "print(\"Sum using while loop:\", sum_while([-1, 2, 3, -4, 5, -6, 7, -8, 9, -10, 11, -12]))\n",
    "\n",
    "print(\"Sum using recursion:\", sum_rec([1, 2, 3]))\n",
    "print(\"Sum using recursion:\", sum_rec([-1, 2, 3]))\n",
    "print(\"Sum using recursion:\", sum_rec([-5.0, 2.3, 0]))\n",
    "print(\"Sum using recursion:\", sum_rec([0]))\n",
    "print(\"Sum using recursion:\", sum_rec([-1, 2, 3, -4, 5, -6, 7, -8, 9, -10, 11, -12]))\n",
    "\n",
    "#add longer and shorter lists"
   ]
  },
  {
   "cell_type": "markdown",
   "metadata": {},
   "source": [
    "## Problem 6 - Fibonacchi Sequence\n",
    "\n",
    "Write a function that takes a number n and an empty array that writes the first n numbers of the Fibonacchi Sequence into the empty array. Print the array. \n",
    "\n",
    "The Fibonnachi Sequnece where every number after the first two is the sum of the previous two numbers, i.e.,\n",
    "\n",
    "1, 1, 2, 3, 5, 8, 13, 21, 34, 55, ..."
   ]
  },
  {
   "cell_type": "code",
   "execution_count": 12,
   "metadata": {
    "collapsed": true
   },
   "outputs": [],
   "source": [
    "# your function goese here\n",
    "def fibonacchi(n,array):\n",
    "    array[0] = 1\n",
    "    if len(array) > 1:\n",
    "        array[1] = 1\n",
    "        for i in range(2,len(array)):\n",
    "            array[i] = array[i-2] + array[i-1]\n",
    "    return array\n",
    "    #print(\"when n =\", n, \", result is \", array)"
   ]
  },
  {
   "cell_type": "code",
   "execution_count": 13,
   "metadata": {},
   "outputs": [
    {
     "name": "stdout",
     "output_type": "stream",
     "text": [
      "when n = 10 , result is  [1, 1, 2, 3, 5, 8, 13, 21, 34, 55]\n",
      "when n = 1 , result is  [1]\n",
      "when n = 3 , result is  [1, 1, 2]\n",
      "when n = 30 , result is  [1, 1, 2, 3, 5, 8, 13, 21, 34, 55, 89, 144, 233, 377, 610, 987, 1597, 2584, 4181, 6765, 10946, 17711, 28657, 46368, 75025, 121393, 196418, 317811, 514229, 832040]\n"
     ]
    }
   ],
   "source": [
    "# call your function with a couple of different n and print the reults here\n",
    "n = 10\n",
    "empty_array = [0] * n\n",
    "print(\"when n =\", n, \", result is \", fibonacchi(n,empty_array))\n",
    "\n",
    "n = 1\n",
    "empty_array = [0] * n\n",
    "print(\"when n =\", n, \", result is \", fibonacchi(n,empty_array))\n",
    "\n",
    "n = 3\n",
    "empty_array = [0] * n\n",
    "print(\"when n =\", n, \", result is \", fibonacchi(n,empty_array))\n",
    "\n",
    "n = 30\n",
    "empty_array = [0] * n\n",
    "print(\"when n =\", n, \", result is \", fibonacchi(n,empty_array))\n"
   ]
  },
  {
   "cell_type": "markdown",
   "metadata": {},
   "source": [
    "## Problem 7 - Rainfall\n",
    "\n",
    "Write a function called rainfall that reads a list of numbers representing daily rainfall amounts. The list may contain the number -999 indicating the end of the data of interest. Produce the average of the non-negative values in the list up to the first -999 (if it shows up). There may be negative numbers other than -999 in the list.\n",
    "\n",
    "We provide you with several different test arrays, but your code should work with arbitrary arrays."
   ]
  },
  {
   "cell_type": "code",
   "execution_count": 14,
   "metadata": {
    "collapsed": true
   },
   "outputs": [],
   "source": [
    "rainfall_one = [16, 19, 22, 41, -999, 199, 254]\n",
    "rainfall_two = [33, 24, 10, -2, -99, 0, 15, 82, -1325, 15]\n",
    "rainfall_three = [2, 2, -999, 10]\n",
    "rainfall_four = [-999, 2, 5, -19, 16]\n",
    "rainfall_five = []\n",
    "rainfall_six = [1, -999, 2, 5, -19, 16]"
   ]
  },
  {
   "cell_type": "code",
   "execution_count": 15,
   "metadata": {
    "collapsed": true
   },
   "outputs": [],
   "source": [
    "def rainfall(rainfall_list):\n",
    "    # your code goes here\n",
    "    i = 0 #initialize\n",
    "    negative_count = 0 #initialize\n",
    "    sum_rainfall = 0 #initialize\n",
    "    while (i < (len(rainfall_list)) and rainfall_list[i] != -999):\n",
    "        if rainfall_list[0] == -999: #handling case where -999 is first value in list\n",
    "            return 0.0\n",
    "        if (rainfall_list[i] > 0): #only taking nonnegative numbers for sum\n",
    "            sum_rainfall += rainfall_list[i]\n",
    "        else: #counting negative values that do not go into mean calculation\n",
    "            negative_count += 1\n",
    "        i += 1\n",
    "    if i == 0: #for empty list\n",
    "        return 0.0\n",
    "    if negative_count > 0:\n",
    "        negative_count -= 1 #adjusting +1 added in while loop\n",
    "    return sum_rainfall / (i - negative_count) #computes mean"
   ]
  },
  {
   "cell_type": "code",
   "execution_count": 16,
   "metadata": {},
   "outputs": [
    {
     "name": "stdout",
     "output_type": "stream",
     "text": [
      "Average non-negative rainfall values: 24.5\n"
     ]
    }
   ],
   "source": [
    "# print the results for all the lists above here\n",
    "print(\"Average non-negative rainfall values:\", rainfall(rainfall_one))"
   ]
  },
  {
   "cell_type": "code",
   "execution_count": 17,
   "metadata": {},
   "outputs": [
    {
     "name": "stdout",
     "output_type": "stream",
     "text": [
      "Average non-negative rainfall values: 25.571428571428573\n"
     ]
    }
   ],
   "source": [
    "print(\"Average non-negative rainfall values:\", rainfall(rainfall_two))"
   ]
  },
  {
   "cell_type": "code",
   "execution_count": 18,
   "metadata": {},
   "outputs": [
    {
     "name": "stdout",
     "output_type": "stream",
     "text": [
      "Average non-negative rainfall values: 2.0\n"
     ]
    }
   ],
   "source": [
    "print(\"Average non-negative rainfall values:\", rainfall(rainfall_three))"
   ]
  },
  {
   "cell_type": "code",
   "execution_count": 19,
   "metadata": {},
   "outputs": [
    {
     "name": "stdout",
     "output_type": "stream",
     "text": [
      "Average non-negative rainfall values: 0.0\n"
     ]
    }
   ],
   "source": [
    "print(\"Average non-negative rainfall values:\", rainfall(rainfall_four))"
   ]
  },
  {
   "cell_type": "code",
   "execution_count": 20,
   "metadata": {},
   "outputs": [
    {
     "name": "stdout",
     "output_type": "stream",
     "text": [
      "Average non-negative rainfall values: 0.0\n"
     ]
    }
   ],
   "source": [
    "print(\"Average non-negative rainfall values:\", rainfall(rainfall_five))"
   ]
  },
  {
   "cell_type": "code",
   "execution_count": 21,
   "metadata": {},
   "outputs": [
    {
     "name": "stdout",
     "output_type": "stream",
     "text": [
      "Average non-negative rainfall values: 1.0\n"
     ]
    }
   ],
   "source": [
    "print(\"Average non-negative rainfall values:\", rainfall(rainfall_six))"
   ]
  }
 ],
 "metadata": {
  "anaconda-cloud": {},
  "kernelspec": {
   "display_name": "Python 3",
   "language": "python",
   "name": "python3"
  },
  "language_info": {
   "codemirror_mode": {
    "name": "ipython",
    "version": 3
   },
   "file_extension": ".py",
   "mimetype": "text/x-python",
   "name": "python",
   "nbconvert_exporter": "python",
   "pygments_lexer": "ipython3",
   "version": "3.6.3"
  }
 },
 "nbformat": 4,
 "nbformat_minor": 1
}
