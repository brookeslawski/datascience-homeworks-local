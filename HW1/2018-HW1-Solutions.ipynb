{
 "cells": [
  {
   "cell_type": "markdown",
   "metadata": {},
   "source": [
    "# Introduction to Data Science - Homework 1\n",
    "*COMP 5360 / MATH 4100, University of Utah, http://datasciencecourse.net/*\n",
    "\n",
    "Due: Friday, Jannuary 19, 11:59pm.\n",
    "\n",
    "This homework is designed to practice the skills we learned in up until Lecture 3: working with loops, conditions, functions, and the built-in Python data structures. Make sure to go through the lecture again in case you have any troubles.\n",
    "\n",
    "**Note: You may not use higher-level library functions but should implement everything using functions, loops, and conditions.**"
   ]
  },
  {
   "cell_type": "markdown",
   "metadata": {},
   "source": [
    "## Your Data\n",
    "Fill out the following information: \n",
    "\n",
    "*First Name:*   \n",
    "*Last Name:*   \n",
    "*E-mail:*   \n",
    "*UID:*  \n"
   ]
  },
  {
   "cell_type": "markdown",
   "metadata": {},
   "source": [
    "## Problem 1 - Largest Element\n",
    "\n",
    "Write a function that returns the largest element in a list."
   ]
  },
  {
   "cell_type": "code",
   "execution_count": 1,
   "metadata": {
    "collapsed": true
   },
   "outputs": [],
   "source": [
    "def get_largest_element(my_list):\n",
    "    large = my_list[0]\n",
    "    for number in my_list:\n",
    "        if large < number:\n",
    "            large = number\n",
    "    return large"
   ]
  },
  {
   "cell_type": "code",
   "execution_count": 2,
   "metadata": {},
   "outputs": [
    {
     "name": "stdout",
     "output_type": "stream",
     "text": [
      "133\n"
     ]
    }
   ],
   "source": [
    "print(get_largest_element([13, 25, 29, 17, 99, 133, -12, 0, 18]))"
   ]
  },
  {
   "cell_type": "markdown",
   "metadata": {},
   "source": [
    "## Problem 2 - Reverse List\n",
    "\n",
    "Write function that reverses a list."
   ]
  },
  {
   "cell_type": "code",
   "execution_count": 3,
   "metadata": {
    "collapsed": true
   },
   "outputs": [],
   "source": [
    "# The manual way with fors \n",
    "def reverse(my_list):\n",
    "    length = len(my_list) - 1\n",
    "    new_list = []\n",
    "    for i in range(length + 1):\n",
    "        new_list.append(my_list[length - i])\n",
    "    return new_list"
   ]
  },
  {
   "cell_type": "code",
   "execution_count": 4,
   "metadata": {
    "collapsed": true
   },
   "outputs": [],
   "source": [
    "# The list comprehension way\n",
    "def reverse_comprehension(my_list):\n",
    "    return my_list[::-1]"
   ]
  },
  {
   "cell_type": "code",
   "execution_count": 5,
   "metadata": {},
   "outputs": [
    {
     "name": "stdout",
     "output_type": "stream",
     "text": [
      "[5, 4, 3, 2, 1]\n",
      "['George', 'Ringo', 'Paul', 'John']\n",
      "['Paul', 'John', 3, 2, 1]\n"
     ]
    }
   ],
   "source": [
    "# call your function with a couple of different lists and print the reults here\n",
    "print(reverse([1, 2 ,3 ,4 ,5]))\n",
    "print(reverse([\"John\", \"Paul\", \"Ringo\", \"George\"]))\n",
    "print(reverse([1, 2 ,3 ,\"John\", \"Paul\"]))"
   ]
  },
  {
   "cell_type": "code",
   "execution_count": 6,
   "metadata": {},
   "outputs": [
    {
     "name": "stdout",
     "output_type": "stream",
     "text": [
      "[5, 4, 3, 2, 1]\n",
      "['George', 'Ringo', 'Paul', 'John']\n",
      "['Paul', 'John', 3, 2, 1]\n"
     ]
    }
   ],
   "source": [
    "print(reverse_comprehension([1, 2 ,3 ,4 ,5]))\n",
    "print(reverse_comprehension([\"John\", \"Paul\", \"Ringo\", \"George\"]))\n",
    "print(reverse_comprehension([1, 2 ,3 ,\"John\", \"Paul\"]))"
   ]
  },
  {
   "cell_type": "markdown",
   "metadata": {},
   "source": [
    "## Problem 3 - Combining List\n",
    "\n",
    "Write a function that combines two lists by alternatingly taking elements, e.g. [a,b,c], [1,2,3] → [a,1,b,2,c,3]."
   ]
  },
  {
   "cell_type": "code",
   "execution_count": 7,
   "metadata": {
    "collapsed": true
   },
   "outputs": [],
   "source": [
    "# Using zip. Limitation: Uses the length of shortest list if unequal.\n",
    "def combine_list(list1, list2):\n",
    "    comb_list = []\n",
    "    for a,b in zip(list1, list2):\n",
    "        comb_list.append(a)\n",
    "        comb_list.append(b)\n",
    "    return comb_list"
   ]
  },
  {
   "cell_type": "code",
   "execution_count": 8,
   "metadata": {
    "collapsed": true
   },
   "outputs": [],
   "source": [
    "# Does not use zip. Can handle unequal lists. Alternates as long as possible, else appends the remnants of longer list.\n",
    "def combine_list1(list1, list2):\n",
    "    length = len(list1)\n",
    "    if len(list2) > length:\n",
    "        length = len(list2)\n",
    "    comb_list = []\n",
    "    for idx in range(length):\n",
    "        if idx < len(list1):\n",
    "            comb_list.append(list1[idx])\n",
    "        if idx < len(list2):\n",
    "            comb_list.append(list2[idx])\n",
    "    return comb_list"
   ]
  },
  {
   "cell_type": "code",
   "execution_count": 9,
   "metadata": {},
   "outputs": [
    {
     "name": "stdout",
     "output_type": "stream",
     "text": [
      "[1, 'a', 2, 'b', 3, 'c']\n",
      "\n",
      "[1, 'a', 2, 'b', 3, 'c', 'd', 'e']\n"
     ]
    }
   ],
   "source": [
    "# call your function with a couple of different lists and print the reults here\n",
    "print(combine_list([1,2,3], ['a', 'b', 'c', 'd', 'e']))\n",
    "print()\n",
    "print(combine_list1([1,2,3], ['a', 'b', 'c', 'd', 'e']))"
   ]
  },
  {
   "cell_type": "markdown",
   "metadata": {},
   "source": [
    "## Problem 4 - Numbers to Digits\n",
    "\n",
    "Write a function that takes a number and returns a list of its digits."
   ]
  },
  {
   "cell_type": "code",
   "execution_count": 10,
   "metadata": {
    "collapsed": true
   },
   "outputs": [],
   "source": [
    "# your function goes here\n",
    "# Numerical approach\n",
    "def num2digits(number):\n",
    "    dig_list = []\n",
    "    while(number != 0):\n",
    "        n = number % 10\n",
    "        dig_list.append(n)\n",
    "        number = number // 10 \n",
    "    # here we reverse the list\n",
    "    dig_list = dig_list[::-1]\n",
    "    return dig_list"
   ]
  },
  {
   "cell_type": "code",
   "execution_count": 11,
   "metadata": {
    "collapsed": true
   },
   "outputs": [],
   "source": [
    "# This implementation converts the number to string and then uses list comprehension to convert number\n",
    "# to list of digits in one short statement.\n",
    "def num2digits_comprehension(number):\n",
    "    return [int(char) for char in str(number)]"
   ]
  },
  {
   "cell_type": "code",
   "execution_count": 12,
   "metadata": {},
   "outputs": [
    {
     "name": "stdout",
     "output_type": "stream",
     "text": [
      "[7, 8, 9, 4, 5, 6]\n",
      "[1, 2, 3, 9, 7, 1, 0, 9, 4, 7, 0, 9, 1, 8, 2, 3, 0, 9, 1, 8, 2, 3]\n",
      "\n",
      "[8, 9, 6, 5, 1]\n",
      "[7, 8, 9, 9, 5, 4, 2, 6, 4, 5, 8, 9, 5, 6, 3, 6, 6, 2, 3, 5]\n"
     ]
    }
   ],
   "source": [
    "# call your function with a couple of different lists and print the reults here\n",
    "print(num2digits(789456))\n",
    "print(num2digits(1239710947091823091823))\n",
    "print()\n",
    "print(num2digits_comprehension(89651))\n",
    "print(num2digits_comprehension(78995426458956366235))"
   ]
  },
  {
   "cell_type": "markdown",
   "metadata": {},
   "source": [
    "## Problem 5 - Sums\n",
    "\n",
    "Write three functions that compute the sum of the numbers in a list: using a for-loop, a while-loop and recursion."
   ]
  },
  {
   "cell_type": "code",
   "execution_count": 13,
   "metadata": {
    "collapsed": true
   },
   "outputs": [],
   "source": [
    "# your function goes here\n",
    "def add_for(my_list):\n",
    "    s = 0\n",
    "    for num in my_list:\n",
    "        s += num\n",
    "    return s\n",
    "\n",
    "def add_while(my_list):\n",
    "    s = 0\n",
    "    i = 0\n",
    "    while(i < len(my_list)):\n",
    "        s += my_list[i]\n",
    "        i += 1\n",
    "    return s\n",
    "\n",
    "# An elegant recursive solution that uses slicing. Remember that slicing copies the list.\n",
    "def add_recursive(my_list):\n",
    "    # check if list is empty, empty list evaluates to False\n",
    "    if not my_list:\n",
    "        return 0\n",
    "    else:\n",
    "        # call the function with a slice, leaving off the first element\n",
    "        return my_list[0] + add_recursive(my_list[1:])\n",
    "    \n",
    "# A recursive solution without copying the list. We use a default parameter for index.    \n",
    "def add_recursive_no_copy(my_list, index=0):\n",
    "    if index >= len(my_list):\n",
    "        return 0\n",
    "    else:\n",
    "        return my_list[index] + add_recursive_no_copy(my_list, index+1)"
   ]
  },
  {
   "cell_type": "code",
   "execution_count": 14,
   "metadata": {},
   "outputs": [
    {
     "name": "stdout",
     "output_type": "stream",
     "text": [
      "55 55 55 55\n",
      "\n",
      "52 52 52 52\n",
      "\n",
      "37 37 37 37\n"
     ]
    }
   ],
   "source": [
    "# call your function with a couple of different lists and print the reults here\n",
    "list1 = range(11)\n",
    "list2 = [1, 2, 3, 9, 7, 1, 0, 9, 4, 7, 0, 9]\n",
    "list3 = [ 1, 8, 2, 3, 0, 9, 1, 8, 2, 3]\n",
    "\n",
    "print(add_for(list1), add_while(list1), add_recursive(list1), add_recursive_no_copy(list1))\n",
    "print()\n",
    "print(add_for(list2), add_while(list2), add_recursive(list2), add_recursive_no_copy(list2))\n",
    "print()\n",
    "print(add_for(list3), add_while(list3), add_recursive(list3), add_recursive_no_copy(list3))\n"
   ]
  },
  {
   "cell_type": "markdown",
   "metadata": {},
   "source": [
    "## Problem 6 - Fibonacchi Sequence\n",
    "\n",
    "Write a function that takes a number n and an empty array that writes the first n numbers of the Fibonacchi Sequence into the empty array. Print the array. \n",
    "\n",
    "The Fibonnachi Sequnece where every number after the first two is the sum of the previous two numbers, i.e.,\n",
    "\n",
    "1, 1, 2, 3, 5, 8, 13, 21, 34, 55, ..."
   ]
  },
  {
   "cell_type": "code",
   "execution_count": 15,
   "metadata": {
    "collapsed": true
   },
   "outputs": [],
   "source": [
    "# your function goese here\n",
    "def fibonnachi(n, sequence):\n",
    "    length = len(sequence)\n",
    "    if length == n:\n",
    "        return\n",
    "    if length == 0 or length == 1:       \n",
    "        sequence.append(1)\n",
    "    else:\n",
    "        sequence.append(sequence[length-1]+sequence[length-2])\n",
    "    fibonnachi(n, sequence)    "
   ]
  },
  {
   "cell_type": "code",
   "execution_count": 16,
   "metadata": {},
   "outputs": [
    {
     "name": "stdout",
     "output_type": "stream",
     "text": [
      "[1, 1, 2, 3, 5, 8, 13, 21, 34, 55, 89, 144, 233, 377, 610, 987, 1597, 2584, 4181]\n"
     ]
    }
   ],
   "source": [
    "# call your function with a couple of different n and print the reults here\n",
    "sequence = []\n",
    "fibonnachi(19, sequence)\n",
    "print(sequence)  "
   ]
  },
  {
   "cell_type": "markdown",
   "metadata": {},
   "source": [
    "## Problem 7 - Rainfall\n",
    "\n",
    "Write a function called rainfall that reads a list of numbers representing daily rainfall amounts. The list may contain the number -999 indicating the end of the data of interest. Produce the average of the non-negative values in the list up to the first -999 (if it shows up). There may be negative numbers other than -999 in the list.\n",
    "\n",
    "We provide you with several different test arrays, but your code should work with arbitrary arrays."
   ]
  },
  {
   "cell_type": "code",
   "execution_count": 17,
   "metadata": {
    "collapsed": true
   },
   "outputs": [],
   "source": [
    "rainfall_one = [16, 19, 22, 41, -999, 199, 254]\n",
    "rainfall_two = [33, 24, 10, -2, -99, 0, 15, 82, -1325, 15]\n",
    "rainfall_three = [2, 2, -999, 10]\n",
    "rainfall_four = [-999, 2, 5, -19, 16]\n",
    "rainfall_five = []"
   ]
  },
  {
   "cell_type": "code",
   "execution_count": 18,
   "metadata": {
    "collapsed": true
   },
   "outputs": [],
   "source": [
    "# your function goes here\n",
    "def rainfall(rainfall_list):\n",
    "    i = 0\n",
    "    sum_rainfall = 0 \n",
    "    for v in rainfall_list:\n",
    "        if v == -999:\n",
    "            break\n",
    "        elif v < 0: \n",
    "            continue;\n",
    "        else:\n",
    "            i += 1\n",
    "            sum_rainfall += v\n",
    "    \n",
    "    if i > 0:       \n",
    "        return sum_rainfall / i\n",
    "    else:\n",
    "        return 0"
   ]
  },
  {
   "cell_type": "code",
   "execution_count": 19,
   "metadata": {},
   "outputs": [
    {
     "data": {
      "text/plain": [
       "24.5"
      ]
     },
     "execution_count": 19,
     "metadata": {},
     "output_type": "execute_result"
    }
   ],
   "source": [
    "# print the results for all the lists above here\n",
    "rainfall(rainfall_one)"
   ]
  },
  {
   "cell_type": "code",
   "execution_count": 20,
   "metadata": {},
   "outputs": [
    {
     "data": {
      "text/plain": [
       "25.571428571428573"
      ]
     },
     "execution_count": 20,
     "metadata": {},
     "output_type": "execute_result"
    }
   ],
   "source": [
    "rainfall(rainfall_two)"
   ]
  },
  {
   "cell_type": "code",
   "execution_count": 21,
   "metadata": {},
   "outputs": [
    {
     "data": {
      "text/plain": [
       "2.0"
      ]
     },
     "execution_count": 21,
     "metadata": {},
     "output_type": "execute_result"
    }
   ],
   "source": [
    "rainfall(rainfall_three)"
   ]
  },
  {
   "cell_type": "code",
   "execution_count": 22,
   "metadata": {},
   "outputs": [
    {
     "data": {
      "text/plain": [
       "0"
      ]
     },
     "execution_count": 22,
     "metadata": {},
     "output_type": "execute_result"
    }
   ],
   "source": [
    "rainfall(rainfall_four)"
   ]
  },
  {
   "cell_type": "code",
   "execution_count": 23,
   "metadata": {},
   "outputs": [
    {
     "data": {
      "text/plain": [
       "0"
      ]
     },
     "execution_count": 23,
     "metadata": {},
     "output_type": "execute_result"
    }
   ],
   "source": [
    "rainfall(rainfall_five)"
   ]
  }
 ],
 "metadata": {
  "anaconda-cloud": {},
  "kernelspec": {
   "display_name": "Python 3",
   "language": "python",
   "name": "python3"
  },
  "language_info": {
   "codemirror_mode": {
    "name": "ipython",
    "version": 3
   },
   "file_extension": ".py",
   "mimetype": "text/x-python",
   "name": "python",
   "nbconvert_exporter": "python",
   "pygments_lexer": "ipython3",
   "version": "3.6.3"
  }
 },
 "nbformat": 4,
 "nbformat_minor": 1
}
