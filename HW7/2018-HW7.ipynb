{
 "cells": [
  {
   "cell_type": "markdown",
   "metadata": {},
   "source": [
    "# Introduction to Data Science - Homework 7\n",
    "*COMP 5360 / MATH 4100, University of Utah, http://datasciencecourse.net/*\n",
    "\n",
    "Due: Friday, March 9, 11:59pm.\n",
    "\n",
    "In this homework, you will use classification methods to classify handwritten digits (Part 1) and predict the popularity of online news (Part 2). We hope these exercises will give you an idea of the broad usage of classificaiton methods. "
   ]
  },
  {
   "cell_type": "markdown",
   "metadata": {},
   "source": [
    "## Your Data\n",
    "First Name: Brooke\n",
    "<br>\n",
    "Last Name: Stanislawski\n",
    "<br>\n",
    "E-mail: brooke.stanislawski@utah.edu\n",
    "<br>\n",
    "UID: u1142223\n",
    "<br>"
   ]
  },
  {
   "cell_type": "code",
   "execution_count": 1,
   "metadata": {
    "collapsed": true
   },
   "outputs": [],
   "source": [
    "# imports and setup \n",
    "\n",
    "import pandas as pd\n",
    "import numpy as np\n",
    "\n",
    "from sklearn import tree, svm, metrics\n",
    "from sklearn.neighbors import KNeighborsClassifier\n",
    "from sklearn.model_selection import train_test_split, cross_val_predict, cross_val_score, KFold\n",
    "from sklearn.datasets import load_digits\n",
    "from sklearn.preprocessing import scale\n",
    "\n",
    "import matplotlib.pyplot as plt\n",
    "%matplotlib inline\n",
    "plt.rcParams['figure.figsize'] = (10, 6)\n",
    "plt.style.use('ggplot')"
   ]
  },
  {
   "cell_type": "markdown",
   "metadata": {},
   "source": [
    "## Part1: MNIST handwritten digits\n",
    "\n",
    "THE MNIST handwritten digit dataset consists of images of handwritten digits, together with labels indicating which digit is in each image. You will see that images are just matrices with scalar values, and that we can use all the classifcation algorithms we studied on them.\n",
    "\n",
    "Becaue both the features and the labels are present in this dataset (and labels for large datasets are generally difficult/expensive to obtain), this dataset is frequently used as a benchmark to compare various classification methods. \n",
    "For example, [this webpage](http://yann.lecun.com/exdb/mnist/) gives a comparison of a variety of different classification methods on MNIST (Note that the tests on this website are for higher resolution images than we'll use.) \n",
    "\n",
    "In this problem, we'll use scikit-learn to compare classification methods on the MNIST dataset. \n",
    "\n",
    "There are several versions of the MNIST dataset. We'll use the one that is built-into scikit-learn, described [here](http://scikit-learn.org/stable/modules/generated/sklearn.datasets.load_digits.html). \n",
    "\n",
    "* Classes: 10 (one for each digit)\n",
    "* Samples total: 1797\n",
    "* Samples per class: $\\approx$180\n",
    "* Dimensionality: 64 (8 pixels by 8 pixels)\n",
    "* Features: integers 0-16 (grayscale value; 0 is white, 16 is black)\n",
    "\n",
    "Here are some examples of the images. Note that the digits have been size-normalized and centered in a fixed-size ($8\\times8$ pixels) image.\n",
    "\n",
    "<img src=\"http://scikit-learn.org/stable/_images/sphx_glr_plot_digits_classification_001.png\" width=\"500\">"
   ]
  },
  {
   "cell_type": "markdown",
   "metadata": {},
   "source": [
    "Note that we will scale the data before running them through our algorithms, which will also alter their appearance when we plot them. You can read details about scaling and why it's important [here](http://scikit-learn.org/stable/modules/preprocessing.html#standardization-or-mean-removal-and-variance-scaling)."
   ]
  },
  {
   "cell_type": "code",
   "execution_count": 2,
   "metadata": {},
   "outputs": [
    {
     "name": "stdout",
     "output_type": "stream",
     "text": [
      "<class 'numpy.ndarray'>\n",
      "n_digits: 10, n_samples 1797, n_features 64\n"
     ]
    }
   ],
   "source": [
    "digits = load_digits()\n",
    "X = scale(digits.data)\n",
    "y = digits.target\n",
    "print(type(X))\n",
    "\n",
    "n_samples, n_features = X.shape\n",
    "n_digits = len(np.unique(digits.target))\n",
    "print(\"n_digits: %d, n_samples %d, n_features %d\" % (n_digits, n_samples, n_features))"
   ]
  },
  {
   "cell_type": "code",
   "execution_count": 3,
   "metadata": {},
   "outputs": [
    {
     "name": "stdout",
     "output_type": "stream",
     "text": [
      "===\n",
      "The raw data\n",
      "[[  0.   0.   5.  13.   9.   1.   0.   0.]\n",
      " [  0.   0.  13.  15.  10.  15.   5.   0.]\n",
      " [  0.   3.  15.   2.   0.  11.   8.   0.]\n",
      " [  0.   4.  12.   0.   0.   8.   8.   0.]\n",
      " [  0.   5.   8.   0.   0.   9.   8.   0.]\n",
      " [  0.   4.  11.   0.   1.  12.   7.   0.]\n",
      " [  0.   2.  14.   5.  10.  12.   0.   0.]\n",
      " [  0.   0.   6.  13.  10.   0.   0.   0.]]\n",
      "===\n",
      "The scaled data\n",
      "[ 0.         -0.33501649 -0.04308102  0.27407152 -0.66447751 -0.84412939\n",
      " -0.40972392 -0.12502292 -0.05907756 -0.62400926  0.4829745   0.75962245\n",
      " -0.05842586  1.12772113  0.87958306 -0.13043338 -0.04462507  0.11144272\n",
      "  0.89588044 -0.86066632 -1.14964846  0.51547187  1.90596347 -0.11422184\n",
      " -0.03337973  0.48648928  0.46988512 -1.49990136 -1.61406277  0.07639777\n",
      "  1.54181413 -0.04723238  0.          0.76465553  0.05263019 -1.44763006\n",
      " -1.73666443  0.04361588  1.43955804  0.         -0.06134367  0.8105536\n",
      "  0.63011714 -1.12245711 -1.06623158  0.66096475  0.81845076 -0.08874162\n",
      " -0.03543326  0.74211893  1.15065212 -0.86867056  0.11012973  0.53761116\n",
      " -0.75743581 -0.20978513 -0.02359646 -0.29908135  0.08671869  0.20829258\n",
      " -0.36677122 -1.14664746 -0.5056698  -0.19600752]\n",
      "===\n",
      "The digit\n",
      "0\n"
     ]
    }
   ],
   "source": [
    "# this is what one digit (a zero) looks like\n",
    "print(\"===\\nThe raw data\")\n",
    "print(digits.images[0])\n",
    "print(\"===\\nThe scaled data\")\n",
    "print(X[0])\n",
    "print(\"===\\nThe digit\")\n",
    "print(digits.target[0])"
   ]
  },
  {
   "cell_type": "code",
   "execution_count": 4,
   "metadata": {},
   "outputs": [
    {
     "data": {
      "image/png": "[encoded data removed]",
      "text/plain": [
       "<matplotlib.figure.Figure at 0x20d92d7dac8>"
      ]
     },
     "metadata": {},
     "output_type": "display_data"
    }
   ],
   "source": [
    "plt.figure(figsize= (10, 10))    \n",
    "for ii in np.arange(25):\n",
    "    plt.subplot(5, 5, ii+1)\n",
    "    plt.imshow(np.reshape(X[ii,:],(8,8)), cmap='Greys',interpolation='nearest')\n",
    "    plt.axis('off')\n",
    "plt.show()"
   ]
  },
  {
   "cell_type": "markdown",
   "metadata": {},
   "source": [
    "You might find [this webpage](http://scikit-learn.org/stable/tutorial/basic/tutorial.html) helpful. "
   ]
  },
  {
   "cell_type": "markdown",
   "metadata": {},
   "source": [
    "### Task 1.1: Classification with Support Vector Machines (SVM)\n",
    "\n",
    "1. Split the data into a training and test set using the command \n",
    "```\n",
    "train_test_split(X, y, random_state=1, test_size=0.8)\n",
    "```\n",
    "+ Use SVM with an `rbf` kernel and parameter `C=100` to build a classifier using the *training dataset*.\n",
    "+ Using the *test dataset*, evaluate the accuracy of the model. Again using the *test dataset*, compute the confusion matrix. What is the most common mistake that the classifier makes? \n",
    "+ Print all of these misclassified digits as images. \n",
    "+ Using the 'cross_val_score' function, evaluate the accuracy of the SVM for 100 different values of the parameter C between 1 and 500. What is the best value? \n",
    "+ Try to train and test the algorithm on the raw (non-scaled) data. What's your accuracy score?"
   ]
  },
  {
   "cell_type": "code",
   "execution_count": 5,
   "metadata": {},
   "outputs": [
    {
     "data": {
      "text/plain": [
       "SVC(C=100, cache_size=200, class_weight=None, coef0=0.0,\n",
       "  decision_function_shape='ovr', degree=3, gamma='auto', kernel='rbf',\n",
       "  max_iter=-1, probability=False, random_state=None, shrinking=True,\n",
       "  tol=0.001, verbose=False)"
      ]
     },
     "execution_count": 5,
     "metadata": {},
     "output_type": "execute_result"
    }
   ],
   "source": [
    "# your solution goes here\n",
    "X_train, X_test, y_train, y_test = train_test_split(X, y, random_state=1, test_size=0.3) # test_size=0.8 doesn't make sense\n",
    "\n",
    "dig_svm = svm.SVC(kernel='rbf',C=100)\n",
    "dig_svm.fit(X_train, y_train)"
   ]
  },
  {
   "cell_type": "code",
   "execution_count": 6,
   "metadata": {
    "scrolled": true
   },
   "outputs": [
    {
     "name": "stdout",
     "output_type": "stream",
     "text": [
      "Confusion Matrix\n",
      "[[59  0  0  0  0  0  0  0  0  0]\n",
      " [ 0 48  0  0  1  0  0  0  0  0]\n",
      " [ 0  0 47  0  1  0  0  1  0  0]\n",
      " [ 0  0  2 62  0  0  0  0  0  0]\n",
      " [ 0  0  0  0 61  0  0  0  0  0]\n",
      " [ 0  0  0  0  0 46  0  0  0  1]\n",
      " [ 0  0  0  0  0  0 51  0  0  0]\n",
      " [ 0  0  0  0  0  0  0 56  0  1]\n",
      " [ 0  0  0  1  1  0  0  0 44  0]\n",
      " [ 0  0  0  0  0  1  1  0  0 55]]\n",
      "Accuracy =  0.97962962963\n"
     ]
    }
   ],
   "source": [
    "y_pred = dig_svm.predict(X_test)\n",
    "print('Confusion Matrix')\n",
    "print(metrics.confusion_matrix(y_true = y_test, y_pred = y_pred))\n",
    "print('Accuracy = ', metrics.accuracy_score(y_true = y_test, y_pred = y_pred))"
   ]
  },
  {
   "cell_type": "code",
   "execution_count": 7,
   "metadata": {},
   "outputs": [
    {
     "name": "stdout",
     "output_type": "stream",
     "text": [
      "[387 400]\n"
     ]
    },
    {
     "data": {
      "image/png": "[encoded data removed]",
      "text/plain": [
       "<matplotlib.figure.Figure at 0x20d92fc2320>"
      ]
     },
     "metadata": {},
     "output_type": "display_data"
    }
   ],
   "source": [
    "# Task 1.1.4 print misclassified digits as images: 2 images misclassified as 2, when they were 3 in reality\n",
    "inds = np.intersect1d(np.where(y_test==3),np.where(y_pred==2))\n",
    "print(inds)\n",
    "\n",
    "for ii,ind in enumerate(inds):\n",
    "    plt.subplot(1, 2, ii+1)\n",
    "    plt.imshow(np.reshape(X_test[ind,:],(8,8)), cmap='Greys',interpolation='nearest')\n",
    "    plt.axis('off')\n",
    "    \n",
    "plt.show()       \n"
   ]
  },
  {
   "cell_type": "code",
   "execution_count": 8,
   "metadata": {},
   "outputs": [
    {
     "data": {
      "image/png": "[encoded data removed]",
      "text/plain": [
       "<matplotlib.figure.Figure at 0x20d938bbd30>"
      ]
     },
     "metadata": {},
     "output_type": "display_data"
    }
   ],
   "source": [
    "#%% Task 1.1.5 \n",
    "dig_svm.get_params()\n",
    "\n",
    "Cs = np.linspace(1,500,100)\n",
    "Accuracies = np.zeros(Cs.shape[0])\n",
    "for i,C in enumerate(Cs): \n",
    "    dig_svm = svm.SVC(kernel='rbf', C = C)\n",
    "    scores = cross_val_score(estimator = dig_svm, X = X, y = y, cv=5, scoring='accuracy')\n",
    "    Accuracies[i]  = scores.mean()\n",
    "        \n",
    "plt.plot(Cs,Accuracies)\n",
    "plt.title('Evaluating accuracy wrt C')\n",
    "plt.xlabel('C value')\n",
    "plt.ylabel('Accuracy')\n",
    "plt.show()"
   ]
  },
  {
   "cell_type": "code",
   "execution_count": 9,
   "metadata": {
    "scrolled": true
   },
   "outputs": [
    {
     "data": {
      "image/png": "[encoded data removed]",
      "text/plain": [
       "<matplotlib.figure.Figure at 0x20d8ee809e8>"
      ]
     },
     "metadata": {},
     "output_type": "display_data"
    }
   ],
   "source": [
    "plt.plot(Cs,Accuracies)\n",
    "plt.title('Evaluating accuracy wrt C')\n",
    "plt.xlabel('C value')\n",
    "plt.ylabel('Accuracy')\n",
    "plt.xlim(0,10)\n",
    "plt.show()"
   ]
  },
  {
   "cell_type": "code",
   "execution_count": 10,
   "metadata": {
    "scrolled": true
   },
   "outputs": [
    {
     "name": "stdout",
     "output_type": "stream",
     "text": [
      "Confusion Matrix\n",
      "[[31  0  0  0  0 28  0  0  0  0]\n",
      " [ 0 19  0  0  0 30  0  0  0  0]\n",
      " [ 0  0 22  0  0 27  0  0  0  0]\n",
      " [ 0  0  0 12  0 52  0  0  0  0]\n",
      " [ 0  0  0  0 19 42  0  0  0  0]\n",
      " [ 0  0  0  0  0 47  0  0  0  0]\n",
      " [ 0  0  0  0  0 18 33  0  0  0]\n",
      " [ 0  0  0  0  0 35  0 22  0  0]\n",
      " [ 0  0  0  0  0 36  0  0 10  0]\n",
      " [ 0  0  0  0  0 51  0  0  0  6]]\n",
      "Accuracy =  0.409259259259\n"
     ]
    }
   ],
   "source": [
    "#%% Task 1.1.6\n",
    "\n",
    "Xraw = digits.data\n",
    "X_train, X_test, y_train, y_test = train_test_split(Xraw, y, random_state=1, test_size=0.3)\n",
    "\n",
    "rawdig_svm = svm.SVC(kernel='rbf',C=100)\n",
    "rawdig_svm.fit(X_train, y_train)\n",
    "\n",
    "y_pred = rawdig_svm.predict(X_test)\n",
    "print('Confusion Matrix')\n",
    "print(metrics.confusion_matrix(y_true = y_test, y_pred = y_pred))\n",
    "print('Accuracy = ', metrics.accuracy_score(y_true = y_test, y_pred = y_pred))"
   ]
  },
  {
   "cell_type": "code",
   "execution_count": 11,
   "metadata": {},
   "outputs": [
    {
     "data": {
      "image/png": "[encoded data removed]",
      "text/plain": [
       "<matplotlib.figure.Figure at 0x20d93a8d828>"
      ]
     },
     "metadata": {},
     "output_type": "display_data"
    }
   ],
   "source": [
    "rawdig_svm.get_params()\n",
    "\n",
    "Cs = np.linspace(1,500,100)\n",
    "Accuracies = np.zeros(Cs.shape[0])\n",
    "for i,C in enumerate(Cs):\n",
    "    rawdig_svm = svm.SVC(kernel='rbf', C = C)\n",
    "    scores = cross_val_score(estimator = rawdig_svm, X = Xraw, y = y, cv=5, scoring='accuracy') \n",
    "    Accuracies[i]  = scores.mean()\n",
    "    \n",
    "plt.plot(Cs,Accuracies)\n",
    "plt.title('Evaluating accuracy of C')\n",
    "plt.xlabel('C value')\n",
    "plt.ylabel('Accuracy')\n",
    "plt.show()"
   ]
  },
  {
   "cell_type": "code",
   "execution_count": 12,
   "metadata": {},
   "outputs": [
    {
     "data": {
      "image/png": "[encoded data removed]",
      "text/plain": [
       "<matplotlib.figure.Figure at 0x20d93a10940>"
      ]
     },
     "metadata": {},
     "output_type": "display_data"
    }
   ],
   "source": [
    "plt.plot(Cs,Accuracies)\n",
    "plt.title('Evaluating accuracy of C')\n",
    "plt.xlabel('C value')\n",
    "plt.ylabel('Accuracy')\n",
    "plt.xlim(0,10) # change this to 0, 10\n",
    "plt.show()"
   ]
  },
  {
   "cell_type": "markdown",
   "metadata": {},
   "source": [
    "**Your Interpretation**: Using the test dataset and with a test_size of 0.3, the model's accuracy is ~98%, meaning that 98% of the images were classified correctly.  As seen in the confusion matrix, the most common mistake made by the model is incorrectly classifying 2 digits as '2' when they were actually a '3', which it did in two cases.\n",
    "\n",
    "In Task 1.1.5, we evaluate accuracies of the SVM model and found that any C greater than or equal to 6 results in a constant maximum accuracy of 95.4% using cross validation.\n",
    "\n",
    "In Task 1.1.6, using the raw, unscaled data yielded an accuracy of 0.41, which is significantly lower than the model using the scaled data.  The model misclassified 52 images as '5' when they were actually '3'.  Interestingly, this model had the most trouble with handwritten images of the digit '5'.\n",
    "\n",
    "Evaluating several different values of C for the model on raw data, the plot shows that any C greater than or equal to 6 should yield a cross-validation accuracy of ~0.475."
   ]
  },
  {
   "cell_type": "markdown",
   "metadata": {},
   "source": [
    "### Task 1.2: Prediction with k-nearest neighbors\n",
    "Repeat task 1.1 using k-nearest neighbors (k-NN). In part 1, use k=10. In part 3, find the best value of k. "
   ]
  },
  {
   "cell_type": "code",
   "execution_count": 13,
   "metadata": {
    "scrolled": true
   },
   "outputs": [
    {
     "name": "stdout",
     "output_type": "stream",
     "text": [
      "Confusion Matrix\n",
      "[[59  0  0  0  0  0  0  0  0  0]\n",
      " [ 0 47  1  0  0  1  0  0  0  0]\n",
      " [ 0  0 48  0  0  0  0  1  0  0]\n",
      " [ 0  0  1 61  0  0  0  1  1  0]\n",
      " [ 0  1  0  0 59  0  0  1  0  0]\n",
      " [ 0  1  0  0  0 46  0  0  0  0]\n",
      " [ 0  0  0  0  0  0 51  0  0  0]\n",
      " [ 0  0  0  0  0  0  0 56  0  1]\n",
      " [ 0  2  1  0  0  0  0  0 43  0]\n",
      " [ 0  0  0  1  0  2  1  1  0 52]]\n",
      "Accuracy =  0.966666666667\n"
     ]
    }
   ],
   "source": [
    "# your solution goes here\n",
    "\n",
    "k = 10\n",
    "X = scale(digits.data)\n",
    "X_train, X_test, y_train, y_test = train_test_split(X, y, random_state=1, test_size=0.3)\n",
    "knn_model = KNeighborsClassifier(n_neighbors=k)\n",
    "knn_model.fit(X_train, y_train)\n",
    "\n",
    "y_pred = knn_model.predict(X_test)\n",
    "print('Confusion Matrix')\n",
    "print(metrics.confusion_matrix(y_true = y_test, y_pred = y_pred))\n",
    "print('Accuracy = ', metrics.accuracy_score(y_true = y_test, y_pred = y_pred))"
   ]
  },
  {
   "cell_type": "code",
   "execution_count": 14,
   "metadata": {},
   "outputs": [
    {
     "name": "stdout",
     "output_type": "stream",
     "text": [
      "[347 523]\n"
     ]
    },
    {
     "data": {
      "image/png": "[encoded data removed]",
      "text/plain": [
       "<matplotlib.figure.Figure at 0x20d93b73470>"
      ]
     },
     "metadata": {},
     "output_type": "display_data"
    },
    {
     "name": "stdout",
     "output_type": "stream",
     "text": [
      "[515 537]\n"
     ]
    },
    {
     "data": {
      "image/png": "[encoded data removed]",
      "text/plain": [
       "<matplotlib.figure.Figure at 0x20d93a70828>"
      ]
     },
     "metadata": {},
     "output_type": "display_data"
    }
   ],
   "source": [
    "#%% Task 1.2.4 print misclassified digits as images\n",
    "inds = np.intersect1d(np.where(y_test==8),np.where(y_pred==1))\n",
    "print(inds)\n",
    "\n",
    "for ii,ind in enumerate(inds):\n",
    "    plt.subplot(1, 2, ii+1)\n",
    "    plt.imshow(np.reshape(X_test[ind,:],(8,8)), cmap='Greys',interpolation='nearest')\n",
    "    plt.axis('off')\n",
    "    \n",
    "plt.show()   \n",
    "\n",
    "inds = np.intersect1d(np.where(y_test==9),np.where(y_pred==5))\n",
    "print(inds)\n",
    "\n",
    "for ii,ind in enumerate(inds):\n",
    "    plt.subplot(1, 2, ii+1)\n",
    "    plt.imshow(np.reshape(X_test[ind,:],(8,8)), cmap='Greys',interpolation='nearest')\n",
    "    plt.axis('off')\n",
    "    \n",
    "plt.show()  "
   ]
  },
  {
   "cell_type": "code",
   "execution_count": 15,
   "metadata": {},
   "outputs": [
    {
     "data": {
      "image/png": "[encoded data removed]",
      "text/plain": [
       "<matplotlib.figure.Figure at 0x20d938bb048>"
      ]
     },
     "metadata": {},
     "output_type": "display_data"
    }
   ],
   "source": [
    "#%% Task 1.2.5 \n",
    "\n",
    "knn_model.get_params()\n",
    "\n",
    "Ks = np.linspace(1,100,100)\n",
    "Accuracies = np.zeros(Ks.shape[0])\n",
    "for i,k in enumerate(Ks):\n",
    "    knn_model = KNeighborsClassifier(n_neighbors=int(k))\n",
    "    scores = cross_val_score(estimator = knn_model, X = X, y = y, cv=5, scoring='accuracy')\n",
    "    Accuracies[i]  = scores.mean()\n",
    "\n",
    "plt.plot(Ks,Accuracies)\n",
    "plt.title('Evaluating accuracy of k-values')\n",
    "plt.xlabel('k value')\n",
    "plt.ylabel('Accuracy')\n",
    "plt.show()"
   ]
  },
  {
   "cell_type": "code",
   "execution_count": 16,
   "metadata": {
    "scrolled": true
   },
   "outputs": [
    {
     "data": {
      "image/png": "[encoded data removed]",
      "text/plain": [
       "<matplotlib.figure.Figure at 0x20d93b6abe0>"
      ]
     },
     "metadata": {},
     "output_type": "display_data"
    }
   ],
   "source": [
    "plt.plot(Ks,Accuracies)\n",
    "plt.title('Evaluating accuracy of k-values')\n",
    "plt.xlabel('k value')\n",
    "plt.ylabel('Accuracy')\n",
    "plt.xlim(0,20)\n",
    "plt.ylim(0.92,0.95)\n",
    "plt.show()"
   ]
  },
  {
   "cell_type": "code",
   "execution_count": 17,
   "metadata": {},
   "outputs": [
    {
     "name": "stdout",
     "output_type": "stream",
     "text": [
      "Confusion Matrix\n",
      "[[59  0  0  0  0  0  0  0  0  0]\n",
      " [ 0 48  0  0  0  1  0  0  0  0]\n",
      " [ 0  0 48  0  0  0  0  1  0  0]\n",
      " [ 0  0  1 63  0  0  0  0  0  0]\n",
      " [ 0  1  0  0 59  0  0  1  0  0]\n",
      " [ 0  1  0  0  0 45  0  0  0  1]\n",
      " [ 0  0  0  0  0  0 51  0  0  0]\n",
      " [ 0  0  0  0  0  0  0 56  0  1]\n",
      " [ 0  3  0  1  0  0  0  0 42  0]\n",
      " [ 0  0  0  0  0  1  1  0  0 55]]\n",
      "Accuracy =  0.974074074074\n"
     ]
    }
   ],
   "source": [
    "# using k = 6\n",
    "k = 6\n",
    "X = scale(digits.data)\n",
    "X_train, X_test, y_train, y_test = train_test_split(X, y, random_state=1, test_size=0.3)\n",
    "knn_model = KNeighborsClassifier(n_neighbors=k)\n",
    "knn_model.fit(X_train, y_train)\n",
    "\n",
    "y_pred = knn_model.predict(X_test)\n",
    "print('Confusion Matrix')\n",
    "print(metrics.confusion_matrix(y_true = y_test, y_pred = y_pred))\n",
    "print('Accuracy = ', metrics.accuracy_score(y_true = y_test, y_pred = y_pred))"
   ]
  },
  {
   "cell_type": "code",
   "execution_count": 18,
   "metadata": {},
   "outputs": [
    {
     "name": "stdout",
     "output_type": "stream",
     "text": [
      "Confusion Matrix\n",
      "[[58  0  0  0  1  0  0  0  0  0]\n",
      " [ 0 49  0  0  0  0  0  0  0  0]\n",
      " [ 0  0 48  0  0  0  0  1  0  0]\n",
      " [ 0  0  0 64  0  0  0  0  0  0]\n",
      " [ 0  0  0  0 61  0  0  0  0  0]\n",
      " [ 0  0  0  0  0 46  0  0  0  1]\n",
      " [ 0  0  0  0  0  0 51  0  0  0]\n",
      " [ 0  0  0  0  0  0  0 57  0  0]\n",
      " [ 0  2  0  0  0  0  0  0 44  0]\n",
      " [ 0  0  0  0  0  1  0  0  0 56]]\n",
      "Accuracy =  0.988888888889\n"
     ]
    }
   ],
   "source": [
    "#%% Task 1.2.6 raw data\n",
    "k = 6\n",
    "\n",
    "Xraw = digits.data\n",
    "X_train, X_test, y_train, y_test = train_test_split(Xraw, y, random_state=1, test_size=0.3)\n",
    "\n",
    "rawdig_knn = KNeighborsClassifier(n_neighbors=k)\n",
    "rawdig_knn.fit(X_train, y_train)\n",
    "\n",
    "y_pred = rawdig_knn.predict(X_test)\n",
    "print('Confusion Matrix')\n",
    "print(metrics.confusion_matrix(y_true = y_test, y_pred = y_pred))\n",
    "print('Accuracy = ', metrics.accuracy_score(y_true = y_test, y_pred = y_pred))"
   ]
  },
  {
   "cell_type": "code",
   "execution_count": 19,
   "metadata": {},
   "outputs": [
    {
     "data": {
      "image/png": "[encoded data removed]",
      "text/plain": [
       "<matplotlib.figure.Figure at 0x20d93aab6a0>"
      ]
     },
     "metadata": {},
     "output_type": "display_data"
    }
   ],
   "source": [
    "rawdig_knn.get_params()\n",
    "\n",
    "Cs = np.linspace(1,500,100)\n",
    "Accuracies = np.zeros(Cs.shape[0])\n",
    "for i,C in enumerate(Cs):\n",
    "    rawdig_knn = svm.SVC(kernel='rbf', C = C)\n",
    "    scores = cross_val_score(estimator = rawdig_knn, X = Xraw, y = y, cv=5, scoring='accuracy')\n",
    "    Accuracies[i]  = scores.mean()\n",
    "    \n",
    "plt.plot(Cs,Accuracies)\n",
    "plt.title('Evaluating accuracy of C')\n",
    "plt.xlabel('C value')\n",
    "plt.ylabel('Accuracy')\n",
    "plt.show()\n"
   ]
  },
  {
   "cell_type": "code",
   "execution_count": 20,
   "metadata": {},
   "outputs": [
    {
     "data": {
      "image/png": "[encoded data removed]",
      "text/plain": [
       "<matplotlib.figure.Figure at 0x20d93a4ba20>"
      ]
     },
     "metadata": {},
     "output_type": "display_data"
    }
   ],
   "source": [
    "plt.plot(Cs,Accuracies)\n",
    "plt.title('Evaluating accuracy of C')\n",
    "plt.xlabel('C value')\n",
    "plt.ylabel('Accuracy')\n",
    "plt.xlim(0,10) # change this to 0, 10\n",
    "plt.show()"
   ]
  },
  {
   "cell_type": "markdown",
   "metadata": {},
   "source": [
    "**Your Interpretation**: Using k-NN with a test_size of 0.3, we see an accuracy of 0.97, which is almost as good as the SVM accuracy of 0.98 in Task 1.1.  The most common mistake, which is seen in the Confusion Matrix, is that the model mis-classified 2 data points as Class 1 when they were actually class 8 and 2 more data points as class 5 when they were actually class 9.\n",
    "\n",
    "In Task 1.2.5, the variations of k show that there are two k-values that would yield high accuracy values including k = 3 and k = 6, using cross-validation.  At k-values greater than 10, accuracy decreases steadily. Using k = 6, our accuracy of the k-NN model increased marginally from 0.966667 to 0.974.\n",
    "\n",
    "In Task 1.6.6, we use the raw data.  Using k = 6, we get an accuracy of 0.988889, which is incredible.  Evidently, the k-NN model does very well on unscaled data."
   ]
  },
  {
   "cell_type": "markdown",
   "metadata": {},
   "source": [
    "# Part 2: Popularity of online news\n",
    "\n",
    "For this problem, you will use classification tools to predict the popularity of online news based on attributes such as the length of the article, the number of images, the day of the week that the article was published, and some variables related to the content of the article. You can learn details about the datasetat the\n",
    "[UCI Machine Learning Repository](https://archive.ics.uci.edu/ml/datasets/Online+News+Popularity). \n",
    "This dataset was first used in the following conference paper: \n",
    "\n",
    "K. Fernandes, P. Vinagre and P. Cortez. A Proactive Intelligent Decision Support System for Predicting the Popularity of Online News. *Proceedings of the 17th EPIA 2015 - Portuguese Conference on Artificial Intelligence* (2015).\n",
    "\n",
    "The dataset contains variables describing 39,644 articles published between January 7, 2013 and Januyary 7, 2015 on the news website, [Mashable](http://mashable.com/). \n",
    "There are 61 variables associated with each article. Of these, 58 are *predictor* variables, 2 are variables that we will not use (url and timedelta), and finally the number of shares of each article. The number of shares is what we will use to define whether or not the article was *popular*, which is what we will try to predict. You should read about the predictor variables in the file *OnlineNewsPopularity.names*. Further details about the collection and processing of the articles can be found in the conference paper. \n",
    "\n",
    "\n",
    "### Task 2.1 Import the data \n",
    "* Use the pandas.read_csv() function to import the dataset.\n",
    "* To us[scikit-learn](http://scikit-learn.org), we'll need to save the data as a numpy array. Use the *DataFrame.as_matrix()* command to export the predictor variables as a numpy array called *X* this array should not include our target variable (the number of shares). We don't need the url and timedelta, so let's drop these columns. \n",
    "* Export the number of shares as a separate numpy array, called *shares*. We'll define an article to be popular if it received more shares than the median number of shares. Create a binary numpy array, *y*, which indicates whether or not each article is popular."
   ]
  },
  {
   "cell_type": "code",
   "execution_count": 21,
   "metadata": {
    "scrolled": true
   },
   "outputs": [
    {
     "data": {
      "text/html": [
       "<div>\n",
       "<style>\n",
       "    .dataframe thead tr:only-child th {\n",
       "        text-align: right;\n",
       "    }\n",
       "\n",
       "    .dataframe thead th {\n",
       "        text-align: left;\n",
       "    }\n",
       "\n",
       "    .dataframe tbody tr th {\n",
       "        vertical-align: top;\n",
       "    }\n",
       "</style>\n",
       "<table border=\"1\" class=\"dataframe\">\n",
       "  <thead>\n",
       "    <tr style=\"text-align: right;\">\n",
       "      <th></th>\n",
       "      <th>url</th>\n",
       "      <th>timedelta</th>\n",
       "      <th>n_tokens_title</th>\n",
       "      <th>n_tokens_content</th>\n",
       "      <th>n_unique_tokens</th>\n",
       "      <th>n_non_stop_words</th>\n",
       "      <th>n_non_stop_unique_tokens</th>\n",
       "      <th>num_hrefs</th>\n",
       "      <th>num_self_hrefs</th>\n",
       "      <th>num_imgs</th>\n",
       "      <th>...</th>\n",
       "      <th>min_positive_polarity</th>\n",
       "      <th>max_positive_polarity</th>\n",
       "      <th>avg_negative_polarity</th>\n",
       "      <th>min_negative_polarity</th>\n",
       "      <th>max_negative_polarity</th>\n",
       "      <th>title_subjectivity</th>\n",
       "      <th>title_sentiment_polarity</th>\n",
       "      <th>abs_title_subjectivity</th>\n",
       "      <th>abs_title_sentiment_polarity</th>\n",
       "      <th>shares</th>\n",
       "    </tr>\n",
       "  </thead>\n",
       "  <tbody>\n",
       "    <tr>\n",
       "      <th>0</th>\n",
       "      <td>http://mashable.com/2013/01/07/amazon-instant-...</td>\n",
       "      <td>731.0</td>\n",
       "      <td>12.0</td>\n",
       "      <td>219.0</td>\n",
       "      <td>0.663594</td>\n",
       "      <td>1.0</td>\n",
       "      <td>0.815385</td>\n",
       "      <td>4.0</td>\n",
       "      <td>2.0</td>\n",
       "      <td>1.0</td>\n",
       "      <td>...</td>\n",
       "      <td>0.100000</td>\n",
       "      <td>0.7</td>\n",
       "      <td>-0.350000</td>\n",
       "      <td>-0.600</td>\n",
       "      <td>-0.200000</td>\n",
       "      <td>0.500000</td>\n",
       "      <td>-0.187500</td>\n",
       "      <td>0.000000</td>\n",
       "      <td>0.187500</td>\n",
       "      <td>593</td>\n",
       "    </tr>\n",
       "    <tr>\n",
       "      <th>1</th>\n",
       "      <td>http://mashable.com/2013/01/07/ap-samsung-spon...</td>\n",
       "      <td>731.0</td>\n",
       "      <td>9.0</td>\n",
       "      <td>255.0</td>\n",
       "      <td>0.604743</td>\n",
       "      <td>1.0</td>\n",
       "      <td>0.791946</td>\n",
       "      <td>3.0</td>\n",
       "      <td>1.0</td>\n",
       "      <td>1.0</td>\n",
       "      <td>...</td>\n",
       "      <td>0.033333</td>\n",
       "      <td>0.7</td>\n",
       "      <td>-0.118750</td>\n",
       "      <td>-0.125</td>\n",
       "      <td>-0.100000</td>\n",
       "      <td>0.000000</td>\n",
       "      <td>0.000000</td>\n",
       "      <td>0.500000</td>\n",
       "      <td>0.000000</td>\n",
       "      <td>711</td>\n",
       "    </tr>\n",
       "    <tr>\n",
       "      <th>2</th>\n",
       "      <td>http://mashable.com/2013/01/07/apple-40-billio...</td>\n",
       "      <td>731.0</td>\n",
       "      <td>9.0</td>\n",
       "      <td>211.0</td>\n",
       "      <td>0.575130</td>\n",
       "      <td>1.0</td>\n",
       "      <td>0.663866</td>\n",
       "      <td>3.0</td>\n",
       "      <td>1.0</td>\n",
       "      <td>1.0</td>\n",
       "      <td>...</td>\n",
       "      <td>0.100000</td>\n",
       "      <td>1.0</td>\n",
       "      <td>-0.466667</td>\n",
       "      <td>-0.800</td>\n",
       "      <td>-0.133333</td>\n",
       "      <td>0.000000</td>\n",
       "      <td>0.000000</td>\n",
       "      <td>0.500000</td>\n",
       "      <td>0.000000</td>\n",
       "      <td>1500</td>\n",
       "    </tr>\n",
       "    <tr>\n",
       "      <th>3</th>\n",
       "      <td>http://mashable.com/2013/01/07/astronaut-notre...</td>\n",
       "      <td>731.0</td>\n",
       "      <td>9.0</td>\n",
       "      <td>531.0</td>\n",
       "      <td>0.503788</td>\n",
       "      <td>1.0</td>\n",
       "      <td>0.665635</td>\n",
       "      <td>9.0</td>\n",
       "      <td>0.0</td>\n",
       "      <td>1.0</td>\n",
       "      <td>...</td>\n",
       "      <td>0.136364</td>\n",
       "      <td>0.8</td>\n",
       "      <td>-0.369697</td>\n",
       "      <td>-0.600</td>\n",
       "      <td>-0.166667</td>\n",
       "      <td>0.000000</td>\n",
       "      <td>0.000000</td>\n",
       "      <td>0.500000</td>\n",
       "      <td>0.000000</td>\n",
       "      <td>1200</td>\n",
       "    </tr>\n",
       "    <tr>\n",
       "      <th>4</th>\n",
       "      <td>http://mashable.com/2013/01/07/att-u-verse-apps/</td>\n",
       "      <td>731.0</td>\n",
       "      <td>13.0</td>\n",
       "      <td>1072.0</td>\n",
       "      <td>0.415646</td>\n",
       "      <td>1.0</td>\n",
       "      <td>0.540890</td>\n",
       "      <td>19.0</td>\n",
       "      <td>19.0</td>\n",
       "      <td>20.0</td>\n",
       "      <td>...</td>\n",
       "      <td>0.033333</td>\n",
       "      <td>1.0</td>\n",
       "      <td>-0.220192</td>\n",
       "      <td>-0.500</td>\n",
       "      <td>-0.050000</td>\n",
       "      <td>0.454545</td>\n",
       "      <td>0.136364</td>\n",
       "      <td>0.045455</td>\n",
       "      <td>0.136364</td>\n",
       "      <td>505</td>\n",
       "    </tr>\n",
       "  </tbody>\n",
       "</table>\n",
       "<p>5 rows × 61 columns</p>\n",
       "</div>"
      ],
      "text/plain": [
       "                                                 url  timedelta  \\\n",
       "0  http://mashable.com/2013/01/07/amazon-instant-...      731.0   \n",
       "1  http://mashable.com/2013/01/07/ap-samsung-spon...      731.0   \n",
       "2  http://mashable.com/2013/01/07/apple-40-billio...      731.0   \n",
       "3  http://mashable.com/2013/01/07/astronaut-notre...      731.0   \n",
       "4   http://mashable.com/2013/01/07/att-u-verse-apps/      731.0   \n",
       "\n",
       "   n_tokens_title  n_tokens_content  n_unique_tokens  n_non_stop_words  \\\n",
       "0            12.0             219.0         0.663594               1.0   \n",
       "1             9.0             255.0         0.604743               1.0   \n",
       "2             9.0             211.0         0.575130               1.0   \n",
       "3             9.0             531.0         0.503788               1.0   \n",
       "4            13.0            1072.0         0.415646               1.0   \n",
       "\n",
       "   n_non_stop_unique_tokens  num_hrefs  num_self_hrefs  num_imgs   ...    \\\n",
       "0                  0.815385        4.0             2.0       1.0   ...     \n",
       "1                  0.791946        3.0             1.0       1.0   ...     \n",
       "2                  0.663866        3.0             1.0       1.0   ...     \n",
       "3                  0.665635        9.0             0.0       1.0   ...     \n",
       "4                  0.540890       19.0            19.0      20.0   ...     \n",
       "\n",
       "   min_positive_polarity  max_positive_polarity  avg_negative_polarity  \\\n",
       "0               0.100000                    0.7              -0.350000   \n",
       "1               0.033333                    0.7              -0.118750   \n",
       "2               0.100000                    1.0              -0.466667   \n",
       "3               0.136364                    0.8              -0.369697   \n",
       "4               0.033333                    1.0              -0.220192   \n",
       "\n",
       "   min_negative_polarity  max_negative_polarity  title_subjectivity  \\\n",
       "0                 -0.600              -0.200000            0.500000   \n",
       "1                 -0.125              -0.100000            0.000000   \n",
       "2                 -0.800              -0.133333            0.000000   \n",
       "3                 -0.600              -0.166667            0.000000   \n",
       "4                 -0.500              -0.050000            0.454545   \n",
       "\n",
       "   title_sentiment_polarity  abs_title_subjectivity  \\\n",
       "0                 -0.187500                0.000000   \n",
       "1                  0.000000                0.500000   \n",
       "2                  0.000000                0.500000   \n",
       "3                  0.000000                0.500000   \n",
       "4                  0.136364                0.045455   \n",
       "\n",
       "   abs_title_sentiment_polarity  shares  \n",
       "0                      0.187500     593  \n",
       "1                      0.000000     711  \n",
       "2                      0.000000    1500  \n",
       "3                      0.000000    1200  \n",
       "4                      0.136364     505  \n",
       "\n",
       "[5 rows x 61 columns]"
      ]
     },
     "execution_count": 21,
     "metadata": {},
     "output_type": "execute_result"
    }
   ],
   "source": [
    "# Your code here\n",
    "newsdf = pd.read_csv('OnlineNewsPopularity/OnlineNewsPopularity.csv')\n",
    "newsdf.columns = newsdf.columns.str.replace(\" \",\"\") # get rid of extra spaces in attribute names (headers)\n",
    "newsdf.head()\n",
    "\n",
    "# please see end of Task 2.2 for creation of X and y arrays - I wanted to do this after cleaning \n",
    "# the data in Task 2.2"
   ]
  },
  {
   "cell_type": "markdown",
   "metadata": {},
   "source": [
    "### Task 2.2 Exploratory data analysis \n",
    "\n",
    "First check to see if the values are reasonable. What are the min, median, and maximum number of shares? "
   ]
  },
  {
   "cell_type": "code",
   "execution_count": 22,
   "metadata": {},
   "outputs": [
    {
     "name": "stdout",
     "output_type": "stream",
     "text": [
      "News dataframe shape:  (39644, 61) \n",
      "\n",
      "Data types: \n",
      " url                               object\n",
      "timedelta                        float64\n",
      "n_tokens_title                   float64\n",
      "n_tokens_content                 float64\n",
      "n_unique_tokens                  float64\n",
      "n_non_stop_words                 float64\n",
      "n_non_stop_unique_tokens         float64\n",
      "num_hrefs                        float64\n",
      "num_self_hrefs                   float64\n",
      "num_imgs                         float64\n",
      "num_videos                       float64\n",
      "average_token_length             float64\n",
      "num_keywords                     float64\n",
      "data_channel_is_lifestyle        float64\n",
      "data_channel_is_entertainment    float64\n",
      "data_channel_is_bus              float64\n",
      "data_channel_is_socmed           float64\n",
      "data_channel_is_tech             float64\n",
      "data_channel_is_world            float64\n",
      "kw_min_min                       float64\n",
      "kw_max_min                       float64\n",
      "kw_avg_min                       float64\n",
      "kw_min_max                       float64\n",
      "kw_max_max                       float64\n",
      "kw_avg_max                       float64\n",
      "kw_min_avg                       float64\n",
      "kw_max_avg                       float64\n",
      "kw_avg_avg                       float64\n",
      "self_reference_min_shares        float64\n",
      "self_reference_max_shares        float64\n",
      "                                  ...   \n",
      "weekday_is_monday                float64\n",
      "weekday_is_tuesday               float64\n",
      "weekday_is_wednesday             float64\n",
      "weekday_is_thursday              float64\n",
      "weekday_is_friday                float64\n",
      "weekday_is_saturday              float64\n",
      "weekday_is_sunday                float64\n",
      "is_weekend                       float64\n",
      "LDA_00                           float64\n",
      "LDA_01                           float64\n",
      "LDA_02                           float64\n",
      "LDA_03                           float64\n",
      "LDA_04                           float64\n",
      "global_subjectivity              float64\n",
      "global_sentiment_polarity        float64\n",
      "global_rate_positive_words       float64\n",
      "global_rate_negative_words       float64\n",
      "rate_positive_words              float64\n",
      "rate_negative_words              float64\n",
      "avg_positive_polarity            float64\n",
      "min_positive_polarity            float64\n",
      "max_positive_polarity            float64\n",
      "avg_negative_polarity            float64\n",
      "min_negative_polarity            float64\n",
      "max_negative_polarity            float64\n",
      "title_subjectivity               float64\n",
      "title_sentiment_polarity         float64\n",
      "abs_title_subjectivity           float64\n",
      "abs_title_sentiment_polarity     float64\n",
      "shares                             int64\n",
      "Length: 61, dtype: object\n"
     ]
    }
   ],
   "source": [
    "print('News dataframe shape: ',newsdf.shape,'\\n')\n",
    "print('Data types: \\n',newsdf.dtypes)"
   ]
  },
  {
   "cell_type": "code",
   "execution_count": 23,
   "metadata": {},
   "outputs": [
    {
     "data": {
      "text/html": [
       "<div>\n",
       "<style>\n",
       "    .dataframe thead tr:only-child th {\n",
       "        text-align: right;\n",
       "    }\n",
       "\n",
       "    .dataframe thead th {\n",
       "        text-align: left;\n",
       "    }\n",
       "\n",
       "    .dataframe tbody tr th {\n",
       "        vertical-align: top;\n",
       "    }\n",
       "</style>\n",
       "<table border=\"1\" class=\"dataframe\">\n",
       "  <thead>\n",
       "    <tr style=\"text-align: right;\">\n",
       "      <th></th>\n",
       "      <th>url</th>\n",
       "      <th>timedelta</th>\n",
       "      <th>n_tokens_title</th>\n",
       "      <th>n_tokens_content</th>\n",
       "      <th>n_unique_tokens</th>\n",
       "      <th>n_non_stop_words</th>\n",
       "      <th>n_non_stop_unique_tokens</th>\n",
       "      <th>num_hrefs</th>\n",
       "      <th>num_self_hrefs</th>\n",
       "      <th>num_imgs</th>\n",
       "      <th>...</th>\n",
       "      <th>min_positive_polarity</th>\n",
       "      <th>max_positive_polarity</th>\n",
       "      <th>avg_negative_polarity</th>\n",
       "      <th>min_negative_polarity</th>\n",
       "      <th>max_negative_polarity</th>\n",
       "      <th>title_subjectivity</th>\n",
       "      <th>title_sentiment_polarity</th>\n",
       "      <th>abs_title_subjectivity</th>\n",
       "      <th>abs_title_sentiment_polarity</th>\n",
       "      <th>shares</th>\n",
       "    </tr>\n",
       "  </thead>\n",
       "  <tbody>\n",
       "    <tr>\n",
       "      <th>39639</th>\n",
       "      <td>http://mashable.com/2014/12/27/samsung-app-aut...</td>\n",
       "      <td>8.0</td>\n",
       "      <td>11.0</td>\n",
       "      <td>346.0</td>\n",
       "      <td>0.529052</td>\n",
       "      <td>1.0</td>\n",
       "      <td>0.684783</td>\n",
       "      <td>9.0</td>\n",
       "      <td>7.0</td>\n",
       "      <td>1.0</td>\n",
       "      <td>...</td>\n",
       "      <td>0.100000</td>\n",
       "      <td>0.75</td>\n",
       "      <td>-0.260000</td>\n",
       "      <td>-0.5</td>\n",
       "      <td>-0.125000</td>\n",
       "      <td>0.100000</td>\n",
       "      <td>0.000000</td>\n",
       "      <td>0.400000</td>\n",
       "      <td>0.000000</td>\n",
       "      <td>1800</td>\n",
       "    </tr>\n",
       "    <tr>\n",
       "      <th>39640</th>\n",
       "      <td>http://mashable.com/2014/12/27/seth-rogen-jame...</td>\n",
       "      <td>8.0</td>\n",
       "      <td>12.0</td>\n",
       "      <td>328.0</td>\n",
       "      <td>0.696296</td>\n",
       "      <td>1.0</td>\n",
       "      <td>0.885057</td>\n",
       "      <td>9.0</td>\n",
       "      <td>7.0</td>\n",
       "      <td>3.0</td>\n",
       "      <td>...</td>\n",
       "      <td>0.136364</td>\n",
       "      <td>0.70</td>\n",
       "      <td>-0.211111</td>\n",
       "      <td>-0.4</td>\n",
       "      <td>-0.100000</td>\n",
       "      <td>0.300000</td>\n",
       "      <td>1.000000</td>\n",
       "      <td>0.200000</td>\n",
       "      <td>1.000000</td>\n",
       "      <td>1900</td>\n",
       "    </tr>\n",
       "    <tr>\n",
       "      <th>39641</th>\n",
       "      <td>http://mashable.com/2014/12/27/son-pays-off-mo...</td>\n",
       "      <td>8.0</td>\n",
       "      <td>10.0</td>\n",
       "      <td>442.0</td>\n",
       "      <td>0.516355</td>\n",
       "      <td>1.0</td>\n",
       "      <td>0.644128</td>\n",
       "      <td>24.0</td>\n",
       "      <td>1.0</td>\n",
       "      <td>12.0</td>\n",
       "      <td>...</td>\n",
       "      <td>0.136364</td>\n",
       "      <td>0.50</td>\n",
       "      <td>-0.356439</td>\n",
       "      <td>-0.8</td>\n",
       "      <td>-0.166667</td>\n",
       "      <td>0.454545</td>\n",
       "      <td>0.136364</td>\n",
       "      <td>0.045455</td>\n",
       "      <td>0.136364</td>\n",
       "      <td>1900</td>\n",
       "    </tr>\n",
       "    <tr>\n",
       "      <th>39642</th>\n",
       "      <td>http://mashable.com/2014/12/27/ukraine-blasts/</td>\n",
       "      <td>8.0</td>\n",
       "      <td>6.0</td>\n",
       "      <td>682.0</td>\n",
       "      <td>0.539493</td>\n",
       "      <td>1.0</td>\n",
       "      <td>0.692661</td>\n",
       "      <td>10.0</td>\n",
       "      <td>1.0</td>\n",
       "      <td>1.0</td>\n",
       "      <td>...</td>\n",
       "      <td>0.062500</td>\n",
       "      <td>0.50</td>\n",
       "      <td>-0.205246</td>\n",
       "      <td>-0.5</td>\n",
       "      <td>-0.012500</td>\n",
       "      <td>0.000000</td>\n",
       "      <td>0.000000</td>\n",
       "      <td>0.500000</td>\n",
       "      <td>0.000000</td>\n",
       "      <td>1100</td>\n",
       "    </tr>\n",
       "    <tr>\n",
       "      <th>39643</th>\n",
       "      <td>http://mashable.com/2014/12/27/youtube-channel...</td>\n",
       "      <td>8.0</td>\n",
       "      <td>10.0</td>\n",
       "      <td>157.0</td>\n",
       "      <td>0.701987</td>\n",
       "      <td>1.0</td>\n",
       "      <td>0.846154</td>\n",
       "      <td>1.0</td>\n",
       "      <td>1.0</td>\n",
       "      <td>0.0</td>\n",
       "      <td>...</td>\n",
       "      <td>0.100000</td>\n",
       "      <td>0.50</td>\n",
       "      <td>-0.200000</td>\n",
       "      <td>-0.2</td>\n",
       "      <td>-0.200000</td>\n",
       "      <td>0.333333</td>\n",
       "      <td>0.250000</td>\n",
       "      <td>0.166667</td>\n",
       "      <td>0.250000</td>\n",
       "      <td>1300</td>\n",
       "    </tr>\n",
       "  </tbody>\n",
       "</table>\n",
       "<p>5 rows × 61 columns</p>\n",
       "</div>"
      ],
      "text/plain": [
       "                                                     url  timedelta  \\\n",
       "39639  http://mashable.com/2014/12/27/samsung-app-aut...        8.0   \n",
       "39640  http://mashable.com/2014/12/27/seth-rogen-jame...        8.0   \n",
       "39641  http://mashable.com/2014/12/27/son-pays-off-mo...        8.0   \n",
       "39642     http://mashable.com/2014/12/27/ukraine-blasts/        8.0   \n",
       "39643  http://mashable.com/2014/12/27/youtube-channel...        8.0   \n",
       "\n",
       "       n_tokens_title  n_tokens_content  n_unique_tokens  n_non_stop_words  \\\n",
       "39639            11.0             346.0         0.529052               1.0   \n",
       "39640            12.0             328.0         0.696296               1.0   \n",
       "39641            10.0             442.0         0.516355               1.0   \n",
       "39642             6.0             682.0         0.539493               1.0   \n",
       "39643            10.0             157.0         0.701987               1.0   \n",
       "\n",
       "       n_non_stop_unique_tokens  num_hrefs  num_self_hrefs  num_imgs   ...    \\\n",
       "39639                  0.684783        9.0             7.0       1.0   ...     \n",
       "39640                  0.885057        9.0             7.0       3.0   ...     \n",
       "39641                  0.644128       24.0             1.0      12.0   ...     \n",
       "39642                  0.692661       10.0             1.0       1.0   ...     \n",
       "39643                  0.846154        1.0             1.0       0.0   ...     \n",
       "\n",
       "       min_positive_polarity  max_positive_polarity  avg_negative_polarity  \\\n",
       "39639               0.100000                   0.75              -0.260000   \n",
       "39640               0.136364                   0.70              -0.211111   \n",
       "39641               0.136364                   0.50              -0.356439   \n",
       "39642               0.062500                   0.50              -0.205246   \n",
       "39643               0.100000                   0.50              -0.200000   \n",
       "\n",
       "       min_negative_polarity  max_negative_polarity  title_subjectivity  \\\n",
       "39639                   -0.5              -0.125000            0.100000   \n",
       "39640                   -0.4              -0.100000            0.300000   \n",
       "39641                   -0.8              -0.166667            0.454545   \n",
       "39642                   -0.5              -0.012500            0.000000   \n",
       "39643                   -0.2              -0.200000            0.333333   \n",
       "\n",
       "       title_sentiment_polarity  abs_title_subjectivity  \\\n",
       "39639                  0.000000                0.400000   \n",
       "39640                  1.000000                0.200000   \n",
       "39641                  0.136364                0.045455   \n",
       "39642                  0.000000                0.500000   \n",
       "39643                  0.250000                0.166667   \n",
       "\n",
       "       abs_title_sentiment_polarity  shares  \n",
       "39639                      0.000000    1800  \n",
       "39640                      1.000000    1900  \n",
       "39641                      0.136364    1900  \n",
       "39642                      0.000000    1100  \n",
       "39643                      0.250000    1300  \n",
       "\n",
       "[5 rows x 61 columns]"
      ]
     },
     "execution_count": 23,
     "metadata": {},
     "output_type": "execute_result"
    }
   ],
   "source": [
    "newsdf.tail()"
   ]
  },
  {
   "cell_type": "code",
   "execution_count": 24,
   "metadata": {
    "scrolled": true
   },
   "outputs": [
    {
     "data": {
      "text/html": [
       "<div>\n",
       "<style>\n",
       "    .dataframe thead tr:only-child th {\n",
       "        text-align: right;\n",
       "    }\n",
       "\n",
       "    .dataframe thead th {\n",
       "        text-align: left;\n",
       "    }\n",
       "\n",
       "    .dataframe tbody tr th {\n",
       "        vertical-align: top;\n",
       "    }\n",
       "</style>\n",
       "<table border=\"1\" class=\"dataframe\">\n",
       "  <thead>\n",
       "    <tr style=\"text-align: right;\">\n",
       "      <th></th>\n",
       "      <th>timedelta</th>\n",
       "      <th>n_tokens_title</th>\n",
       "      <th>n_tokens_content</th>\n",
       "      <th>n_unique_tokens</th>\n",
       "      <th>n_non_stop_words</th>\n",
       "      <th>n_non_stop_unique_tokens</th>\n",
       "      <th>num_hrefs</th>\n",
       "      <th>num_self_hrefs</th>\n",
       "      <th>num_imgs</th>\n",
       "      <th>num_videos</th>\n",
       "      <th>...</th>\n",
       "      <th>min_positive_polarity</th>\n",
       "      <th>max_positive_polarity</th>\n",
       "      <th>avg_negative_polarity</th>\n",
       "      <th>min_negative_polarity</th>\n",
       "      <th>max_negative_polarity</th>\n",
       "      <th>title_subjectivity</th>\n",
       "      <th>title_sentiment_polarity</th>\n",
       "      <th>abs_title_subjectivity</th>\n",
       "      <th>abs_title_sentiment_polarity</th>\n",
       "      <th>shares</th>\n",
       "    </tr>\n",
       "  </thead>\n",
       "  <tbody>\n",
       "    <tr>\n",
       "      <th>count</th>\n",
       "      <td>39644.000000</td>\n",
       "      <td>39644.000000</td>\n",
       "      <td>39644.000000</td>\n",
       "      <td>39644.000000</td>\n",
       "      <td>39644.000000</td>\n",
       "      <td>39644.000000</td>\n",
       "      <td>39644.000000</td>\n",
       "      <td>39644.000000</td>\n",
       "      <td>39644.000000</td>\n",
       "      <td>39644.000000</td>\n",
       "      <td>...</td>\n",
       "      <td>39644.000000</td>\n",
       "      <td>39644.000000</td>\n",
       "      <td>39644.000000</td>\n",
       "      <td>39644.000000</td>\n",
       "      <td>39644.000000</td>\n",
       "      <td>39644.000000</td>\n",
       "      <td>39644.000000</td>\n",
       "      <td>39644.000000</td>\n",
       "      <td>39644.000000</td>\n",
       "      <td>39644.000000</td>\n",
       "    </tr>\n",
       "    <tr>\n",
       "      <th>mean</th>\n",
       "      <td>354.530471</td>\n",
       "      <td>10.398749</td>\n",
       "      <td>546.514731</td>\n",
       "      <td>0.548216</td>\n",
       "      <td>0.996469</td>\n",
       "      <td>0.689175</td>\n",
       "      <td>10.883690</td>\n",
       "      <td>3.293638</td>\n",
       "      <td>4.544143</td>\n",
       "      <td>1.249874</td>\n",
       "      <td>...</td>\n",
       "      <td>0.095446</td>\n",
       "      <td>0.756728</td>\n",
       "      <td>-0.259524</td>\n",
       "      <td>-0.521944</td>\n",
       "      <td>-0.107500</td>\n",
       "      <td>0.282353</td>\n",
       "      <td>0.071425</td>\n",
       "      <td>0.341843</td>\n",
       "      <td>0.156064</td>\n",
       "      <td>3395.380184</td>\n",
       "    </tr>\n",
       "    <tr>\n",
       "      <th>std</th>\n",
       "      <td>214.163767</td>\n",
       "      <td>2.114037</td>\n",
       "      <td>471.107508</td>\n",
       "      <td>3.520708</td>\n",
       "      <td>5.231231</td>\n",
       "      <td>3.264816</td>\n",
       "      <td>11.332017</td>\n",
       "      <td>3.855141</td>\n",
       "      <td>8.309434</td>\n",
       "      <td>4.107855</td>\n",
       "      <td>...</td>\n",
       "      <td>0.071315</td>\n",
       "      <td>0.247786</td>\n",
       "      <td>0.127726</td>\n",
       "      <td>0.290290</td>\n",
       "      <td>0.095373</td>\n",
       "      <td>0.324247</td>\n",
       "      <td>0.265450</td>\n",
       "      <td>0.188791</td>\n",
       "      <td>0.226294</td>\n",
       "      <td>11626.950749</td>\n",
       "    </tr>\n",
       "    <tr>\n",
       "      <th>min</th>\n",
       "      <td>8.000000</td>\n",
       "      <td>2.000000</td>\n",
       "      <td>0.000000</td>\n",
       "      <td>0.000000</td>\n",
       "      <td>0.000000</td>\n",
       "      <td>0.000000</td>\n",
       "      <td>0.000000</td>\n",
       "      <td>0.000000</td>\n",
       "      <td>0.000000</td>\n",
       "      <td>0.000000</td>\n",
       "      <td>...</td>\n",
       "      <td>0.000000</td>\n",
       "      <td>0.000000</td>\n",
       "      <td>-1.000000</td>\n",
       "      <td>-1.000000</td>\n",
       "      <td>-1.000000</td>\n",
       "      <td>0.000000</td>\n",
       "      <td>-1.000000</td>\n",
       "      <td>0.000000</td>\n",
       "      <td>0.000000</td>\n",
       "      <td>1.000000</td>\n",
       "    </tr>\n",
       "    <tr>\n",
       "      <th>25%</th>\n",
       "      <td>164.000000</td>\n",
       "      <td>9.000000</td>\n",
       "      <td>246.000000</td>\n",
       "      <td>0.470870</td>\n",
       "      <td>1.000000</td>\n",
       "      <td>0.625739</td>\n",
       "      <td>4.000000</td>\n",
       "      <td>1.000000</td>\n",
       "      <td>1.000000</td>\n",
       "      <td>0.000000</td>\n",
       "      <td>...</td>\n",
       "      <td>0.050000</td>\n",
       "      <td>0.600000</td>\n",
       "      <td>-0.328383</td>\n",
       "      <td>-0.700000</td>\n",
       "      <td>-0.125000</td>\n",
       "      <td>0.000000</td>\n",
       "      <td>0.000000</td>\n",
       "      <td>0.166667</td>\n",
       "      <td>0.000000</td>\n",
       "      <td>946.000000</td>\n",
       "    </tr>\n",
       "    <tr>\n",
       "      <th>50%</th>\n",
       "      <td>339.000000</td>\n",
       "      <td>10.000000</td>\n",
       "      <td>409.000000</td>\n",
       "      <td>0.539226</td>\n",
       "      <td>1.000000</td>\n",
       "      <td>0.690476</td>\n",
       "      <td>8.000000</td>\n",
       "      <td>3.000000</td>\n",
       "      <td>1.000000</td>\n",
       "      <td>0.000000</td>\n",
       "      <td>...</td>\n",
       "      <td>0.100000</td>\n",
       "      <td>0.800000</td>\n",
       "      <td>-0.253333</td>\n",
       "      <td>-0.500000</td>\n",
       "      <td>-0.100000</td>\n",
       "      <td>0.150000</td>\n",
       "      <td>0.000000</td>\n",
       "      <td>0.500000</td>\n",
       "      <td>0.000000</td>\n",
       "      <td>1400.000000</td>\n",
       "    </tr>\n",
       "    <tr>\n",
       "      <th>75%</th>\n",
       "      <td>542.000000</td>\n",
       "      <td>12.000000</td>\n",
       "      <td>716.000000</td>\n",
       "      <td>0.608696</td>\n",
       "      <td>1.000000</td>\n",
       "      <td>0.754630</td>\n",
       "      <td>14.000000</td>\n",
       "      <td>4.000000</td>\n",
       "      <td>4.000000</td>\n",
       "      <td>1.000000</td>\n",
       "      <td>...</td>\n",
       "      <td>0.100000</td>\n",
       "      <td>1.000000</td>\n",
       "      <td>-0.186905</td>\n",
       "      <td>-0.300000</td>\n",
       "      <td>-0.050000</td>\n",
       "      <td>0.500000</td>\n",
       "      <td>0.150000</td>\n",
       "      <td>0.500000</td>\n",
       "      <td>0.250000</td>\n",
       "      <td>2800.000000</td>\n",
       "    </tr>\n",
       "    <tr>\n",
       "      <th>max</th>\n",
       "      <td>731.000000</td>\n",
       "      <td>23.000000</td>\n",
       "      <td>8474.000000</td>\n",
       "      <td>701.000000</td>\n",
       "      <td>1042.000000</td>\n",
       "      <td>650.000000</td>\n",
       "      <td>304.000000</td>\n",
       "      <td>116.000000</td>\n",
       "      <td>128.000000</td>\n",
       "      <td>91.000000</td>\n",
       "      <td>...</td>\n",
       "      <td>1.000000</td>\n",
       "      <td>1.000000</td>\n",
       "      <td>0.000000</td>\n",
       "      <td>0.000000</td>\n",
       "      <td>0.000000</td>\n",
       "      <td>1.000000</td>\n",
       "      <td>1.000000</td>\n",
       "      <td>0.500000</td>\n",
       "      <td>1.000000</td>\n",
       "      <td>843300.000000</td>\n",
       "    </tr>\n",
       "  </tbody>\n",
       "</table>\n",
       "<p>8 rows × 60 columns</p>\n",
       "</div>"
      ],
      "text/plain": [
       "          timedelta  n_tokens_title  n_tokens_content  n_unique_tokens  \\\n",
       "count  39644.000000    39644.000000      39644.000000     39644.000000   \n",
       "mean     354.530471       10.398749        546.514731         0.548216   \n",
       "std      214.163767        2.114037        471.107508         3.520708   \n",
       "min        8.000000        2.000000          0.000000         0.000000   \n",
       "25%      164.000000        9.000000        246.000000         0.470870   \n",
       "50%      339.000000       10.000000        409.000000         0.539226   \n",
       "75%      542.000000       12.000000        716.000000         0.608696   \n",
       "max      731.000000       23.000000       8474.000000       701.000000   \n",
       "\n",
       "       n_non_stop_words  n_non_stop_unique_tokens     num_hrefs  \\\n",
       "count      39644.000000              39644.000000  39644.000000   \n",
       "mean           0.996469                  0.689175     10.883690   \n",
       "std            5.231231                  3.264816     11.332017   \n",
       "min            0.000000                  0.000000      0.000000   \n",
       "25%            1.000000                  0.625739      4.000000   \n",
       "50%            1.000000                  0.690476      8.000000   \n",
       "75%            1.000000                  0.754630     14.000000   \n",
       "max         1042.000000                650.000000    304.000000   \n",
       "\n",
       "       num_self_hrefs      num_imgs    num_videos      ...        \\\n",
       "count    39644.000000  39644.000000  39644.000000      ...         \n",
       "mean         3.293638      4.544143      1.249874      ...         \n",
       "std          3.855141      8.309434      4.107855      ...         \n",
       "min          0.000000      0.000000      0.000000      ...         \n",
       "25%          1.000000      1.000000      0.000000      ...         \n",
       "50%          3.000000      1.000000      0.000000      ...         \n",
       "75%          4.000000      4.000000      1.000000      ...         \n",
       "max        116.000000    128.000000     91.000000      ...         \n",
       "\n",
       "       min_positive_polarity  max_positive_polarity  avg_negative_polarity  \\\n",
       "count           39644.000000           39644.000000           39644.000000   \n",
       "mean                0.095446               0.756728              -0.259524   \n",
       "std                 0.071315               0.247786               0.127726   \n",
       "min                 0.000000               0.000000              -1.000000   \n",
       "25%                 0.050000               0.600000              -0.328383   \n",
       "50%                 0.100000               0.800000              -0.253333   \n",
       "75%                 0.100000               1.000000              -0.186905   \n",
       "max                 1.000000               1.000000               0.000000   \n",
       "\n",
       "       min_negative_polarity  max_negative_polarity  title_subjectivity  \\\n",
       "count           39644.000000           39644.000000        39644.000000   \n",
       "mean               -0.521944              -0.107500            0.282353   \n",
       "std                 0.290290               0.095373            0.324247   \n",
       "min                -1.000000              -1.000000            0.000000   \n",
       "25%                -0.700000              -0.125000            0.000000   \n",
       "50%                -0.500000              -0.100000            0.150000   \n",
       "75%                -0.300000              -0.050000            0.500000   \n",
       "max                 0.000000               0.000000            1.000000   \n",
       "\n",
       "       title_sentiment_polarity  abs_title_subjectivity  \\\n",
       "count              39644.000000            39644.000000   \n",
       "mean                   0.071425                0.341843   \n",
       "std                    0.265450                0.188791   \n",
       "min                   -1.000000                0.000000   \n",
       "25%                    0.000000                0.166667   \n",
       "50%                    0.000000                0.500000   \n",
       "75%                    0.150000                0.500000   \n",
       "max                    1.000000                0.500000   \n",
       "\n",
       "       abs_title_sentiment_polarity         shares  \n",
       "count                  39644.000000   39644.000000  \n",
       "mean                       0.156064    3395.380184  \n",
       "std                        0.226294   11626.950749  \n",
       "min                        0.000000       1.000000  \n",
       "25%                        0.000000     946.000000  \n",
       "50%                        0.000000    1400.000000  \n",
       "75%                        0.250000    2800.000000  \n",
       "max                        1.000000  843300.000000  \n",
       "\n",
       "[8 rows x 60 columns]"
      ]
     },
     "execution_count": 24,
     "metadata": {},
     "output_type": "execute_result"
    }
   ],
   "source": [
    "newsdf.describe()"
   ]
  },
  {
   "cell_type": "code",
   "execution_count": 25,
   "metadata": {
    "scrolled": true
   },
   "outputs": [
    {
     "data": {
      "text/html": [
       "<div>\n",
       "<style>\n",
       "    .dataframe thead tr:only-child th {\n",
       "        text-align: right;\n",
       "    }\n",
       "\n",
       "    .dataframe thead th {\n",
       "        text-align: left;\n",
       "    }\n",
       "\n",
       "    .dataframe tbody tr th {\n",
       "        vertical-align: top;\n",
       "    }\n",
       "</style>\n",
       "<table border=\"1\" class=\"dataframe\">\n",
       "  <thead>\n",
       "    <tr style=\"text-align: right;\">\n",
       "      <th></th>\n",
       "      <th>timedelta</th>\n",
       "      <th>n_tokens_title</th>\n",
       "      <th>n_tokens_content</th>\n",
       "      <th>n_unique_tokens</th>\n",
       "      <th>n_non_stop_words</th>\n",
       "      <th>n_non_stop_unique_tokens</th>\n",
       "      <th>num_hrefs</th>\n",
       "      <th>num_self_hrefs</th>\n",
       "      <th>num_imgs</th>\n",
       "      <th>num_videos</th>\n",
       "      <th>...</th>\n",
       "      <th>min_positive_polarity</th>\n",
       "      <th>max_positive_polarity</th>\n",
       "      <th>avg_negative_polarity</th>\n",
       "      <th>min_negative_polarity</th>\n",
       "      <th>max_negative_polarity</th>\n",
       "      <th>title_subjectivity</th>\n",
       "      <th>title_sentiment_polarity</th>\n",
       "      <th>abs_title_subjectivity</th>\n",
       "      <th>abs_title_sentiment_polarity</th>\n",
       "      <th>shares</th>\n",
       "    </tr>\n",
       "  </thead>\n",
       "  <tbody>\n",
       "    <tr>\n",
       "      <th>count</th>\n",
       "      <td>39643.000000</td>\n",
       "      <td>39643.000000</td>\n",
       "      <td>39643.000000</td>\n",
       "      <td>39643.000000</td>\n",
       "      <td>39643.000000</td>\n",
       "      <td>39643.000000</td>\n",
       "      <td>39643.000000</td>\n",
       "      <td>39643.000000</td>\n",
       "      <td>39643.000000</td>\n",
       "      <td>39643.000000</td>\n",
       "      <td>...</td>\n",
       "      <td>39643.000000</td>\n",
       "      <td>39643.000000</td>\n",
       "      <td>39643.000000</td>\n",
       "      <td>39643.000000</td>\n",
       "      <td>39643.000000</td>\n",
       "      <td>39643.000000</td>\n",
       "      <td>39643.000000</td>\n",
       "      <td>39643.000000</td>\n",
       "      <td>39643.000000</td>\n",
       "      <td>39643.000000</td>\n",
       "    </tr>\n",
       "    <tr>\n",
       "      <th>mean</th>\n",
       "      <td>354.535832</td>\n",
       "      <td>10.398784</td>\n",
       "      <td>546.488914</td>\n",
       "      <td>0.530547</td>\n",
       "      <td>0.970209</td>\n",
       "      <td>0.672796</td>\n",
       "      <td>10.883687</td>\n",
       "      <td>3.293469</td>\n",
       "      <td>4.542971</td>\n",
       "      <td>1.249905</td>\n",
       "      <td>...</td>\n",
       "      <td>0.095448</td>\n",
       "      <td>0.756747</td>\n",
       "      <td>-0.259531</td>\n",
       "      <td>-0.521957</td>\n",
       "      <td>-0.107503</td>\n",
       "      <td>0.282360</td>\n",
       "      <td>0.071427</td>\n",
       "      <td>0.341851</td>\n",
       "      <td>0.156068</td>\n",
       "      <td>3395.317004</td>\n",
       "    </tr>\n",
       "    <tr>\n",
       "      <th>std</th>\n",
       "      <td>214.163808</td>\n",
       "      <td>2.114052</td>\n",
       "      <td>471.085404</td>\n",
       "      <td>0.137112</td>\n",
       "      <td>0.170012</td>\n",
       "      <td>0.154035</td>\n",
       "      <td>11.332160</td>\n",
       "      <td>3.855043</td>\n",
       "      <td>8.306262</td>\n",
       "      <td>4.107902</td>\n",
       "      <td>...</td>\n",
       "      <td>0.071314</td>\n",
       "      <td>0.247760</td>\n",
       "      <td>0.127721</td>\n",
       "      <td>0.290281</td>\n",
       "      <td>0.095373</td>\n",
       "      <td>0.324248</td>\n",
       "      <td>0.265453</td>\n",
       "      <td>0.188785</td>\n",
       "      <td>0.226296</td>\n",
       "      <td>11627.090592</td>\n",
       "    </tr>\n",
       "    <tr>\n",
       "      <th>min</th>\n",
       "      <td>8.000000</td>\n",
       "      <td>2.000000</td>\n",
       "      <td>0.000000</td>\n",
       "      <td>0.000000</td>\n",
       "      <td>0.000000</td>\n",
       "      <td>0.000000</td>\n",
       "      <td>0.000000</td>\n",
       "      <td>0.000000</td>\n",
       "      <td>0.000000</td>\n",
       "      <td>0.000000</td>\n",
       "      <td>...</td>\n",
       "      <td>0.000000</td>\n",
       "      <td>0.000000</td>\n",
       "      <td>-1.000000</td>\n",
       "      <td>-1.000000</td>\n",
       "      <td>-1.000000</td>\n",
       "      <td>0.000000</td>\n",
       "      <td>-1.000000</td>\n",
       "      <td>0.000000</td>\n",
       "      <td>0.000000</td>\n",
       "      <td>1.000000</td>\n",
       "    </tr>\n",
       "    <tr>\n",
       "      <th>25%</th>\n",
       "      <td>164.000000</td>\n",
       "      <td>9.000000</td>\n",
       "      <td>246.000000</td>\n",
       "      <td>0.470867</td>\n",
       "      <td>1.000000</td>\n",
       "      <td>0.625733</td>\n",
       "      <td>4.000000</td>\n",
       "      <td>1.000000</td>\n",
       "      <td>1.000000</td>\n",
       "      <td>0.000000</td>\n",
       "      <td>...</td>\n",
       "      <td>0.050000</td>\n",
       "      <td>0.600000</td>\n",
       "      <td>-0.328384</td>\n",
       "      <td>-0.700000</td>\n",
       "      <td>-0.125000</td>\n",
       "      <td>0.000000</td>\n",
       "      <td>0.000000</td>\n",
       "      <td>0.166667</td>\n",
       "      <td>0.000000</td>\n",
       "      <td>946.000000</td>\n",
       "    </tr>\n",
       "    <tr>\n",
       "      <th>50%</th>\n",
       "      <td>339.000000</td>\n",
       "      <td>10.000000</td>\n",
       "      <td>409.000000</td>\n",
       "      <td>0.539216</td>\n",
       "      <td>1.000000</td>\n",
       "      <td>0.690476</td>\n",
       "      <td>8.000000</td>\n",
       "      <td>3.000000</td>\n",
       "      <td>1.000000</td>\n",
       "      <td>0.000000</td>\n",
       "      <td>...</td>\n",
       "      <td>0.100000</td>\n",
       "      <td>0.800000</td>\n",
       "      <td>-0.253333</td>\n",
       "      <td>-0.500000</td>\n",
       "      <td>-0.100000</td>\n",
       "      <td>0.150000</td>\n",
       "      <td>0.000000</td>\n",
       "      <td>0.500000</td>\n",
       "      <td>0.000000</td>\n",
       "      <td>1400.000000</td>\n",
       "    </tr>\n",
       "    <tr>\n",
       "      <th>75%</th>\n",
       "      <td>542.000000</td>\n",
       "      <td>12.000000</td>\n",
       "      <td>716.000000</td>\n",
       "      <td>0.608696</td>\n",
       "      <td>1.000000</td>\n",
       "      <td>0.754624</td>\n",
       "      <td>14.000000</td>\n",
       "      <td>4.000000</td>\n",
       "      <td>4.000000</td>\n",
       "      <td>1.000000</td>\n",
       "      <td>...</td>\n",
       "      <td>0.100000</td>\n",
       "      <td>1.000000</td>\n",
       "      <td>-0.186905</td>\n",
       "      <td>-0.300000</td>\n",
       "      <td>-0.050000</td>\n",
       "      <td>0.500000</td>\n",
       "      <td>0.150000</td>\n",
       "      <td>0.500000</td>\n",
       "      <td>0.250000</td>\n",
       "      <td>2800.000000</td>\n",
       "    </tr>\n",
       "    <tr>\n",
       "      <th>max</th>\n",
       "      <td>731.000000</td>\n",
       "      <td>23.000000</td>\n",
       "      <td>8474.000000</td>\n",
       "      <td>1.000000</td>\n",
       "      <td>1.000000</td>\n",
       "      <td>1.000000</td>\n",
       "      <td>304.000000</td>\n",
       "      <td>116.000000</td>\n",
       "      <td>128.000000</td>\n",
       "      <td>91.000000</td>\n",
       "      <td>...</td>\n",
       "      <td>1.000000</td>\n",
       "      <td>1.000000</td>\n",
       "      <td>0.000000</td>\n",
       "      <td>0.000000</td>\n",
       "      <td>0.000000</td>\n",
       "      <td>1.000000</td>\n",
       "      <td>1.000000</td>\n",
       "      <td>0.500000</td>\n",
       "      <td>1.000000</td>\n",
       "      <td>843300.000000</td>\n",
       "    </tr>\n",
       "  </tbody>\n",
       "</table>\n",
       "<p>8 rows × 60 columns</p>\n",
       "</div>"
      ],
      "text/plain": [
       "          timedelta  n_tokens_title  n_tokens_content  n_unique_tokens  \\\n",
       "count  39643.000000    39643.000000      39643.000000     39643.000000   \n",
       "mean     354.535832       10.398784        546.488914         0.530547   \n",
       "std      214.163808        2.114052        471.085404         0.137112   \n",
       "min        8.000000        2.000000          0.000000         0.000000   \n",
       "25%      164.000000        9.000000        246.000000         0.470867   \n",
       "50%      339.000000       10.000000        409.000000         0.539216   \n",
       "75%      542.000000       12.000000        716.000000         0.608696   \n",
       "max      731.000000       23.000000       8474.000000         1.000000   \n",
       "\n",
       "       n_non_stop_words  n_non_stop_unique_tokens     num_hrefs  \\\n",
       "count      39643.000000              39643.000000  39643.000000   \n",
       "mean           0.970209                  0.672796     10.883687   \n",
       "std            0.170012                  0.154035     11.332160   \n",
       "min            0.000000                  0.000000      0.000000   \n",
       "25%            1.000000                  0.625733      4.000000   \n",
       "50%            1.000000                  0.690476      8.000000   \n",
       "75%            1.000000                  0.754624     14.000000   \n",
       "max            1.000000                  1.000000    304.000000   \n",
       "\n",
       "       num_self_hrefs      num_imgs    num_videos      ...        \\\n",
       "count    39643.000000  39643.000000  39643.000000      ...         \n",
       "mean         3.293469      4.542971      1.249905      ...         \n",
       "std          3.855043      8.306262      4.107902      ...         \n",
       "min          0.000000      0.000000      0.000000      ...         \n",
       "25%          1.000000      1.000000      0.000000      ...         \n",
       "50%          3.000000      1.000000      0.000000      ...         \n",
       "75%          4.000000      4.000000      1.000000      ...         \n",
       "max        116.000000    128.000000     91.000000      ...         \n",
       "\n",
       "       min_positive_polarity  max_positive_polarity  avg_negative_polarity  \\\n",
       "count           39643.000000           39643.000000           39643.000000   \n",
       "mean                0.095448               0.756747              -0.259531   \n",
       "std                 0.071314               0.247760               0.127721   \n",
       "min                 0.000000               0.000000              -1.000000   \n",
       "25%                 0.050000               0.600000              -0.328384   \n",
       "50%                 0.100000               0.800000              -0.253333   \n",
       "75%                 0.100000               1.000000              -0.186905   \n",
       "max                 1.000000               1.000000               0.000000   \n",
       "\n",
       "       min_negative_polarity  max_negative_polarity  title_subjectivity  \\\n",
       "count           39643.000000           39643.000000        39643.000000   \n",
       "mean               -0.521957              -0.107503            0.282360   \n",
       "std                 0.290281               0.095373            0.324248   \n",
       "min                -1.000000              -1.000000            0.000000   \n",
       "25%                -0.700000              -0.125000            0.000000   \n",
       "50%                -0.500000              -0.100000            0.150000   \n",
       "75%                -0.300000              -0.050000            0.500000   \n",
       "max                 0.000000               0.000000            1.000000   \n",
       "\n",
       "       title_sentiment_polarity  abs_title_subjectivity  \\\n",
       "count              39643.000000            39643.000000   \n",
       "mean                   0.071427                0.341851   \n",
       "std                    0.265453                0.188785   \n",
       "min                   -1.000000                0.000000   \n",
       "25%                    0.000000                0.166667   \n",
       "50%                    0.000000                0.500000   \n",
       "75%                    0.150000                0.500000   \n",
       "max                    1.000000                0.500000   \n",
       "\n",
       "       abs_title_sentiment_polarity         shares  \n",
       "count                  39643.000000   39643.000000  \n",
       "mean                       0.156068    3395.317004  \n",
       "std                        0.226296   11627.090592  \n",
       "min                        0.000000       1.000000  \n",
       "25%                        0.000000     946.000000  \n",
       "50%                        0.000000    1400.000000  \n",
       "75%                        0.250000    2800.000000  \n",
       "max                        1.000000  843300.000000  \n",
       "\n",
       "[8 rows x 60 columns]"
      ]
     },
     "execution_count": 25,
     "metadata": {},
     "output_type": "execute_result"
    }
   ],
   "source": [
    "# looks like the maximum values of n_unique_tokens, n_non_stop_words, and n_non_stop_unique_tokens are not reasonable\n",
    "newsdf.loc[newsdf['n_unique_tokens'] == 701.0] # which article is this? #index 31037 ukraine civilians...\n",
    "# this entry also includes the maximum values of n_non_stop_words and n_non_stop_unique_tokens\n",
    "newsdf = newsdf[newsdf['n_unique_tokens'] != 701.0] #remove this entry\n",
    "newsdf.describe() # better"
   ]
  },
  {
   "cell_type": "code",
   "execution_count": 26,
   "metadata": {},
   "outputs": [
    {
     "name": "stdout",
     "output_type": "stream",
     "text": [
      "Cleaned news dataframe shape:  (39643, 61) \n",
      "\n"
     ]
    }
   ],
   "source": [
    "print('Cleaned news dataframe shape: ',newsdf.shape,'\\n')"
   ]
  },
  {
   "cell_type": "code",
   "execution_count": 27,
   "metadata": {
    "scrolled": true
   },
   "outputs": [
    {
     "name": "stdout",
     "output_type": "stream",
     "text": [
      "Shares Statistical info\n",
      "count     39643.000000\n",
      "mean       3395.317004\n",
      "std       11627.090592\n",
      "min           1.000000\n",
      "25%         946.000000\n",
      "50%        1400.000000\n",
      "75%        2800.000000\n",
      "max      843300.000000\n",
      "Name: shares, dtype: float64\n"
     ]
    }
   ],
   "source": [
    "print('Shares Statistical info')\n",
    "print(newsdf['shares'].describe())"
   ]
  },
  {
   "cell_type": "code",
   "execution_count": 28,
   "metadata": {},
   "outputs": [
    {
     "data": {
      "text/plain": [
       "1400.0"
      ]
     },
     "execution_count": 28,
     "metadata": {},
     "output_type": "execute_result"
    }
   ],
   "source": [
    "newsdf['shares'].median()"
   ]
  },
  {
   "cell_type": "code",
   "execution_count": 29,
   "metadata": {},
   "outputs": [
    {
     "name": "stdout",
     "output_type": "stream",
     "text": [
      "Predictor Variable Data Shape:  (39643, 58)\n",
      "Shares array length:  39643\n"
     ]
    }
   ],
   "source": [
    "# From Task 2.1 part 3\n",
    "# export predictor vars as np array\n",
    "X = newsdf.drop(['url','timedelta','shares'],axis=1).as_matrix()\n",
    "shares = newsdf['shares'].as_matrix()\n",
    "y = [1 if x > newsdf['shares'].median() else 0 for x in shares] #binary numpy array, y, which indicates whether or not each article is popular\n",
    "\n",
    "print('Predictor Variable Data Shape: ',X.shape)\n",
    "print('Shares array length: ',len(y))"
   ]
  },
  {
   "cell_type": "markdown",
   "metadata": {},
   "source": [
    "Minimum number of shares: 1 <br>\n",
    "Median number of shares: 1,400 <br>\n",
    "Maximum number of shares: 843,300 <br>"
   ]
  },
  {
   "cell_type": "markdown",
   "metadata": {},
   "source": [
    "### Task 2.3 Classification using k-NN\n",
    "\n",
    "Develop a k-NN classification model for the data. Use cross validation to choose the best value of k. What is the best accuracy you can obtain on the test data? "
   ]
  },
  {
   "cell_type": "code",
   "execution_count": 30,
   "metadata": {},
   "outputs": [
    {
     "name": "stdout",
     "output_type": "stream",
     "text": [
      "Confusion Matrix\n",
      "[[4166 1774]\n",
      " [3397 2556]]\n",
      "Accuracy =  0.565206423947\n"
     ]
    }
   ],
   "source": [
    "k = 10 #arbitrary choice of k\n",
    "\n",
    "X_train, X_test, y_train, y_test = train_test_split(X, y, random_state=1, test_size=0.3)\n",
    "news_knn = KNeighborsClassifier(n_neighbors=k)\n",
    "news_knn.fit(X_train, y_train)\n",
    "\n",
    "y_pred = news_knn.predict(X_test)\n",
    "print('Confusion Matrix')\n",
    "print(metrics.confusion_matrix(y_true = y_test, y_pred = y_pred))\n",
    "print('Accuracy = ', metrics.accuracy_score(y_true = y_test, y_pred = y_pred))"
   ]
  },
  {
   "cell_type": "code",
   "execution_count": 31,
   "metadata": {},
   "outputs": [
    {
     "data": {
      "image/png": "[encoded data removed]",
      "text/plain": [
       "<matplotlib.figure.Figure at 0x20d92cc5d68>"
      ]
     },
     "metadata": {},
     "output_type": "display_data"
    }
   ],
   "source": [
    "# Your code here\n",
    "news_knn.get_params()\n",
    "\n",
    "Ks = np.arange(1,100,4)\n",
    "Accuracies = np.zeros(Ks.shape[0])\n",
    "for i,k in enumerate(Ks):\n",
    "    news_knn = KNeighborsClassifier(n_neighbors=int(k))\n",
    "    scores = cross_val_score(estimator = news_knn, X = X, y = y, cv=5, scoring='accuracy') \n",
    "    Accuracies[i]  = scores.mean()\n",
    "    \n",
    "plt.plot(Ks,Accuracies)\n",
    "plt.title('Evaluating accuracy of k-values')\n",
    "plt.xlabel('k value')\n",
    "plt.ylabel('Accuracy')\n",
    "plt.show()"
   ]
  },
  {
   "cell_type": "code",
   "execution_count": 32,
   "metadata": {
    "scrolled": true
   },
   "outputs": [
    {
     "data": {
      "image/png": "[encoded data removed]",
      "text/plain": [
       "<matplotlib.figure.Figure at 0x20d936b92e8>"
      ]
     },
     "metadata": {},
     "output_type": "display_data"
    }
   ],
   "source": [
    "plt.plot(Ks,Accuracies)\n",
    "plt.title('Evaluating accuracy of k-values')\n",
    "plt.xlabel('k value')\n",
    "plt.ylabel('Accuracy')\n",
    "plt.xlim(30,40) ################ CHECK THIS AND K VALUE\n",
    "plt.show()"
   ]
  },
  {
   "cell_type": "code",
   "execution_count": 33,
   "metadata": {},
   "outputs": [
    {
     "name": "stdout",
     "output_type": "stream",
     "text": [
      "Confusion Matrix\n",
      "[[3784 2156]\n",
      " [2835 3118]]\n",
      "Accuracy =  0.580341377281\n"
     ]
    }
   ],
   "source": [
    "k = 37 # based on cross-validation\n",
    "\n",
    "#X_train, X_test, y_train, y_test = train_test_split(X, y, random_state=1, test_size=0.3)\n",
    "news_knn = KNeighborsClassifier(n_neighbors=k)\n",
    "news_knn.fit(X_train, y_train)\n",
    "\n",
    "y_pred = news_knn.predict(X_test)\n",
    "print('Confusion Matrix')\n",
    "print(metrics.confusion_matrix(y_true = y_test, y_pred = y_pred))\n",
    "print('Accuracy = ', metrics.accuracy_score(y_true = y_test, y_pred = y_pred))"
   ]
  },
  {
   "cell_type": "markdown",
   "metadata": {},
   "source": [
    "**Interpretation:** \n",
    "Maximum accuracy achieved: 0.5803\n",
    "\n",
    "Explanation:\n",
    "At the start, I arbitrarily chose k = 10, which yielded an accuracy of 0.565, which is not too impressive.  I evaluated the accuracy at 100 k-values between 1 and 100, which illustrated that the k-value of 37 yielded the maximum cross-validation accuracy of 0.564.  When I ran the k-NN model using k = 37, the accuracy was 0.5803."
   ]
  },
  {
   "cell_type": "markdown",
   "metadata": {},
   "source": [
    "### Task 2.4 Classification using SVM\n",
    "\n",
    "Develop a support vector machine classification model for the data. \n",
    " \n",
    " * SVM is computationally expensive, so start by using only a fraction of the data, say 5,000 articles. \n",
    " * Experimt with different Cs. Which is the best value for C?\n",
    "\n",
    "Note that it takes multiple minutes to run on the whole dataset."
   ]
  },
  {
   "cell_type": "code",
   "execution_count": 34,
   "metadata": {},
   "outputs": [
    {
     "name": "stdout",
     "output_type": "stream",
     "text": [
      "Confusion Matrix\n",
      "[[  3 679]\n",
      " [  2 816]]\n",
      "Accuracy =  0.546\n"
     ]
    }
   ],
   "source": [
    "# Your code here\n",
    "Xsubset = X[:5000][:]\n",
    "ysubset = y[:5000]\n",
    "\n",
    "X_train, X_test, y_train, y_test = train_test_split(Xsubset, ysubset, random_state=1, test_size=0.3)\n",
    "\n",
    "news_svm = svm.SVC(kernel='rbf',C=100)\n",
    "news_svm.fit(X_train, y_train)\n",
    "\n",
    "y_pred = news_svm.predict(X_test)\n",
    "print('Confusion Matrix')\n",
    "print(metrics.confusion_matrix(y_true = y_test, y_pred = y_pred))\n",
    "print('Accuracy = ', metrics.accuracy_score(y_true = y_test, y_pred = y_pred))"
   ]
  },
  {
   "cell_type": "code",
   "execution_count": 35,
   "metadata": {},
   "outputs": [
    {
     "data": {
      "image/png": "[encoded data removed]",
      "text/plain": [
       "<matplotlib.figure.Figure at 0x20d9384e6d8>"
      ]
     },
     "metadata": {},
     "output_type": "display_data"
    }
   ],
   "source": [
    "news_svm.get_params()\n",
    "\n",
    "Cs = np.linspace(1,200,10)\n",
    "Accuracies = np.zeros(Cs.shape[0])\n",
    "for i,C in enumerate(Cs):\n",
    "    news_svm = svm.SVC(kernel='rbf', C = C)\n",
    "    scores = cross_val_score(estimator = news_svm, X = Xsubset, y = ysubset, cv=5, scoring='accuracy')     # cv = 5 ??\n",
    "    Accuracies[i]  = scores.mean()\n",
    "\n",
    "plt.plot(Cs,Accuracies)\n",
    "plt.title('Evaluating accuracy of C')\n",
    "plt.xlabel('C value')\n",
    "plt.ylabel('Accuracy')\n",
    "#plt.xlim(0,10)\n",
    "plt.show()\n"
   ]
  },
  {
   "cell_type": "code",
   "execution_count": 36,
   "metadata": {},
   "outputs": [
    {
     "name": "stdout",
     "output_type": "stream",
     "text": [
      "Confusion Matrix\n",
      "[[5938    2]\n",
      " [5953    0]]\n",
      "Accuracy =  0.49928529387\n"
     ]
    }
   ],
   "source": [
    "# now run model on entire dataset\n",
    "X_train, X_test, y_train, y_test = train_test_split(X, y, random_state=1, test_size=0.3)\n",
    "\n",
    "news_svm = svm.SVC(kernel='rbf',C=100)\n",
    "news_svm.fit(X_train, y_train)\n",
    "\n",
    "y_pred = news_svm.predict(X_test)\n",
    "print('Confusion Matrix')\n",
    "print(metrics.confusion_matrix(y_true = y_test, y_pred = y_pred))\n",
    "print('Accuracy = ', metrics.accuracy_score(y_true = y_test, y_pred = y_pred))"
   ]
  },
  {
   "cell_type": "markdown",
   "metadata": {},
   "source": [
    "### Task 2.5 Classification using decision trees\n",
    "\n",
    "Develop a decision tree classification model for the data. \n",
    "\n",
    "Use cross validation to choose good values of the max tree depth (*max_depth*) and minimum samples split (*min_samples_split*). "
   ]
  },
  {
   "cell_type": "code",
   "execution_count": 41,
   "metadata": {},
   "outputs": [
    {
     "name": "stdout",
     "output_type": "stream",
     "text": [
      "Accuracy on training data=  0.715603603604\n",
      "Accuracy on test data=  0.644496762802\n"
     ]
    }
   ],
   "source": [
    "# Your code here\n",
    "\n",
    "decisionTree = tree.DecisionTreeClassifier(max_depth=10, min_samples_split=10)\n",
    "decisionTree = decisionTree.fit(X_train, y_train)\n",
    "\n",
    "y_pred_train = decisionTree.predict(X_train)\n",
    "print('Accuracy on training data= ', metrics.accuracy_score(y_true = y_train, y_pred = y_pred_train))\n",
    "\n",
    "y_pred = decisionTree.predict(X_test)\n",
    "print('Accuracy on test data= ', metrics.accuracy_score(y_true = y_test, y_pred = y_pred))"
   ]
  },
  {
   "cell_type": "code",
   "execution_count": 39,
   "metadata": {
    "collapsed": true
   },
   "outputs": [],
   "source": [
    "# Your code here\n",
    "def splitData(features):\n",
    "    news_predictors = X # titanic[features].as_matrix()\n",
    "    news_labels = y # titanic[\"Survived\"].as_matrix()\n",
    "\n",
    "    # Split into training and test sets\n",
    "    XTrain, XTest, yTrain, yTest = train_test_split(news_predictors, news_labels, random_state=1, test_size=0.3)\n",
    "    return XTrain, XTest, yTrain, yTest"
   ]
  },
  {
   "cell_type": "code",
   "execution_count": 40,
   "metadata": {},
   "outputs": [
    {
     "name": "stdout",
     "output_type": "stream",
     "text": [
      "min sample split: 3, max_depth: 3, accuracy: 0.5746\n",
      "min sample split: 3, max_depth: 8, accuracy: 0.571\n",
      "min sample split: 3, max_depth: 13, accuracy: 0.5514\n",
      "min sample split: 3, max_depth: 18, accuracy: 0.5444\n",
      "min sample split: 3, max_depth: 23, accuracy: 0.551\n",
      "min sample split: 3, max_depth: 28, accuracy: 0.5516\n",
      "min sample split: 3, max_depth: 33, accuracy: 0.5432\n",
      "min sample split: 3, max_depth: 38, accuracy: 0.5512\n",
      "min sample split: 3, max_depth: 43, accuracy: 0.5504\n",
      "min sample split: 3, max_depth: 48, accuracy: 0.542\n",
      "min sample split: 3, max_depth: 53, accuracy: 0.5422\n",
      "min sample split: 23, max_depth: 3, accuracy: 0.5746\n",
      "min sample split: 23, max_depth: 8, accuracy: 0.5728\n",
      "min sample split: 23, max_depth: 13, accuracy: 0.5524\n",
      "min sample split: 23, max_depth: 18, accuracy: 0.5526\n",
      "min sample split: 23, max_depth: 23, accuracy: 0.5594\n",
      "min sample split: 23, max_depth: 28, accuracy: 0.554\n",
      "min sample split: 23, max_depth: 33, accuracy: 0.5552\n",
      "min sample split: 23, max_depth: 38, accuracy: 0.5532\n",
      "min sample split: 23, max_depth: 43, accuracy: 0.5546\n",
      "min sample split: 23, max_depth: 48, accuracy: 0.5488\n",
      "min sample split: 23, max_depth: 53, accuracy: 0.552\n",
      "min sample split: 43, max_depth: 3, accuracy: 0.5746\n",
      "min sample split: 43, max_depth: 8, accuracy: 0.5736\n",
      "min sample split: 43, max_depth: 13, accuracy: 0.5554\n",
      "min sample split: 43, max_depth: 18, accuracy: 0.548\n",
      "min sample split: 43, max_depth: 23, accuracy: 0.548\n",
      "min sample split: 43, max_depth: 28, accuracy: 0.5462\n",
      "min sample split: 43, max_depth: 33, accuracy: 0.5458\n",
      "min sample split: 43, max_depth: 38, accuracy: 0.545\n",
      "min sample split: 43, max_depth: 43, accuracy: 0.5444\n",
      "min sample split: 43, max_depth: 48, accuracy: 0.5476\n",
      "min sample split: 43, max_depth: 53, accuracy: 0.549\n",
      "min sample split: 63, max_depth: 3, accuracy: 0.5746\n",
      "min sample split: 63, max_depth: 8, accuracy: 0.57\n",
      "min sample split: 63, max_depth: 13, accuracy: 0.5566\n",
      "min sample split: 63, max_depth: 18, accuracy: 0.553\n",
      "min sample split: 63, max_depth: 23, accuracy: 0.5534\n",
      "min sample split: 63, max_depth: 28, accuracy: 0.5524\n",
      "min sample split: 63, max_depth: 33, accuracy: 0.5524\n",
      "min sample split: 63, max_depth: 38, accuracy: 0.5514\n",
      "min sample split: 63, max_depth: 43, accuracy: 0.5514\n",
      "min sample split: 63, max_depth: 48, accuracy: 0.549\n",
      "min sample split: 63, max_depth: 53, accuracy: 0.5518\n",
      "min sample split: 83, max_depth: 3, accuracy: 0.5748\n",
      "min sample split: 83, max_depth: 8, accuracy: 0.5798\n",
      "min sample split: 83, max_depth: 13, accuracy: 0.5662\n",
      "min sample split: 83, max_depth: 18, accuracy: 0.5638\n",
      "min sample split: 83, max_depth: 23, accuracy: 0.5656\n",
      "min sample split: 83, max_depth: 28, accuracy: 0.566\n",
      "min sample split: 83, max_depth: 33, accuracy: 0.5642\n",
      "min sample split: 83, max_depth: 38, accuracy: 0.5652\n",
      "min sample split: 83, max_depth: 43, accuracy: 0.564\n",
      "min sample split: 83, max_depth: 48, accuracy: 0.5658\n",
      "min sample split: 83, max_depth: 53, accuracy: 0.566\n",
      "min sample split: 103, max_depth: 3, accuracy: 0.5748\n",
      "min sample split: 103, max_depth: 8, accuracy: 0.5774\n",
      "min sample split: 103, max_depth: 13, accuracy: 0.5646\n",
      "min sample split: 103, max_depth: 18, accuracy: 0.557\n",
      "min sample split: 103, max_depth: 23, accuracy: 0.5582\n",
      "min sample split: 103, max_depth: 28, accuracy: 0.5584\n",
      "min sample split: 103, max_depth: 33, accuracy: 0.5582\n",
      "min sample split: 103, max_depth: 38, accuracy: 0.5594\n",
      "min sample split: 103, max_depth: 43, accuracy: 0.5586\n",
      "min sample split: 103, max_depth: 48, accuracy: 0.5584\n",
      "min sample split: 103, max_depth: 53, accuracy: 0.5586\n",
      "min sample split: 123, max_depth: 3, accuracy: 0.5748\n",
      "min sample split: 123, max_depth: 8, accuracy: 0.5782\n",
      "min sample split: 123, max_depth: 13, accuracy: 0.5654\n",
      "min sample split: 123, max_depth: 18, accuracy: 0.5588\n",
      "min sample split: 123, max_depth: 23, accuracy: 0.5602\n",
      "min sample split: 123, max_depth: 28, accuracy: 0.558\n",
      "min sample split: 123, max_depth: 33, accuracy: 0.5592\n",
      "min sample split: 123, max_depth: 38, accuracy: 0.5576\n",
      "min sample split: 123, max_depth: 43, accuracy: 0.5592\n",
      "min sample split: 123, max_depth: 48, accuracy: 0.5578\n",
      "min sample split: 123, max_depth: 53, accuracy: 0.559\n",
      "min sample split: 143, max_depth: 3, accuracy: 0.5748\n",
      "min sample split: 143, max_depth: 8, accuracy: 0.579\n",
      "min sample split: 143, max_depth: 13, accuracy: 0.567\n",
      "min sample split: 143, max_depth: 18, accuracy: 0.562\n",
      "min sample split: 143, max_depth: 23, accuracy: 0.5624\n",
      "min sample split: 143, max_depth: 28, accuracy: 0.5612\n",
      "min sample split: 143, max_depth: 33, accuracy: 0.5614\n",
      "min sample split: 143, max_depth: 38, accuracy: 0.561\n",
      "min sample split: 143, max_depth: 43, accuracy: 0.5608\n",
      "min sample split: 143, max_depth: 48, accuracy: 0.5614\n",
      "min sample split: 143, max_depth: 53, accuracy: 0.5614\n",
      "min sample split: 163, max_depth: 3, accuracy: 0.5748\n",
      "min sample split: 163, max_depth: 8, accuracy: 0.5792\n",
      "min sample split: 163, max_depth: 13, accuracy: 0.5684\n",
      "min sample split: 163, max_depth: 18, accuracy: 0.566\n",
      "min sample split: 163, max_depth: 23, accuracy: 0.5662\n",
      "min sample split: 163, max_depth: 28, accuracy: 0.5648\n",
      "min sample split: 163, max_depth: 33, accuracy: 0.5654\n",
      "min sample split: 163, max_depth: 38, accuracy: 0.5652\n",
      "min sample split: 163, max_depth: 43, accuracy: 0.5654\n",
      "min sample split: 163, max_depth: 48, accuracy: 0.5652\n",
      "min sample split: 163, max_depth: 53, accuracy: 0.5654\n",
      "min sample split: 183, max_depth: 3, accuracy: 0.5748\n",
      "min sample split: 183, max_depth: 8, accuracy: 0.5792\n",
      "min sample split: 183, max_depth: 13, accuracy: 0.5696\n",
      "min sample split: 183, max_depth: 18, accuracy: 0.5714\n",
      "min sample split: 183, max_depth: 23, accuracy: 0.5714\n",
      "min sample split: 183, max_depth: 28, accuracy: 0.5716\n",
      "min sample split: 183, max_depth: 33, accuracy: 0.5718\n",
      "min sample split: 183, max_depth: 38, accuracy: 0.572\n",
      "min sample split: 183, max_depth: 43, accuracy: 0.572\n",
      "min sample split: 183, max_depth: 48, accuracy: 0.5722\n",
      "min sample split: 183, max_depth: 53, accuracy: 0.5718\n",
      "min sample split: 203, max_depth: 3, accuracy: 0.5748\n",
      "min sample split: 203, max_depth: 8, accuracy: 0.5794\n",
      "min sample split: 203, max_depth: 13, accuracy: 0.575\n",
      "min sample split: 203, max_depth: 18, accuracy: 0.5754\n",
      "min sample split: 203, max_depth: 23, accuracy: 0.5772\n",
      "min sample split: 203, max_depth: 28, accuracy: 0.576\n",
      "min sample split: 203, max_depth: 33, accuracy: 0.5776\n",
      "min sample split: 203, max_depth: 38, accuracy: 0.5776\n",
      "min sample split: 203, max_depth: 43, accuracy: 0.5776\n",
      "min sample split: 203, max_depth: 48, accuracy: 0.576\n",
      "min sample split: 203, max_depth: 53, accuracy: 0.5776\n",
      "min sample split: 223, max_depth: 3, accuracy: 0.5748\n",
      "min sample split: 223, max_depth: 8, accuracy: 0.579\n",
      "min sample split: 223, max_depth: 13, accuracy: 0.5734\n",
      "min sample split: 223, max_depth: 18, accuracy: 0.5754\n",
      "min sample split: 223, max_depth: 23, accuracy: 0.5756\n",
      "min sample split: 223, max_depth: 28, accuracy: 0.576\n",
      "min sample split: 223, max_depth: 33, accuracy: 0.576\n",
      "min sample split: 223, max_depth: 38, accuracy: 0.576\n",
      "min sample split: 223, max_depth: 43, accuracy: 0.576\n",
      "min sample split: 223, max_depth: 48, accuracy: 0.576\n",
      "min sample split: 223, max_depth: 53, accuracy: 0.576\n",
      "min sample split: 243, max_depth: 3, accuracy: 0.5748\n",
      "min sample split: 243, max_depth: 8, accuracy: 0.5806\n",
      "min sample split: 243, max_depth: 13, accuracy: 0.5762\n",
      "min sample split: 243, max_depth: 18, accuracy: 0.5782\n",
      "min sample split: 243, max_depth: 23, accuracy: 0.5784\n",
      "min sample split: 243, max_depth: 28, accuracy: 0.5788\n",
      "min sample split: 243, max_depth: 33, accuracy: 0.5788\n",
      "min sample split: 243, max_depth: 38, accuracy: 0.5788\n",
      "min sample split: 243, max_depth: 43, accuracy: 0.5788\n",
      "min sample split: 243, max_depth: 48, accuracy: 0.5788\n",
      "min sample split: 243, max_depth: 53, accuracy: 0.5788\n",
      "min sample split: 263, max_depth: 3, accuracy: 0.5748\n",
      "min sample split: 263, max_depth: 8, accuracy: 0.5826\n",
      "min sample split: 263, max_depth: 13, accuracy: 0.579\n",
      "min sample split: 263, max_depth: 18, accuracy: 0.581\n",
      "min sample split: 263, max_depth: 23, accuracy: 0.5812\n",
      "min sample split: 263, max_depth: 28, accuracy: 0.5816\n",
      "min sample split: 263, max_depth: 33, accuracy: 0.5816\n",
      "min sample split: 263, max_depth: 38, accuracy: 0.5816\n",
      "min sample split: 263, max_depth: 43, accuracy: 0.5816\n"
     ]
    },
    {
     "name": "stdout",
     "output_type": "stream",
     "text": [
      "min sample split: 263, max_depth: 48, accuracy: 0.5816\n",
      "min sample split: 263, max_depth: 53, accuracy: 0.5816\n",
      "min sample split: 283, max_depth: 3, accuracy: 0.5748\n",
      "min sample split: 283, max_depth: 8, accuracy: 0.5838\n",
      "min sample split: 283, max_depth: 13, accuracy: 0.5812\n",
      "min sample split: 283, max_depth: 18, accuracy: 0.5768\n",
      "min sample split: 283, max_depth: 23, accuracy: 0.577\n",
      "min sample split: 283, max_depth: 28, accuracy: 0.5774\n",
      "min sample split: 283, max_depth: 33, accuracy: 0.5774\n",
      "min sample split: 283, max_depth: 38, accuracy: 0.5774\n",
      "min sample split: 283, max_depth: 43, accuracy: 0.5774\n",
      "min sample split: 283, max_depth: 48, accuracy: 0.5774\n",
      "min sample split: 283, max_depth: 53, accuracy: 0.5774\n",
      "min sample split: 303, max_depth: 3, accuracy: 0.5748\n",
      "min sample split: 303, max_depth: 8, accuracy: 0.5858\n",
      "min sample split: 303, max_depth: 13, accuracy: 0.5846\n",
      "min sample split: 303, max_depth: 18, accuracy: 0.5802\n",
      "min sample split: 303, max_depth: 23, accuracy: 0.5804\n",
      "min sample split: 303, max_depth: 28, accuracy: 0.5808\n",
      "min sample split: 303, max_depth: 33, accuracy: 0.5808\n",
      "min sample split: 303, max_depth: 38, accuracy: 0.5808\n",
      "min sample split: 303, max_depth: 43, accuracy: 0.5808\n",
      "min sample split: 303, max_depth: 48, accuracy: 0.5808\n",
      "min sample split: 303, max_depth: 53, accuracy: 0.5808\n",
      "min sample split: 323, max_depth: 3, accuracy: 0.5748\n",
      "min sample split: 323, max_depth: 8, accuracy: 0.5872\n",
      "min sample split: 323, max_depth: 13, accuracy: 0.5836\n",
      "min sample split: 323, max_depth: 18, accuracy: 0.5828\n",
      "min sample split: 323, max_depth: 23, accuracy: 0.583\n",
      "min sample split: 323, max_depth: 28, accuracy: 0.5834\n",
      "min sample split: 323, max_depth: 33, accuracy: 0.5834\n",
      "min sample split: 323, max_depth: 38, accuracy: 0.5834\n",
      "min sample split: 323, max_depth: 43, accuracy: 0.5834\n",
      "min sample split: 323, max_depth: 48, accuracy: 0.5834\n",
      "min sample split: 323, max_depth: 53, accuracy: 0.5834\n",
      "min sample split: 343, max_depth: 3, accuracy: 0.5748\n",
      "min sample split: 343, max_depth: 8, accuracy: 0.59\n",
      "min sample split: 343, max_depth: 13, accuracy: 0.582\n",
      "min sample split: 343, max_depth: 18, accuracy: 0.5812\n",
      "min sample split: 343, max_depth: 23, accuracy: 0.5814\n",
      "min sample split: 343, max_depth: 28, accuracy: 0.5818\n",
      "min sample split: 343, max_depth: 33, accuracy: 0.5818\n",
      "min sample split: 343, max_depth: 38, accuracy: 0.5818\n",
      "min sample split: 343, max_depth: 43, accuracy: 0.5818\n",
      "min sample split: 343, max_depth: 48, accuracy: 0.5818\n",
      "min sample split: 343, max_depth: 53, accuracy: 0.5818\n",
      "min sample split: 363, max_depth: 3, accuracy: 0.5748\n",
      "min sample split: 363, max_depth: 8, accuracy: 0.59\n",
      "min sample split: 363, max_depth: 13, accuracy: 0.582\n",
      "min sample split: 363, max_depth: 18, accuracy: 0.5812\n",
      "min sample split: 363, max_depth: 23, accuracy: 0.5814\n",
      "min sample split: 363, max_depth: 28, accuracy: 0.5814\n",
      "min sample split: 363, max_depth: 33, accuracy: 0.5814\n",
      "min sample split: 363, max_depth: 38, accuracy: 0.5814\n",
      "min sample split: 363, max_depth: 43, accuracy: 0.5814\n",
      "min sample split: 363, max_depth: 48, accuracy: 0.5814\n",
      "min sample split: 363, max_depth: 53, accuracy: 0.5814\n",
      "min sample split: 383, max_depth: 3, accuracy: 0.5748\n",
      "min sample split: 383, max_depth: 8, accuracy: 0.5908\n",
      "min sample split: 383, max_depth: 13, accuracy: 0.5838\n",
      "min sample split: 383, max_depth: 18, accuracy: 0.583\n",
      "min sample split: 383, max_depth: 23, accuracy: 0.5822\n",
      "min sample split: 383, max_depth: 28, accuracy: 0.5822\n",
      "min sample split: 383, max_depth: 33, accuracy: 0.5822\n",
      "min sample split: 383, max_depth: 38, accuracy: 0.5822\n",
      "min sample split: 383, max_depth: 43, accuracy: 0.5822\n",
      "min sample split: 383, max_depth: 48, accuracy: 0.5822\n",
      "min sample split: 383, max_depth: 53, accuracy: 0.5822\n",
      "min sample split: 403, max_depth: 3, accuracy: 0.5748\n",
      "min sample split: 403, max_depth: 8, accuracy: 0.5922\n",
      "min sample split: 403, max_depth: 13, accuracy: 0.5852\n",
      "min sample split: 403, max_depth: 18, accuracy: 0.5844\n",
      "min sample split: 403, max_depth: 23, accuracy: 0.5842\n",
      "min sample split: 403, max_depth: 28, accuracy: 0.5842\n",
      "min sample split: 403, max_depth: 33, accuracy: 0.5842\n",
      "min sample split: 403, max_depth: 38, accuracy: 0.5842\n",
      "min sample split: 403, max_depth: 43, accuracy: 0.5842\n",
      "min sample split: 403, max_depth: 48, accuracy: 0.5842\n",
      "min sample split: 403, max_depth: 53, accuracy: 0.5842\n",
      "min sample split: 423, max_depth: 3, accuracy: 0.5748\n",
      "min sample split: 423, max_depth: 8, accuracy: 0.5894\n",
      "min sample split: 423, max_depth: 13, accuracy: 0.5872\n",
      "min sample split: 423, max_depth: 18, accuracy: 0.5864\n",
      "min sample split: 423, max_depth: 23, accuracy: 0.5864\n",
      "min sample split: 423, max_depth: 28, accuracy: 0.5864\n",
      "min sample split: 423, max_depth: 33, accuracy: 0.5864\n",
      "min sample split: 423, max_depth: 38, accuracy: 0.5864\n",
      "min sample split: 423, max_depth: 43, accuracy: 0.5864\n",
      "min sample split: 423, max_depth: 48, accuracy: 0.5864\n",
      "min sample split: 423, max_depth: 53, accuracy: 0.5864\n",
      "min sample split: 443, max_depth: 3, accuracy: 0.5748\n",
      "min sample split: 443, max_depth: 8, accuracy: 0.5894\n",
      "min sample split: 443, max_depth: 13, accuracy: 0.5872\n",
      "min sample split: 443, max_depth: 18, accuracy: 0.5864\n",
      "min sample split: 443, max_depth: 23, accuracy: 0.5864\n",
      "min sample split: 443, max_depth: 28, accuracy: 0.5864\n",
      "min sample split: 443, max_depth: 33, accuracy: 0.5864\n",
      "min sample split: 443, max_depth: 38, accuracy: 0.5864\n",
      "min sample split: 443, max_depth: 43, accuracy: 0.5864\n",
      "min sample split: 443, max_depth: 48, accuracy: 0.5864\n",
      "min sample split: 443, max_depth: 53, accuracy: 0.5864\n",
      "max accuracy = 0.5922\n"
     ]
    }
   ],
   "source": [
    "all_features = list(newsdf)[2:60]\n",
    "XTrain, XTest, yTrain, yTest = splitData(all_features)\n",
    "\n",
    "min_ss = np.arange(3,450,20)\n",
    "max_depths = np.arange(3,58,5) # maximum depth = number of features/variables\n",
    "accuracies = []\n",
    "for ss in min_ss: \n",
    "    for depth in max_depths:\n",
    "        decisionTree = tree.DecisionTreeClassifier(min_samples_split=ss,max_depth=depth)\n",
    "        y_pred = cross_val_predict(estimator = decisionTree, X = Xsubset, y = ysubset, cv=5) #change Xsubset to X\n",
    "        accuracy = metrics.accuracy_score(y_true = ysubset, y_pred = y_pred)\n",
    "        accuracies.append(accuracy)\n",
    "        print('min sample split: '+str(ss)+', max_depth: '+str(depth)+', accuracy: '+str(accuracy))\n",
    "        \n",
    "print('max accuracy = '+str(max(accuracies)))\n"
   ]
  },
  {
   "cell_type": "code",
   "execution_count": 42,
   "metadata": {},
   "outputs": [
    {
     "name": "stdout",
     "output_type": "stream",
     "text": [
      "Accuracy on training data=  0.660936936937\n",
      "Accuracy on test data=  0.650634827209\n"
     ]
    }
   ],
   "source": [
    "#%% run model again w/ optimized parameters\n",
    "\n",
    "decisionTree = tree.DecisionTreeClassifier(max_depth=8, min_samples_split=403) #parameters determined by loop above\n",
    "decisionTree = decisionTree.fit(XTrain, yTrain)\n",
    "\n",
    "y_pred_train = decisionTree.predict(XTrain)\n",
    "print('Accuracy on training data= ', metrics.accuracy_score(y_true = yTrain, y_pred = y_pred_train))\n",
    "\n",
    "y_pred = decisionTree.predict(XTest)\n",
    "print('Accuracy on test data= ', metrics.accuracy_score(y_true = yTest, y_pred = y_pred))"
   ]
  },
  {
   "cell_type": "markdown",
   "metadata": {},
   "source": [
    "### Task 2.6 Describe your findings\n",
    "1. Which method (k-NN, SVM, Decision Tree) worked best? <br>\n",
    "+ How did different parameters influence the accuracy? <br>\n",
    "+ Which model is easiest to interpret?\n",
    "+ How would you interpret your results?\n"
   ]
  },
  {
   "cell_type": "markdown",
   "metadata": {},
   "source": [
    "**Your Solution:**\n",
    "1. The decision tree performed the best, with a 1% increase over the poorly performing SVN model.<br>\n",
    "    k-NN max accuracy = 0.5803 <br>\n",
    "    SVM max accuracy = 0.499 <br>\n",
    "    Decision Tree max accuracy = 0.6506 <br>\n",
    "+ k-NN: k strongly influenced cross-validation accuracy ranging from 0.53 to 0.56 <br>\n",
    "    SVM: model accuracy was constant and did not depend on C, which is computationally expensive to determine <br>\n",
    "    Decision Tree: As Min_sample_splits increased, so did cross-val accuracy, up to a min_sample_split value of 400.  Max_depths didn't have a strong impact. <br>\n",
    "+ The k-NN and decision tree models are easiest to intepret primarily because they can be easily visualized. <br>\n",
    "+ The Decision Tree model performed the best at an accuracy of 0.6506, however, this is still not a high accuracy value that would give me confidence in using the model to predict with new data.\n",
    "    "
   ]
  },
  {
   "cell_type": "markdown",
   "metadata": {},
   "source": [
    "** Reference Solution:** \n",
    "\n",
    "1. Decision trees work the best was better than KNN\n",
    "+ Parameters\n",
    "    + For decision trees, higher splits had a positive effect, topping out at about 400.\n",
    "    + For SVM, C didn't have a noticable effect. It performed poorly anyways and takes very long.\n",
    "    + For k-NN a k of 50 perfomed best.\n",
    "+ k-NN and decision trees are easy to interpret.\n",
    "+ The accuracy of predicting popularity of newspaper articles using just those features is not very high; a chance pick would have an accuracy of 0.5."
   ]
  }
 ],
 "metadata": {
  "anaconda-cloud": {},
  "kernelspec": {
   "display_name": "Python 3",
   "language": "python",
   "name": "python3"
  },
  "language_info": {
   "codemirror_mode": {
    "name": "ipython",
    "version": 3
   },
   "file_extension": ".py",
   "mimetype": "text/x-python",
   "name": "python",
   "nbconvert_exporter": "python",
   "pygments_lexer": "ipython3",
   "version": "3.6.3"
  }
 },
 "nbformat": 4,
 "nbformat_minor": 2
}
