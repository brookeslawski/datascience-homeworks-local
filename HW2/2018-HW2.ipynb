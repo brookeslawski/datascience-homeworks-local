{
 "cells": [
  {
   "cell_type": "markdown",
   "metadata": {},
   "source": [
    "# Introduction to Data Science - Homework 2\n",
    "*COMP 5360 / MATH 4100, University of Utah, http://datasciencecourse.net/*\n",
    "\n",
    "Due: Friday, January 26, 11:59pm.\n",
    "\n",
    "This homework is designed to reinforce the skills we covered in weeks 1 and 2: working with loops, conditions, functions, and the built-in Python data structures. We'll also calcluate descriptive statistics, and sample from a distribution. Make sure to go through the lectures again in case you have any troubles.\n",
    "\n",
    "In this homework we'll do calculations that are also available in NumPy. For Parts 1 and 2, however, **we want you to implement the solutions using standard python functionality and the math library, and then check your results using NumPy**. See the the [NumPy library](http://docs.scipy.org/doc/numpy-1.11.0/reference/routines.statistics.html) documentation, and include the checks as a separate code cell. \n",
    "\n",
    "\n",
    "**For Part 3, you should use the SciPy libary, specifically [SciPy Stats](https://docs.scipy.org/doc/scipy/reference/stats.html).** "
   ]
  },
  {
   "cell_type": "markdown",
   "metadata": {},
   "source": [
    "## Your Data\n",
    "Fill out the following information: \n",
    "\n",
    "*First Name:*   Brooke <br>\n",
    "*Last Name:*   Stanislawski <br>\n",
    "*E-mail:*   brooke.stanislawski@utah.edu <br>\n",
    "*UID:*  u1142223 <br>\n"
   ]
  },
  {
   "cell_type": "markdown",
   "metadata": {},
   "source": [
    "## Part 1: Vector data"
   ]
  },
  {
   "cell_type": "markdown",
   "metadata": {},
   "source": [
    "We first will work with a vector of yearly average temperatures from New Haven published [here](https://vincentarelbundock.github.io/Rdatasets/datasets.html). The data is included in this repository in the file `nhtmep.csv`.\n",
    "\n",
    "The data is stored in the CSV format, which is a simple textfile with 'Comma Seperated Values'.\n",
    "To load the data to into a (nested) python array, we use the [csv](https://docs.python.org/3/library/csv.html) library. The following code reads the file and stores it in a vector:"
   ]
  },
  {
   "cell_type": "code",
   "execution_count": 1,
   "metadata": {},
   "outputs": [
    {
     "name": "stdout",
     "output_type": "stream",
     "text": [
      "[49.9, 52.3, 49.4, 51.1, 49.4, 47.9, 49.8, 50.9, 49.3, 51.9, 50.8, 49.6, 49.3, 50.6, 48.4, 50.7, 50.9, 50.6, 51.5, 52.8, 51.8, 51.1, 49.8, 50.2, 50.4, 51.6, 51.8, 50.9, 48.8, 51.7, 51.0, 50.6, 51.7, 51.5, 52.1, 51.3, 51.0, 54.0, 51.4, 52.7, 53.1, 54.6, 52.0, 52.0, 50.9, 52.6, 50.2, 52.6, 51.6, 51.9, 50.5, 50.9, 51.7, 51.4, 51.7, 50.8, 51.9, 51.8, 51.9, 53.0]\n"
     ]
    }
   ],
   "source": [
    "# import the csv library\n",
    "import csv\n",
    "# import the math library we'll use later\n",
    "import math\n",
    "# import the numpy library\n",
    "import numpy as np\n",
    "\n",
    "# initialize the array\n",
    "temperature_vector = []\n",
    "\n",
    "# open the file and append the values of the last column to the array\n",
    "with open('nhtemp.csv') as csvfile:\n",
    "    filereader = csv.reader(csvfile, delimiter=',', quotechar='|')\n",
    "    # remove the first item as it is the title.\n",
    "    next(filereader)\n",
    "    for row in filereader:\n",
    "        # here we append to the array and also cast from string to float\n",
    "        temperature_vector.append(float(row[2]))\n",
    "        \n",
    "# print the vector to see if it worked\n",
    "print (temperature_vector)"
   ]
  },
  {
   "cell_type": "markdown",
   "metadata": {},
   "source": [
    "We'll use the `temperature_vector` to calculate a couple of standard statistical measures next."
   ]
  },
  {
   "cell_type": "markdown",
   "metadata": {},
   "source": [
    "### Task 1.1: Calculate the Mean of a Vector\n",
    "\n",
    "Write a function that calculates and returns the [arithmetic mean](https://en.wikipedia.org/wiki/Arithmetic_mean) of a vector that you pass into it. \n",
    "\n",
    "Pass the temperature vector into this function and print the result. Provide a written interpretation of your results (e.g., \"The mean temperature for New Haven for the years 1912 to 1971 is XXX degrees Fahrenheit.\")"
   ]
  },
  {
   "cell_type": "code",
   "execution_count": 2,
   "metadata": {
    "collapsed": true
   },
   "outputs": [],
   "source": [
    "## your code goes here\n",
    "def nhtemps_mean(temps_vector):\n",
    "    sum_nhtemps = 0\n",
    "    #print('range(len(temps_vector)) = ',range(len(temps_vector)))\n",
    "    for i in range(len(temps_vector)):\n",
    "        #print('i = ',i)\n",
    "        sum_nhtemps += temps_vector[i]\n",
    "        #print('sum = ', sum_nhtemps)\n",
    "    #print('mean =',sum_nhtemps / len(temps_vector))\n",
    "    return sum_nhtemps / len(temps_vector)"
   ]
  },
  {
   "cell_type": "code",
   "execution_count": 3,
   "metadata": {},
   "outputs": [
    {
     "name": "stdout",
     "output_type": "stream",
     "text": [
      "The mean temperature for New Haven for the years 1912 to 1971 is 51.16 degrees Fahrenheit.\n"
     ]
    }
   ],
   "source": [
    "## call function and print\n",
    "print('The mean temperature for New Haven for the years 1912 to 1971 is', nhtemps_mean(temperature_vector), 'degrees Fahrenheit.')"
   ]
  },
  {
   "cell_type": "code",
   "execution_count": 4,
   "metadata": {},
   "outputs": [
    {
     "name": "stdout",
     "output_type": "stream",
     "text": [
      "The mean temperature for New Haven for the years 1912 to 1971 is 51.16 degrees Fahrenheit.\n"
     ]
    }
   ],
   "source": [
    "# Check our results using NumPy\n",
    "print('The mean temperature for New Haven for the years 1912 to 1971 is', np.mean(temperature_vector), 'degrees Fahrenheit.')"
   ]
  },
  {
   "cell_type": "markdown",
   "metadata": {},
   "source": [
    "**Your Interpretation:** The mean temperature for New Haven for the years 1912 to 1971 is 51.16 degrees Fahrenheit when computed with my function and when computed with the numpy library function."
   ]
  },
  {
   "cell_type": "markdown",
   "metadata": {},
   "source": [
    "### Task 1.2: Calculate the Median of a Vector\n",
    "Write a function that calculates and returns the [median](https://en.wikipedia.org/wiki/Median) of a vector. Pass the temperature vector into this function and print the result. Make sure that your function works for both, functions with an even and with an odd number of elements. In case of an even number of elements, use the mean of the two middle values. Provide a written interpretation of your results.\n",
    "\n",
    "Hint: the [`sorted()`](https://docs.python.org/3/library/functions.html#sorted) function might be helpful for this."
   ]
  },
  {
   "cell_type": "code",
   "execution_count": 5,
   "metadata": {
    "collapsed": true
   },
   "outputs": [],
   "source": [
    "## your code goes here\n",
    "def nhtemps_median(temps_vector):\n",
    "    #first sort values into ascending order\n",
    "    sorted_temps_vector = sorted(temps_vector)\n",
    "    if len(temps_vector) % 2 == 0: #if even number of inputs\n",
    "        return ((sorted_temps_vector[int(len(temps_vector)/2 - 1)]+sorted_temps_vector[int(len(temps_vector)/2)])/2)\n",
    "    else: #if odd number of inputs\n",
    "        return sorted_temps_vector[int(len(temps_vector)/2 - 0.5)]"
   ]
  },
  {
   "cell_type": "code",
   "execution_count": 6,
   "metadata": {},
   "outputs": [
    {
     "name": "stdout",
     "output_type": "stream",
     "text": [
      "The median value of New Haven temperatures for the years 1912 to 1971 is 51.2 degrees Fahrenheit.\n",
      "The median value of New Haven temperatures for the years 1912 to 1970 is 51.1 degrees Fahrenheit.\n"
     ]
    }
   ],
   "source": [
    "## call function and print\n",
    "print('The median value of New Haven temperatures for the years 1912 to 1971 is', nhtemps_median(temperature_vector), 'degrees Fahrenheit.')\n",
    "print('The median value of New Haven temperatures for the years 1912 to 1970 is', nhtemps_median(temperature_vector[0:59]), 'degrees Fahrenheit.')"
   ]
  },
  {
   "cell_type": "code",
   "execution_count": 7,
   "metadata": {},
   "outputs": [
    {
     "name": "stdout",
     "output_type": "stream",
     "text": [
      "The median value of New Haven temperatures for the years 1912 to 1971 is 51.2 degrees Fahrenheit, as calculated by numpy function.\n",
      "The median value of New Haven temperatures for the years 1912 to 1970 is 51.1 degrees Fahrenheit, as calculated by numpy function.\n"
     ]
    }
   ],
   "source": [
    "# Check with numpy here\n",
    "print('The median value of New Haven temperatures for the years 1912 to 1971 is', np.median(temperature_vector), 'degrees Fahrenheit, as calculated by numpy function.')\n",
    "print('The median value of New Haven temperatures for the years 1912 to 1970 is', np.median(temperature_vector[0:59]), 'degrees Fahrenheit, as calculated by numpy function.')"
   ]
  },
  {
   "cell_type": "markdown",
   "metadata": {},
   "source": [
    "**Your Interpretation:** The median value of New Haven temperatures for the years 1912 to 1971 is 51.2 degrees Fahrenheit, as calculated by both my own function and the numpy function.  When given a list that contains an odd number of values, such as the list of New Haven temperatures for the years 1912 to 1970, the median value is calculated as 51.1 degrees Fahrenheit by both my own function and the numpy function."
   ]
  },
  {
   "cell_type": "markdown",
   "metadata": {},
   "source": [
    "### Task 1.3: Calculate the Standard Deviation of a Vector\n",
    "\n",
    "Write a function that calculates and returns the [standard deviation](https://en.wikipedia.org/wiki/Standard_deviation) of a vector. Pass the temperature vector into this function and print the result. Provide a written interpretation of your results.\n",
    "\n",
    "The standard deviation is the square root of the average of the squared deviations from the mean, i.e.,\n",
    "\n",
    "$$\\sigma = \\sqrt{\\frac{1}{N} \\sum_{i=1}^{N} {{(x_i - \\mu)}^2} }$$\n",
    "\n",
    "where $\\mu$ is the mean of the vector. Hint: use your mean function to calculate it."
   ]
  },
  {
   "cell_type": "markdown",
   "metadata": {},
   "source": [
    "Hint: the `sqrt()` function from the [`math library`](https://docs.python.org/3/library/math.html) might be helpful for this. If you use a seperate file you need to load the library as we did in Part 1 to read in the data. The import looks like this:"
   ]
  },
  {
   "cell_type": "code",
   "execution_count": 8,
   "metadata": {
    "collapsed": true
   },
   "outputs": [],
   "source": [
    "## your code goes here\n",
    "def nhtemps_stddev(temps_vector):\n",
    "    dev_vector_sqrd = [0]*len(temps_vector)\n",
    "    for i in range(len(temps_vector)):\n",
    "        dev_vector_sqrd[i] = (temps_vector[i] - nhtemps_mean(temps_vector))**2\n",
    "        #print('dev_vector_sqrd = ',dev_vector_sqrd)\n",
    "    return math.sqrt(nhtemps_mean(dev_vector_sqrd))"
   ]
  },
  {
   "cell_type": "code",
   "execution_count": 9,
   "metadata": {},
   "outputs": [
    {
     "name": "stdout",
     "output_type": "stream",
     "text": [
      "The standard deviation is 1.2550166001558176\n"
     ]
    }
   ],
   "source": [
    "## call function and print\n",
    "print('The standard deviation is', nhtemps_stddev(temperature_vector))"
   ]
  },
  {
   "cell_type": "code",
   "execution_count": 10,
   "metadata": {},
   "outputs": [
    {
     "name": "stdout",
     "output_type": "stream",
     "text": [
      "The standard deviation is 1.25501660016 when calculated with numpy function\n"
     ]
    }
   ],
   "source": [
    "# Check with numpy here\n",
    "print('The standard deviation is', np.std(temperature_vector),'when calculated with numpy function')"
   ]
  },
  {
   "cell_type": "markdown",
   "metadata": {},
   "source": [
    "**Your Interpretation:** The standard deviation of the New Haven temperatures for the years 1912 to 1971 is 1.255 degrees Fahrenheit, as calculated by both my function and the numpy function."
   ]
  },
  {
   "cell_type": "markdown",
   "metadata": {},
   "source": [
    "### Task 1.4: Histogram\n",
    "\n",
    "Write a function that takes a vector and an integer `b` and calculates a [histogram](https://en.wikipedia.org/wiki/Histogram) with `b` bins. The function should return an array containing two arrays. The first should be the counts for each bin, the second should contain the borders of the bins.\n",
    "\n",
    "For `b=5` your output should look like this: \n",
    "\n",
    "`[[3, 12, 33, 10, 2], [47.9, 49.24, 50.58, 51.92, 53.26, 54.6]]`\n",
    "\n",
    "Here, the first array gives the size of these bins, the second defines the bands. I.e., the first band from 47.9-49.24 has 3 entries, the second, from 49.24-50.58 has 12 entries, etc. \n",
    "\n",
    "Provide a written interpretation of your results. Comment on whether the histogram is skewed, and if so, in which direction."
   ]
  },
  {
   "cell_type": "code",
   "execution_count": 11,
   "metadata": {
    "collapsed": true
   },
   "outputs": [],
   "source": [
    "## your code goes here\n",
    "def nhtemps_hist(temps_vector,b):\n",
    "    bin_borders = [0]*(b+1)\n",
    "    count_vec = [0]*b\n",
    "    bin_borders[0] = sorted(temps_vector)[0]\n",
    "    bin_interval = (sorted(temps_vector)[-1]-bin_borders[0]) / b #keeping bins of equal size\n",
    "    for i in range(1,len(bin_borders)): #create bins\n",
    "        count = 0\n",
    "        #bin_borders[i] = round(bin_borders[i-1]+bin_interval,2)\n",
    "        bin_borders[i] = bin_borders[i-1]+bin_interval\n",
    "        for j in range(len(temps_vector)): # count number of values within that bin\n",
    "            if temps_vector[j] >= bin_borders[i-1] and temps_vector[j] <= bin_borders[i]:\n",
    "                count += 1\n",
    "        count_vec[i-1] = count\n",
    "    return [count_vec, bin_borders]\n",
    "\n",
    "## what about rounding to match the numpy output format?"
   ]
  },
  {
   "cell_type": "code",
   "execution_count": 12,
   "metadata": {},
   "outputs": [
    {
     "name": "stdout",
     "output_type": "stream",
     "text": [
      "Counts for each bin, borders of the bins =  [[11, 41, 8], [47.9, 50.13333333333333, 52.36666666666667, 54.6]] \n",
      "\n",
      "Counts for each bin, borders of the bins =  [[3, 12, 33, 10, 2], [47.9, 49.24, 50.580000000000005, 51.92000000000001, 53.26000000000001, 54.600000000000016]] \n",
      "\n",
      "Counts for each bin, borders of the bins =  [[3, 8, 19, 22, 6, 2], [47.9, 49.016666666666666, 50.13333333333333, 51.25, 52.36666666666667, 53.483333333333334, 54.6]] \n",
      "\n",
      "Counts for each bin, borders of the bins =  [[3, 7, 9, 22, 13, 4, 1], [47.9, 48.857142857142854, 49.81428571428571, 50.771428571428565, 51.72857142857142, 52.685714285714276, 53.64285714285713, 54.59999999999999]] \n",
      "\n",
      "Counts for each bin, borders of the bins =  [[2, 5, 7, 16, 20, 6, 2, 1], [47.9, 48.7375, 49.574999999999996, 50.412499999999994, 51.24999999999999, 52.08749999999999, 52.92499999999999, 53.76249999999999, 54.59999999999999]] \n",
      "\n"
     ]
    }
   ],
   "source": [
    "## call function and print\n",
    "b = 3\n",
    "print('Counts for each bin, borders of the bins = ', nhtemps_hist(temperature_vector,b),'\\n')\n",
    "\n",
    "b = 5\n",
    "print('Counts for each bin, borders of the bins = ', nhtemps_hist(temperature_vector,b),'\\n')\n",
    "\n",
    "b = 6\n",
    "print('Counts for each bin, borders of the bins = ', nhtemps_hist(temperature_vector,b),'\\n')\n",
    "\n",
    "#\"rule of thumb bin size\" = sqrt(number of data points)\n",
    "b = 7\n",
    "print('Counts for each bin, borders of the bins = ', nhtemps_hist(temperature_vector,b),'\\n')\n",
    "\n",
    "b = 8\n",
    "print('Counts for each bin, borders of the bins = ', nhtemps_hist(temperature_vector,b),'\\n')"
   ]
  },
  {
   "cell_type": "code",
   "execution_count": 13,
   "metadata": {},
   "outputs": [
    {
     "name": "stdout",
     "output_type": "stream",
     "text": [
      "Counts for each bin, borders of the bins =  (array([11, 41,  8], dtype=int64), array([ 47.9       ,  50.13333333,  52.36666667,  54.6       ])) as calculated by numpy function \n",
      "\n",
      "Counts for each bin, borders of the bins =  (array([ 3, 12, 33, 10,  2], dtype=int64), array([ 47.9 ,  49.24,  50.58,  51.92,  53.26,  54.6 ])) as calculated by numpy function \n",
      "\n",
      "Counts for each bin, borders of the bins =  (array([ 3,  8, 19, 22,  6,  2], dtype=int64), array([ 47.9       ,  49.01666667,  50.13333333,  51.25      ,\n",
      "        52.36666667,  53.48333333,  54.6       ])) as calculated by numpy function \n",
      "\n",
      "Counts for each bin, borders of the bins =  (array([ 3,  7,  9, 22, 13,  4,  2], dtype=int64), array([ 47.9       ,  48.85714286,  49.81428571,  50.77142857,\n",
      "        51.72857143,  52.68571429,  53.64285714,  54.6       ])) as calculated by numpy function \n",
      "\n",
      "Counts for each bin, borders of the bins =  (array([ 2,  5,  7, 16, 20,  6,  2,  2], dtype=int64), array([ 47.9   ,  48.7375,  49.575 ,  50.4125,  51.25  ,  52.0875,\n",
      "        52.925 ,  53.7625,  54.6   ])) as calculated by numpy function \n",
      "\n"
     ]
    }
   ],
   "source": [
    "# Check with numpy here\n",
    "\n",
    "b = 3\n",
    "print('Counts for each bin, borders of the bins = ', np.histogram(temperature_vector,bins=b),'as calculated by numpy function \\n')\n",
    "\n",
    "b = 5\n",
    "print('Counts for each bin, borders of the bins = ', np.histogram(temperature_vector,bins=b),'as calculated by numpy function \\n')\n",
    "\n",
    "b = 6\n",
    "print('Counts for each bin, borders of the bins = ', np.histogram(temperature_vector,bins=b),'as calculated by numpy function \\n')\n",
    "\n",
    "b = 7\n",
    "print('Counts for each bin, borders of the bins = ', np.histogram(temperature_vector,bins=b),'as calculated by numpy function \\n')\n",
    "\n",
    "b = 8\n",
    "print('Counts for each bin, borders of the bins = ', np.histogram(temperature_vector,bins=b),'as calculated by numpy function \\n')"
   ]
  },
  {
   "cell_type": "markdown",
   "metadata": {},
   "source": [
    "**Your interpretation:** The function above outputs an array showing the frequency of a value falling into each bin and a second array showing the bin border values.  When b = 5 bins, the New Haven temperatures for the years 1912 to 1971 are divided into 5 bins with the following border values: [ 47.9 ,  49.24,  50.58,  51.92,  53.26,  54.6 ].  There are 3 years with temperatures that fall into the first bin, 12 temperature values that fall into the second bin, 33 into the third, 10 into the 4th, and 2 into the fifth/last bin.\n",
    "\n",
    "As a rule of thumb, bin size can be determined by calculated the square root of the number of data points.  We have 60 data points, so the closest number of gins are 7 and 8.  When b = 7 bins, there are an equal number of data points on the left and on the right of the center bin.  When b = 8 bins, there are an equal number of data points in the left 4 bins as in the right 4 bins.  This is again represented by the fact that the mean (51.16 deg F) and the median (51.2 deg F) are very close.  Therefore, this histogram is not skewed."
   ]
  },
  {
   "cell_type": "markdown",
   "metadata": {},
   "source": [
    "## Part 2: Working with Matrices"
   ]
  },
  {
   "cell_type": "markdown",
   "metadata": {},
   "source": [
    "For the second part of the homework, we are going to work with matrices. The [dataset we will use](https://www.wunderground.com/history/airport/KSLC/2015/1/1/CustomHistory.html?dayend=31&monthend=12&yearend=2015&req_city=&req_state=&req_statename=&reqdb.zip=&reqdb.magic=&reqdb.wmo=) contains different properties of the weather in Salt Lake City for 2015 (temperature, humidity, sea level, ...). It is stored in the file [`SLC_2015.csv`](SLC_2015.csv) in this repository."
   ]
  },
  {
   "cell_type": "markdown",
   "metadata": {},
   "source": [
    "We first read the data from the file and store it in a nested python array (`weather_matrix`). A nested python array is an array, where each element is an array itself. Here is a simple example: "
   ]
  },
  {
   "cell_type": "code",
   "execution_count": 14,
   "metadata": {},
   "outputs": [
    {
     "data": {
      "text/plain": [
       "[[1, 2, 3], ['a', 'b', 'c']]"
      ]
     },
     "execution_count": 14,
     "metadata": {},
     "output_type": "execute_result"
    }
   ],
   "source": [
    "arr1 = [1,2,3]\n",
    "arr2 = ['a', 'b', 'c']\n",
    "\n",
    "nestedArr = [arr1, arr2]\n",
    "nestedArr"
   ]
  },
  {
   "cell_type": "markdown",
   "metadata": {},
   "source": [
    "We provide you with the import code, which will write the data into the nested list `temperature_matrix`. The list contains one list for each month, which, in turn, contain the mean temparature of every day of that month. "
   ]
  },
  {
   "cell_type": "code",
   "execution_count": 15,
   "metadata": {},
   "outputs": [
    {
     "name": "stdout",
     "output_type": "stream",
     "text": [
      "[[15, 19, 26, 28, 37, 38, 38, 36, 35, 31, 39, 36, 35, 30, 31, 31, 37, 44, 40, 35, 31, 31, 31, 33, 42, 41, 44, 42, 36, 40, 39], [39, 49, 50, 50, 53, 57, 60, 53, 55, 45, 43, 47, 46, 48, 43, 40, 38, 44, 47, 44, 39, 33, 31, 35, 44, 35, 37, 36], [40, 37, 34, 33, 39, 43, 45, 45, 46, 50, 54, 50, 51, 56, 62, 63, 61, 53, 47, 53, 57, 54, 52, 47, 42, 48, 56, 62, 53, 57, 63], [46, 44, 44, 54, 60, 50, 52, 46, 49, 53, 58, 50, 57, 56, 33, 44, 50, 54, 56, 56, 60, 61, 61, 59, 51, 46, 50, 57, 65, 63], [63, 71, 68, 67, 62, 59, 58, 57, 49, 53, 59, 68, 65, 65, 53, 48, 56, 58, 55, 59, 58, 58, 55, 57, 62, 59, 61, 61, 64, 71, 76], [80, 68, 69, 68, 69, 70, 66, 73, 77, 78, 72, 74, 75, 76, 81, 77, 78, 83, 83, 78, 81, 78, 78, 83, 82, 84, 87, 88, 91, 89], [87, 87, 87, 89, 79, 79, 76, 75, 73, 72, 77, 79, 81, 77, 80, 80, 79, 74, 74, 73, 76, 77, 75, 78, 78, 84, 77, 66, 70, 76, 79], [80, 79, 69, 76, 82, 74, 76, 69, 72, 79, 83, 81, 83, 88, 83, 79, 77, 72, 74, 76, 81, 74, 76, 84, 85, 78, 77, 80, 85, 82, 75], [82, 83, 82, 80, 75, 60, 65, 66, 71, 73, 74, 76, 76, 74, 65, 57, 59, 56, 60, 65, 69, 71, 73, 72, 77, 79, 79, 74, 73, 77], [78, 64, 61, 62, 64, 65, 62, 65, 64, 69, 70, 64, 65, 67, 66, 66, 69, 66, 62, 56, 57, 55, 54, 57, 58, 58, 51, 49, 50, 45, 57], [61, 61, 53, 41, 39, 40, 40, 44, 51, 36, 40, 42, 41, 43, 48, 39, 32, 41, 42, 39, 34, 34, 35, 40, 45, 32, 28, 25, 25, 28], [29, 29, 32, 35, 36, 38, 37, 45, 51, 47, 37, 35, 36, 31, 26, 30, 23, 35, 41, 36, 38, 38, 31, 30, 23, 19, 17, 19, 21, 21, 12]]\n",
      "Mean temp on August 23: 76\n"
     ]
    }
   ],
   "source": [
    "# initialize the 12 arrays for the months\n",
    "temperature_matrix = [[] for i in range(12)]\n",
    "\n",
    "# open the file and append the values of the last column to the array\n",
    "with open('SLC_2015.csv') as csvfile:\n",
    "    filereader = csv.reader(csvfile, delimiter=',', quotechar='|')\n",
    "    # get rid of the header\n",
    "    next(filereader)\n",
    "    for row in filereader:\n",
    "        month = int(row[0].split('/')[0])\n",
    "        mean_temp = int(row[2])\n",
    "        temperature_matrix[month-1].append(mean_temp)\n",
    "\n",
    "print(temperature_matrix)\n",
    "\n",
    "# the mean tempertarure on August 23. Note the index offset:\n",
    "print(\"Mean temp on August 23: \" + str(temperature_matrix[7][22]))"
   ]
  },
  {
   "cell_type": "markdown",
   "metadata": {},
   "source": [
    "We will now use the nested array `temperature_matrix` to compute the same metrics as in Part 1.\n",
    "\n",
    "**Note:** Since the lists in the matrix are of varying lengths (28 to 31 days) many of the standard NumPy functions won't work."
   ]
  },
  {
   "cell_type": "markdown",
   "metadata": {},
   "source": [
    "### Task 2.1: Calculates the mean of a whole matrix\n",
    "\n",
    "Write a function that calculates the mean of a matrix. For this version calculate the mean over all elements in the matrix as if it was one large vector. \n",
    "Pass in the matrix with the weather data and return the result. Provide a written interpretation of your results.\n",
    "Can you use your function from Part 1 and get a valid result?"
   ]
  },
  {
   "cell_type": "code",
   "execution_count": 16,
   "metadata": {
    "collapsed": true
   },
   "outputs": [],
   "source": [
    "## your code goes here\n",
    "\n",
    "#this function takes in two argurments:\n",
    "# temperature matrix AND a boolean variable called \"monthly\"\n",
    "#    if using this function to compute monthly means, monthly = True\n",
    "#    if using this function to compute annual mean, monthly = False\n",
    "\n",
    "# def annual_mean(temps_matrix,monthly): # \"monthly\" is boolean value so that this function can be used for Task 2.2\n",
    "#     monthly_mean = [0] * len(temps_matrix)\n",
    "#     for i in range(len(temps_matrix)):\n",
    "#         #print('i = ',i)\n",
    "#         monthly_mean[i] = nhtemps_mean(temps_matrix[i])\n",
    "#     if monthly: #if using this function to compute monthly means, monthly = True\n",
    "#         return monthly_mean\n",
    "#     else: #if using this function to compute annual means, monthly = False\n",
    "#         return nhtemps_mean(monthly_mean)\n",
    "    \n",
    "def annual_mean(temps_matrix): # \"monthly\" is boolean value so that this function can be used for Task 2.2\n",
    "    matrix_vector = [i for x in temps_matrix for i in x]\n",
    "    return nhtemps_mean(matrix_vector)"
   ]
  },
  {
   "cell_type": "code",
   "execution_count": 17,
   "metadata": {},
   "outputs": [
    {
     "name": "stdout",
     "output_type": "stream",
     "text": [
      "annual matrix mean =  56.76712328767123\n"
     ]
    }
   ],
   "source": [
    "# print('annual matrix mean = ',annual_mean(temperature_matrix, False), '\\n')\n",
    "\n",
    "# print('monthly mean = ',annual_mean(temperature_matrix, True))\n",
    "\n",
    "print('annual matrix mean = ', annual_mean(temperature_matrix))"
   ]
  },
  {
   "cell_type": "code",
   "execution_count": 20,
   "metadata": {},
   "outputs": [
    {
     "name": "stdout",
     "output_type": "stream",
     "text": [
      "np matrix mean =  56.7671232877\n"
     ]
    }
   ],
   "source": [
    "# here we create a flat version of the matrix that works well for np checks\n",
    "flat_data = [i for x in temperature_matrix for i in x]\n",
    "# check your data with numpy here\n",
    "print('np matrix mean = ',np.mean(flat_data))\n",
    "\n",
    "# np_monthly_mean = [0] * len(temperature_matrix)\n",
    "# for j in range(len(temperature_matrix)):\n",
    "#     np_monthly_mean[j] = np.mean(temperature_matrix[j])\n",
    "# print('np monthly mean values = ',np_monthly_mean)"
   ]
  },
  {
   "cell_type": "markdown",
   "metadata": {},
   "source": [
    "**Your Interpretation:** The mean of all the recorded daily mean temperatures from 2015 in Salt Lake City is 56.77 deg F as calculated by my function and by the numpy function. My function re-uses my mean function from Part 1."
   ]
  },
  {
   "cell_type": "markdown",
   "metadata": {},
   "source": [
    "### Task 2.2:  Calculate the mean of each vector of a matrix\n",
    "\n",
    "Write a function that calculates the mean temperature of each month and returns an array with the means for each column. Provide a written interpretation of your results. Can you use the function you implemented in Part 1 here efficiently? If so, use it."
   ]
  },
  {
   "cell_type": "code",
   "execution_count": null,
   "metadata": {
    "collapsed": true
   },
   "outputs": [],
   "source": [
    "## your code goes here\n",
    "## ?? my previous function kind of did this already so that I could re-use my function from Part 1.  Is this ok ??\n",
    "\n",
    "def monthly_mean(temps_matrix,monthly):\n",
    "    return annual_mean(temps_matrix,monthly)\n"
   ]
  },
  {
   "cell_type": "code",
   "execution_count": null,
   "metadata": {},
   "outputs": [],
   "source": [
    "print(monthly_mean(temperature_matrix,True))"
   ]
  },
  {
   "cell_type": "markdown",
   "metadata": {},
   "source": [
    "**Your Interpretation:** The mean temperature in January 2015 in Salt Lake City was 34.5 deg F, the mean temperature in February 2015 was 44.32 deg F, March: 50.1 deg F, April: 52.8 deg F, May: 60.5 deg F, and continuing to December: 31.5 deg F.  I was able to use my function from Task 2.1, which uses my function from Part 1, with some modifications for which values to return."
   ]
  },
  {
   "cell_type": "markdown",
   "metadata": {},
   "source": [
    "### Task 2.3:  Calculate the median of a whole matrix\n",
    "\n",
    "Write a function that calculates and returns the median of a matrix over all values (independent from which row they are coming) and returns it. Provide a written interpretation of your results. Can you use your function from Part 1 and get a valid result?"
   ]
  },
  {
   "cell_type": "code",
   "execution_count": null,
   "metadata": {
    "collapsed": true
   },
   "outputs": [],
   "source": [
    "## your code goes here\n",
    "def matrix_median(temps_matrix):\n",
    "# build one long vector from the matrix values\n",
    "#     matrix_vector = []\n",
    "#     for i in range(len(temps_matrix)):\n",
    "#         matrix_vector.append(temps_matrix[i])\n",
    "#     return matrix_vector\n",
    "    matrix_vector = [i for x in temps_matrix for i in x]\n",
    "    return nhtemps_median(matrix_vector)\n",
    "\n",
    "# this doesn't work\n",
    "\n",
    "# use \"column\" to access elements in each column\n",
    "        "
   ]
  },
  {
   "cell_type": "code",
   "execution_count": null,
   "metadata": {},
   "outputs": [],
   "source": [
    "matrix_median(temperature_matrix)"
   ]
  },
  {
   "cell_type": "code",
   "execution_count": null,
   "metadata": {
    "collapsed": true
   },
   "outputs": [],
   "source": [
    "print('matrix_vector:',matrix_median(temperature_matrix),'\\n')\n",
    "temperature_matrix"
   ]
  },
  {
   "cell_type": "code",
   "execution_count": null,
   "metadata": {},
   "outputs": [],
   "source": [
    "## check with numpy here\n",
    "print('numpy matrix median = ',np.median(flat_data))"
   ]
  },
  {
   "cell_type": "markdown",
   "metadata": {},
   "source": [
    "**Your Interpretation:** When evaluating all the daily mean temperatures from 2015 in Salt Lake City, the median temperature iis 57 deg F."
   ]
  },
  {
   "cell_type": "markdown",
   "metadata": {},
   "source": [
    "### Task 2.4: Calculate the median of each vector of a matrix\n",
    "\n",
    "Write a function that calculates the median of each sub array (i.e. each column in the csv file) in the matrix and returns an array of medians (one entry for column in the csv file). To do so, use the function you implemented in Part 1. Provide a written interpretation of your results. "
   ]
  },
  {
   "cell_type": "code",
   "execution_count": null,
   "metadata": {
    "collapsed": true
   },
   "outputs": [],
   "source": [
    "## your code goes here\n",
    "def vector_median(temps_matrix):\n",
    "    monthly_medians = [0] * len(temps_matrix)\n",
    "    for i in range(len(temps_matrix)):\n",
    "        monthly_medians[i] = nhtemps_median(temps_matrix[i])\n",
    "    return monthly_medians"
   ]
  },
  {
   "cell_type": "code",
   "execution_count": null,
   "metadata": {
    "collapsed": true
   },
   "outputs": [],
   "source": [
    "print('monthly median values = ',vector_median(temperature_matrix))"
   ]
  },
  {
   "cell_type": "code",
   "execution_count": null,
   "metadata": {
    "collapsed": true
   },
   "outputs": [],
   "source": [
    "np_monthly_medians = [0] * len(temperature_matrix)\n",
    "for j in range(len(temperature_matrix)):\n",
    "    np_monthly_medians[j] = np.median(temperature_matrix[j])\n",
    "print('np monthly median values = ',np_monthly_medians)"
   ]
  },
  {
   "cell_type": "markdown",
   "metadata": {},
   "source": [
    "**Your Interpretation:** Examining the daily mean temperatures in January 2015 in Salt Lake City, the median temperature that month was 36 deg F.  In February 2015, the median temperature was 44 deg F, continuing onto December 2015, the median temperature was 32 deg F."
   ]
  },
  {
   "cell_type": "markdown",
   "metadata": {},
   "source": [
    "### Task 2.5: Calculate the standard deviation of a whole matrix\n",
    "\n",
    "Write a function that calculates the standard deviation of a matrix over all values in the matrix (ignoring from which column they were coming) and returns it. Can you use your function from Part 1 and get a valid result? Provide a written interpretation of your results. "
   ]
  },
  {
   "cell_type": "code",
   "execution_count": null,
   "metadata": {
    "collapsed": true
   },
   "outputs": [],
   "source": [
    "## your code goes here"
   ]
  },
  {
   "cell_type": "code",
   "execution_count": null,
   "metadata": {
    "collapsed": true
   },
   "outputs": [],
   "source": [
    "# Check with numpy here"
   ]
  },
  {
   "cell_type": "markdown",
   "metadata": {},
   "source": [
    "**Your Interpretation:** TODO"
   ]
  },
  {
   "cell_type": "markdown",
   "metadata": {},
   "source": [
    "### Task 2.6: Calculate the standard deviation of each vector of a matrix\n",
    "\n",
    "Write a function that calculates the standard deviation of each array in the matrix and returns an array of standard deviations (one standard deviation for each column). To do so, use the function you implemented in Part 1.\n",
    "Pass in the matrix with the temperature data and return the result. Provide a written interpretation of your results - is the standard deviation consistent across the seasons? "
   ]
  },
  {
   "cell_type": "code",
   "execution_count": null,
   "metadata": {
    "collapsed": true
   },
   "outputs": [],
   "source": [
    "## your code goes here\n",
    "\n",
    "def vector_std(temps_matrix):\n",
    "    monthly_std = [0] * len(temps_matrix)\n",
    "    for i in range(len(temps_matrix)):\n",
    "        monthly_std[i] = nhtemps_stddev(temps_matrix[i])\n",
    "    return monthly_std"
   ]
  },
  {
   "cell_type": "code",
   "execution_count": null,
   "metadata": {
    "collapsed": true
   },
   "outputs": [],
   "source": [
    "print('monthly std dev values = ',vector_std(temperature_matrix))"
   ]
  },
  {
   "cell_type": "code",
   "execution_count": null,
   "metadata": {
    "collapsed": true
   },
   "outputs": [],
   "source": [
    "np_monthly_std = [0] * len(temperature_matrix)\n",
    "for j in range(len(temperature_matrix)):\n",
    "    np_monthly_std[j] = np.std(temperature_matrix[j])\n",
    "print('np monthly std values = ',np_monthly_std)"
   ]
  },
  {
   "cell_type": "markdown",
   "metadata": {},
   "source": [
    "**Your Interpretation:** The standard deviation of the daily mean temperatures in January 2015 in Salt Lake City was 6.5 deg F.  In February 2015, the standard deviation was 7.3 deg F, in March, the standard deviation was 8.3 deg F, continuing onto December when the standard deviation was 9.0 deg F.\n",
    "\n",
    "The months with the highest standard deviation were March (8.3 deg F), November (8.7 deg F), and December (9.0 deg F).  The months with the lowest standard deviation were July and August, which were 4.7 and 7.6 deg F respectively.  Therefore, it is clear that the standard deviation was not consistent across seasons, but it was somewhat consistent within seasons.  "
   ]
  },
  {
   "cell_type": "markdown",
   "metadata": {},
   "source": [
    "## Part 3: Poisson distribution \n",
    "\n",
    "Another example of a discrete random variable is a Poisson random variable. \n",
    "\n",
    "Read the [wikipedia article on the Poisson distribution](https://en.wikipedia.org/wiki/Poisson_distribution)\n",
    "\n",
    "**3.1 Descriptive statistics.** Describe what a Poisson random variable is. What is the parameter, $\\lambda$? What is the min, max, mean, and variance of a Poisson random variable? "
   ]
  },
  {
   "cell_type": "markdown",
   "metadata": {},
   "source": [
    "TODO: A Poisson random variable is _____________________. The parameter λ is equal to the average number of events in an interval. "
   ]
  },
  {
   "cell_type": "markdown",
   "metadata": {},
   "source": [
    "**3.2 Example.** Give an example of an application that is described by a Poisson random variable."
   ]
  },
  {
   "cell_type": "markdown",
   "metadata": {},
   "source": [
    "TODO: Number of flights that take off per minute from LAX. ??"
   ]
  },
  {
   "cell_type": "markdown",
   "metadata": {},
   "source": [
    "**3.3 Probability Mass Function.** For the parameter $\\lambda = 2$, plot the probability mass function. "
   ]
  },
  {
   "cell_type": "code",
   "execution_count": 27,
   "metadata": {},
   "outputs": [
    {
     "data": {
      "image/png": "[encoded data removed]",
      "text/plain": [
       "<matplotlib.figure.Figure at 0x1fea4fe0278>"
      ]
     },
     "metadata": {},
     "output_type": "display_data"
    }
   ],
   "source": [
    "# your code\n",
    "import scipy as sc\n",
    "from scipy.stats import poisson\n",
    "import matplotlib.pyplot as plt\n",
    "\n",
    "n = 10\n",
    "x = sc.arange(n+1);\n",
    "mu = 2 #mu = lambda\n",
    "f = lambda k: poisson.pmf(k,mu = mu)\n",
    "\n",
    "plt.plot(x, f(x),'*-')\n",
    "plt.title(\"The probability mass function for a Poisson random variable\")\n",
    "plt.xlim([0,n])\n",
    "plt.show()"
   ]
  },
  {
   "cell_type": "markdown",
   "metadata": {},
   "source": [
    "**3.4 Poission sampling.** Write python code that takes 1000 samples from the Poisson distribution with parameter $\\lambda = 2$. Make a histogram of the samples and compute the sample mean and variance. How does the histogram compare to the probability mass function?"
   ]
  },
  {
   "cell_type": "code",
   "execution_count": 38,
   "metadata": {},
   "outputs": [
    {
     "data": {
      "image/png": "[encoded data removed]",
      "text/plain": [
       "<matplotlib.figure.Figure at 0x1fea661efd0>"
      ]
     },
     "metadata": {},
     "output_type": "display_data"
    },
    {
     "name": "stdout",
     "output_type": "stream",
     "text": [
      "sample mean =  2.011\n",
      "sample variance =  2.068879\n"
     ]
    }
   ],
   "source": [
    "# your code\n",
    "\n",
    "mu = 2\n",
    "n = 1000\n",
    "samples = poisson.rvs(mu = mu,size = n)\n",
    "#print(samples)\n",
    "\n",
    "p = plt.hist(samples,np.arange(0,10))\n",
    "plt.title(\"Histogram of Poisson distribution samples\")\n",
    "plt.xlabel(\"Value\")\n",
    "plt.ylabel(\"Frequency\")\n",
    "plt.show()\n",
    "\n",
    "sample_mean = np.mean(samples)\n",
    "print('sample mean = ',sample_mean)\n",
    "sample_variance = np.var(samples)\n",
    "print('sample variance = ',sample_variance)\n",
    "\n",
    "# n = 1000;\n",
    "# coin_flips = bernoulli.rvs(p=0.5, size=n)\n",
    "# print(coin_flips)\n"
   ]
  },
  {
   "cell_type": "markdown",
   "metadata": {},
   "source": [
    "**Answer:** The histogram replicates the shape of the probability mass function."
   ]
  }
 ],
 "metadata": {
  "anaconda-cloud": {},
  "kernelspec": {
   "display_name": "Python 3",
   "language": "python",
   "name": "python3"
  },
  "language_info": {
   "codemirror_mode": {
    "name": "ipython",
    "version": 3
   },
   "file_extension": ".py",
   "mimetype": "text/x-python",
   "name": "python",
   "nbconvert_exporter": "python",
   "pygments_lexer": "ipython3",
   "version": "3.6.3"
  }
 },
 "nbformat": 4,
 "nbformat_minor": 1
}
