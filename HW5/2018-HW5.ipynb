{
 "cells": [
  {
   "cell_type": "markdown",
   "metadata": {},
   "source": [
    "# Introduction to Data Science - Homework 5\n",
    "*COMP 5360 / MATH 4100, University of Utah, http://datasciencecourse.net/*\n",
    "\n",
    "Due: Friday, February 16, 11:59pm.\n",
    "\n",
    "In this homework you will use linear regression to study house prices in Salt Lake City. "
   ]
  },
  {
   "cell_type": "markdown",
   "metadata": {},
   "source": [
    "## Your Data\n",
    "Fill out the following information: \n",
    "\n",
    "*First Name:*   Brooke <br>\n",
    "*Last Name:*   Stanislawski <br>\n",
    "*E-mail:*   brooke.stanislawski@utah.edu <br>\n",
    "*UID:*  u1142223 <br>\n"
   ]
  },
  {
   "cell_type": "markdown",
   "metadata": {},
   "source": [
    "## Regression of real estate data\n",
    "For this problem, you will analyze SLC real estate data. The dataset contains multiple listing service (MLS) real estate transactions for houses sold in 2015-16 in zip code 84103 (SLC avenues neighborhod [Google Map](https://www.google.com/maps/place/Salt+Lake+City,+UT+84103/@40.8030372,-111.8957957,12z/data=!3m1!4b1!4m5!3m4!1s0x87525f672006dded:0x311e638d9a1a2de5!8m2!3d40.810506!4d-111.8449346)). We are primarily interested in regressing the `SoldPrice` on the house attributes (property size, house size, number of bedrooms, etc...). \n",
    "\n",
    "\n",
    "### Task 1: Import the data \n",
    "Use the pandas.read_csv() function to import the dataset. The data is contained in two files: 'train1.csv' and 'train2.csv'. After you import these files separately, concatenate them into one big dataframe. This pandas dataframe will be used for data exploration and linear regression. "
   ]
  },
  {
   "cell_type": "code",
   "execution_count": 1,
   "metadata": {
    "collapsed": true
   },
   "outputs": [],
   "source": [
    "# imports and setup \n",
    "import pandas as pd\n",
    "import scipy as sc\n",
    "import numpy as np\n",
    "\n",
    "import statsmodels.formula.api as sm\n",
    "\n",
    "import matplotlib.pyplot as plt \n",
    "plt.style.use('ggplot')\n",
    "%matplotlib inline  \n",
    "plt.rcParams['figure.figsize'] = (10, 6) "
   ]
  },
  {
   "cell_type": "code",
   "execution_count": 30,
   "metadata": {
    "scrolled": true
   },
   "outputs": [
    {
     "data": {
      "text/html": [
       "<div>\n",
       "<style>\n",
       "    .dataframe thead tr:only-child th {\n",
       "        text-align: right;\n",
       "    }\n",
       "\n",
       "    .dataframe thead th {\n",
       "        text-align: left;\n",
       "    }\n",
       "\n",
       "    .dataframe tbody tr th {\n",
       "        vertical-align: top;\n",
       "    }\n",
       "</style>\n",
       "<table border=\"1\" class=\"dataframe\">\n",
       "  <thead>\n",
       "    <tr style=\"text-align: right;\">\n",
       "      <th></th>\n",
       "      <th>ListNo</th>\n",
       "      <th>Access</th>\n",
       "      <th>AdditInfo</th>\n",
       "      <th>Acres</th>\n",
       "      <th>ListAgt</th>\n",
       "      <th>AirType</th>\n",
       "      <th>Amenities</th>\n",
       "      <th>Area</th>\n",
       "      <th>BackDim</th>\n",
       "      <th>Basemnt</th>\n",
       "      <th>...</th>\n",
       "      <th>WinEvp1</th>\n",
       "      <th>WinEvp2</th>\n",
       "      <th>WinEvp3</th>\n",
       "      <th>WinEvp4</th>\n",
       "      <th>Window</th>\n",
       "      <th>WithDrDt</th>\n",
       "      <th>YearBlt</th>\n",
       "      <th>Zip</th>\n",
       "      <th>Zoning</th>\n",
       "      <th>LastMod</th>\n",
       "    </tr>\n",
       "  </thead>\n",
       "  <tbody>\n",
       "    <tr>\n",
       "      <th>0</th>\n",
       "      <td>1397571</td>\n",
       "      <td>Concrete</td>\n",
       "      <td>NaN</td>\n",
       "      <td>0.29</td>\n",
       "      <td>Liz Slager</td>\n",
       "      <td>Central Air; Electric</td>\n",
       "      <td>See Remarks; Cable Tv Available; Cable Tv Wire...</td>\n",
       "      <td>101</td>\n",
       "      <td>0.0</td>\n",
       "      <td>Daylight; Entrance; Full; Walkout</td>\n",
       "      <td>...</td>\n",
       "      <td>0</td>\n",
       "      <td>0</td>\n",
       "      <td>0</td>\n",
       "      <td>0</td>\n",
       "      <td>Blinds</td>\n",
       "      <td>00/00/0000</td>\n",
       "      <td>1998</td>\n",
       "      <td>84103</td>\n",
       "      <td>NaN</td>\n",
       "      <td>08/29/2016</td>\n",
       "    </tr>\n",
       "    <tr>\n",
       "      <th>1</th>\n",
       "      <td>1394021</td>\n",
       "      <td>Asphalt</td>\n",
       "      <td>NaN</td>\n",
       "      <td>0.01</td>\n",
       "      <td>Angela Carlson</td>\n",
       "      <td>Central Air; Electric</td>\n",
       "      <td>Cable Tv Available; Electric Dryer Hookup</td>\n",
       "      <td>101</td>\n",
       "      <td>0.0</td>\n",
       "      <td>None/Crawl Space</td>\n",
       "      <td>...</td>\n",
       "      <td>0</td>\n",
       "      <td>0</td>\n",
       "      <td>0</td>\n",
       "      <td>0</td>\n",
       "      <td>Blinds; Plantation Shutters</td>\n",
       "      <td>00/00/0000</td>\n",
       "      <td>1965</td>\n",
       "      <td>84103</td>\n",
       "      <td>RES</td>\n",
       "      <td>08/22/2016</td>\n",
       "    </tr>\n",
       "    <tr>\n",
       "      <th>2</th>\n",
       "      <td>1393604</td>\n",
       "      <td>NaN</td>\n",
       "      <td>NaN</td>\n",
       "      <td>0.11</td>\n",
       "      <td>Rachel Kitterer</td>\n",
       "      <td>Central Air; Electric</td>\n",
       "      <td>Cable Tv Wired; Electric Dryer Hookup</td>\n",
       "      <td>101</td>\n",
       "      <td>0.0</td>\n",
       "      <td>Full</td>\n",
       "      <td>...</td>\n",
       "      <td>0</td>\n",
       "      <td>0</td>\n",
       "      <td>0</td>\n",
       "      <td>0</td>\n",
       "      <td>Blinds; Plantation Shutters</td>\n",
       "      <td>00/00/0000</td>\n",
       "      <td>1940</td>\n",
       "      <td>84103</td>\n",
       "      <td>NaN</td>\n",
       "      <td>08/29/2016</td>\n",
       "    </tr>\n",
       "    <tr>\n",
       "      <th>3</th>\n",
       "      <td>1393602</td>\n",
       "      <td>Concrete</td>\n",
       "      <td>NaN</td>\n",
       "      <td>0.14</td>\n",
       "      <td>Rachel Kitterer</td>\n",
       "      <td>Central Air; Electric</td>\n",
       "      <td>Cable Tv Wired; Electric Dryer Hookup</td>\n",
       "      <td>101</td>\n",
       "      <td>0.0</td>\n",
       "      <td>Full</td>\n",
       "      <td>...</td>\n",
       "      <td>0</td>\n",
       "      <td>0</td>\n",
       "      <td>0</td>\n",
       "      <td>0</td>\n",
       "      <td>Blinds</td>\n",
       "      <td>00/00/0000</td>\n",
       "      <td>1940</td>\n",
       "      <td>84103</td>\n",
       "      <td>NaN</td>\n",
       "      <td>08/29/2016</td>\n",
       "    </tr>\n",
       "    <tr>\n",
       "      <th>4</th>\n",
       "      <td>1393829</td>\n",
       "      <td>Asphalt</td>\n",
       "      <td>NaN</td>\n",
       "      <td>0.01</td>\n",
       "      <td>T. Carter Maudsley</td>\n",
       "      <td>Central Air; Electric</td>\n",
       "      <td>Cable Tv Wired</td>\n",
       "      <td>101</td>\n",
       "      <td>0.0</td>\n",
       "      <td>None/Crawl Space</td>\n",
       "      <td>...</td>\n",
       "      <td>0</td>\n",
       "      <td>0</td>\n",
       "      <td>0</td>\n",
       "      <td>0</td>\n",
       "      <td>NaN</td>\n",
       "      <td>00/00/0000</td>\n",
       "      <td>1969</td>\n",
       "      <td>84103</td>\n",
       "      <td>NaN</td>\n",
       "      <td>08/18/2016</td>\n",
       "    </tr>\n",
       "  </tbody>\n",
       "</table>\n",
       "<p>5 rows × 206 columns</p>\n",
       "</div>"
      ],
      "text/plain": [
       "    ListNo    Access  AdditInfo  Acres             ListAgt  \\\n",
       "0  1397571  Concrete        NaN   0.29          Liz Slager   \n",
       "1  1394021   Asphalt        NaN   0.01      Angela Carlson   \n",
       "2  1393604       NaN        NaN   0.11     Rachel Kitterer   \n",
       "3  1393602  Concrete        NaN   0.14     Rachel Kitterer   \n",
       "4  1393829   Asphalt        NaN   0.01  T. Carter Maudsley   \n",
       "\n",
       "                 AirType                                          Amenities  \\\n",
       "0  Central Air; Electric  See Remarks; Cable Tv Available; Cable Tv Wire...   \n",
       "1  Central Air; Electric          Cable Tv Available; Electric Dryer Hookup   \n",
       "2  Central Air; Electric              Cable Tv Wired; Electric Dryer Hookup   \n",
       "3  Central Air; Electric              Cable Tv Wired; Electric Dryer Hookup   \n",
       "4  Central Air; Electric                                     Cable Tv Wired   \n",
       "\n",
       "   Area  BackDim                            Basemnt     ...      WinEvp1  \\\n",
       "0   101      0.0  Daylight; Entrance; Full; Walkout     ...            0   \n",
       "1   101      0.0                   None/Crawl Space     ...            0   \n",
       "2   101      0.0                               Full     ...            0   \n",
       "3   101      0.0                               Full     ...            0   \n",
       "4   101      0.0                   None/Crawl Space     ...            0   \n",
       "\n",
       "  WinEvp2 WinEvp3 WinEvp4                       Window    WithDrDt YearBlt  \\\n",
       "0       0       0       0                       Blinds  00/00/0000    1998   \n",
       "1       0       0       0  Blinds; Plantation Shutters  00/00/0000    1965   \n",
       "2       0       0       0  Blinds; Plantation Shutters  00/00/0000    1940   \n",
       "3       0       0       0                       Blinds  00/00/0000    1940   \n",
       "4       0       0       0                          NaN  00/00/0000    1969   \n",
       "\n",
       "     Zip Zoning     LastMod  \n",
       "0  84103    NaN  08/29/2016  \n",
       "1  84103    RES  08/22/2016  \n",
       "2  84103    NaN  08/29/2016  \n",
       "3  84103    NaN  08/29/2016  \n",
       "4  84103    NaN  08/18/2016  \n",
       "\n",
       "[5 rows x 206 columns]"
      ]
     },
     "execution_count": 30,
     "metadata": {},
     "output_type": "execute_result"
    }
   ],
   "source": [
    "# your code goes here\n",
    "data1 = pd.read_csv('train1.csv')\n",
    "data2 = pd.read_csv('train2.csv')\n",
    "data = pd.concat([data1,data2],axis=0)#top/bottom\n",
    "data.head()"
   ]
  },
  {
   "cell_type": "code",
   "execution_count": 31,
   "metadata": {},
   "outputs": [
    {
     "name": "stdout",
     "output_type": "stream",
     "text": [
      "data1 shape: (200, 206)\n",
      "data2 shape: (148, 206)\n",
      "data shape: (348, 206)\n"
     ]
    }
   ],
   "source": [
    "print('data1 shape: ' + str(data1.shape))\n",
    "print('data2 shape: ' + str(data2.shape))\n",
    "print('data shape: ' + str(data.shape))"
   ]
  },
  {
   "cell_type": "markdown",
   "metadata": {},
   "source": [
    "### Task 2: Clean the data \n",
    "\n",
    "1. There are 206 different variables associated with each of the 348 houses in this dataset. Skim them and try to get a rough understanding of what information this dataset contains. If you've never seen a real estate listing before, you might take a look at one on [this](http://www.utahrealestate.com/) website to get a better sense of the meanings of the column headers in the dataset.  \n",
    "\n",
    "+ Only keep houses with List Price between 200,000 and 1,000,000 dollars. This is an arbitrary choice and we realize that some of you are high rollers, but for our purposes we'll consider the others as outliers. \n",
    "\n",
    "+ Remove columns that you don't think contribute to the value of the house. This is a personal decision - what attributes of a house are important to you? You should at least keep the following variables since the questions below will use them: ['Acres', 'Deck', 'GaragCap', 'Latitude', 'Longitude', 'LstPrice', 'Patio', 'PkgSpacs', 'PropType', 'SoldPrice', 'Taxes', 'TotBed', 'TotBth', 'TotSqf', 'YearBlt'] \n",
    "\n",
    "+ Check the datatypes and convert any numbers that were read as strings to numerical values. (Hint: You can use [str.replace()](http://pandas.pydata.org/pandas-docs/stable/generated/pandas.Series.str.replace.html) to work with strings.) If there are any categorical values you're interested in, then you should convert them to numerical values as in Lecture 11. In particular, convert 'TotSqf' to an integer and add a column titled Prop_Type_num that is \n",
    "$$\n",
    "\\text{Prop_Type_num}_i = \\begin{cases} \n",
    "0 & \\text{if $i$-th listing is a condo or townhouse} \\\\\n",
    "1 & \\text{if $i$-th listing is a single family house}\n",
    "\\end{cases}. \n",
    "$$\n",
    "+ Remove the listings with erroneous 'Longitude' (one has Longitude = 0) and 'Taxes' values (two have unreasonably large values)."
   ]
  },
  {
   "cell_type": "code",
   "execution_count": null,
   "metadata": {
    "collapsed": true
   },
   "outputs": [],
   "source": [
    "# your code goes here"
   ]
  },
  {
   "cell_type": "markdown",
   "metadata": {},
   "source": [
    "### Task 3: Exploratory data analysis \n",
    "\n",
    "1. Explore the dataset. Write a short description of the dataset describing the number of items, the number of variables and check to see if the values are reasonable. \n",
    "\n",
    "+ Make a bar chart showing the breakdown of the different types of houses (single family, townhouse, condo). \n",
    "\n",
    "+ Compute the correlation matrix and use a heat map to visualize the correlation coefficients. \n",
    "    - Use a diverging color scale from -1 to +1 (see vmin and vmax parameters for [pcolor](https://matplotlib.org/devdocs/api/_as_gen/matplotlib.pyplot.pcolor.html)\n",
    "    - Show a legend\n",
    "    - Make sure the proper labels are visible and readable (see [xticks](https://matplotlib.org/devdocs/api/_as_gen/matplotlib.pyplot.xticks.html) and the corresponding [yticks](https://matplotlib.org/devdocs/api/_as_gen/matplotlib.pyplot.yticks.html).\n",
    "\n",
    "+ Make a scatter plot matrix to visualize the correlations. For the plot, only use a subset of the columns: ['Acres', 'LstPrice', 'SoldPrice', 'Taxes', 'TotBed', 'TotBth', 'TotSqf', 'YearBlt']. Determine which columns have strong correlations. \n",
    "\n",
    "+ Describing your findings. \n"
   ]
  },
  {
   "cell_type": "code",
   "execution_count": null,
   "metadata": {
    "collapsed": true
   },
   "outputs": [],
   "source": [
    "# your code goes here"
   ]
  },
  {
   "cell_type": "code",
   "execution_count": null,
   "metadata": {
    "collapsed": true
   },
   "outputs": [],
   "source": [
    "# bar chart of property type"
   ]
  },
  {
   "cell_type": "code",
   "execution_count": null,
   "metadata": {
    "collapsed": true
   },
   "outputs": [],
   "source": [
    "# calculate and visualize correlations as matrix"
   ]
  },
  {
   "cell_type": "code",
   "execution_count": null,
   "metadata": {
    "collapsed": true
   },
   "outputs": [],
   "source": [
    "# scatter plot matrix "
   ]
  },
  {
   "cell_type": "markdown",
   "metadata": {},
   "source": [
    "**Your Interpretation:** TODO"
   ]
  },
  {
   "cell_type": "markdown",
   "metadata": {},
   "source": [
    "### Task 4: Geospatial plot\n",
    "Two of the variables are the latitude and longitude of each listing. Salt Lake City is on this nice east-west, north south grid, so even a simple plot of lat and long makes sense. Create a scatterplot of these two variables. Use color to indicate the price of the house. How does the price depend on the house location?\n",
    "\n",
    "Bonus: If you can, overlay the scatterplot on a map of the city. (This is challenging, and we didn't teach you how to do it, so you might do the other parts of the assignment first.)\n",
    "\n",
    "What can you say about the relation between the location and the house price?"
   ]
  },
  {
   "cell_type": "code",
   "execution_count": null,
   "metadata": {
    "collapsed": true,
    "scrolled": true
   },
   "outputs": [],
   "source": [
    "# your code goes here"
   ]
  },
  {
   "cell_type": "markdown",
   "metadata": {},
   "source": [
    "**Your Interpretation:** TODO"
   ]
  },
  {
   "cell_type": "markdown",
   "metadata": {},
   "source": [
    "### Task 5: Simple  Linear Regression \n",
    "Use the 'ols' function from the [statsmodels](http://www.statsmodels.org/stable/index.html) package to regress the Sold price on some of the other variables. Your model should be of the form:\n",
    "$$\n",
    "\\text{Sold Price} = \\beta_0 + \\beta_1 x, \n",
    "$$\n",
    "where $x$ is one of the other variables. \n",
    "\n",
    "You'll find that the best predictor of sold price is the list price. Report the R-squared value for this model (SoldPrice ~ LstPrice) and give an interpretation for its meaning. Also give an interpretation of $\\beta_1$ for this model. Make a plot of list price vs. sold price and overlay the prediction coming from your regression model. "
   ]
  },
  {
   "cell_type": "code",
   "execution_count": null,
   "metadata": {
    "collapsed": true
   },
   "outputs": [],
   "source": [
    "# Your code here\n"
   ]
  },
  {
   "cell_type": "code",
   "execution_count": null,
   "metadata": {
    "collapsed": true
   },
   "outputs": [],
   "source": [
    "# plot \n"
   ]
  },
  {
   "cell_type": "markdown",
   "metadata": {},
   "source": [
    "**Your Interpretation:** TODO"
   ]
  },
  {
   "cell_type": "markdown",
   "metadata": {},
   "source": [
    "### Task 6: Multilinear Regression \n",
    "Develop a multilinear regression model for house prices in this neighborhood. We could use this to come up with a list price for houses coming on the market, so do not include the list price in your model and, for now, ignore the categorical variable Prop_Type. Your model should be of the form:\n",
    "$$\n",
    "\\text{Sold Price} = \\beta_0 + \\beta_1 x_1 + \\beta_2 x_2 + \\cdots +  \\beta_n x_n, \n",
    "$$\n",
    "where $x_i$ are predictive variables. Which variables are the best predictors for the Sold Price? \n",
    "\n",
    "Specific questions:\n",
    "1. Often the price per square foot for a house is advertised. Is this what the coefficient for TotSqf is measuring? Provide an interpretation for the coefficient for TotSqf.  \n",
    "+ Estimate the value that each Garage space adds to a house. \n",
    "+ Does latitude or longitude have an impact on house price? Explain. \n",
    "+ If we wanted to start a 'house flipping' company, we'd have to be able to do a better job of predicting the sold price than the list price does. How does your model compare? "
   ]
  },
  {
   "cell_type": "code",
   "execution_count": null,
   "metadata": {
    "collapsed": true
   },
   "outputs": [],
   "source": [
    "# your code goes here\n",
    "\n",
    "#Variables: Acres, Deck, GaragCap, Latitude, Longitude, Patio, PkgSpacs, Taxes, TotBed, TotBth, TotSqf, YearBlt\n"
   ]
  },
  {
   "cell_type": "markdown",
   "metadata": {},
   "source": [
    "**Your Interpretation:** TODO"
   ]
  },
  {
   "cell_type": "markdown",
   "metadata": {},
   "source": [
    "### Task 7: Incorporating a categorical variable\n",
    "\n",
    "Above, we considered houses, townhouses, and condos together, but here we'll distinguish between them. Consider the two regression models: \n",
    "$$\n",
    "\\text{SoldPrice} = \\beta_0 + \\beta_1 \\text{Prop_Type_num}\n",
    "$$\n",
    "and \n",
    "$$\n",
    "\\text{SoldPrice} = \\beta_0  + \\beta_1 \\text{Prop_Type_num} + \\beta_2 \\text{TotSqf}\n",
    "$$\n",
    "From the first model, it would appear that Property type is significant in predicting the sold price. On the other hand, the second model indicates that when you take into account total square footage, property type is no longer predictive. Explain this. (Hint: there is a confounder lurking here.) Make a scatterplot of TotSqf vs. SoldPrice where the house types are colored differently to illustrate your explanation. "
   ]
  },
  {
   "cell_type": "code",
   "execution_count": null,
   "metadata": {
    "collapsed": true
   },
   "outputs": [],
   "source": [
    "# Your code goes here"
   ]
  },
  {
   "cell_type": "markdown",
   "metadata": {},
   "source": [
    "**Your Interpretation:** TODO"
   ]
  }
 ],
 "metadata": {
  "anaconda-cloud": {},
  "kernelspec": {
   "display_name": "Python 3",
   "language": "python",
   "name": "python3"
  },
  "language_info": {
   "codemirror_mode": {
    "name": "ipython",
    "version": 3
   },
   "file_extension": ".py",
   "mimetype": "text/x-python",
   "name": "python",
   "nbconvert_exporter": "python",
   "pygments_lexer": "ipython3",
   "version": "3.6.3"
  }
 },
 "nbformat": 4,
 "nbformat_minor": 1
}
