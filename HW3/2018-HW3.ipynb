{
 "cells": [
  {
   "cell_type": "markdown",
   "metadata": {},
   "source": [
    "# Introduction to Data Science - Homework 3\n",
    "*COMP 5369 / MATH 4100, University of Utah, http://datasciencecourse.net/*\n",
    "\n",
    "Due: Friday, February 2, 11:59pm.\n",
    "\n",
    "In this homework you will read in and analyze a movies dataset. First we'll do some basic analysis with vanilla Python, then we'll move on to doing more advanced analysis with [Pandas](http://pandas.pydata.org/pandas-docs/stable). "
   ]
  },
  {
   "cell_type": "markdown",
   "metadata": {},
   "source": [
    "## Your Data\n",
    "Fill out the following information: \n",
    "\n",
    "*First Name:*   Brooke <br>\n",
    "*Last Name:*   Stanislawski <br>\n",
    "*E-mail:*   brooke.stanislawski@utah.edu <br>\n",
    "*UID:*  u1142223 <br>\n"
   ]
  },
  {
   "cell_type": "markdown",
   "metadata": {},
   "source": [
    "## Part 1: Analyzing Data The Hard Way"
   ]
  },
  {
   "cell_type": "markdown",
   "metadata": {},
   "source": [
    "In this part we'll do some manual analysis of a movies dataset."
   ]
  },
  {
   "cell_type": "markdown",
   "metadata": {
    "collapsed": true
   },
   "source": [
    "### Task 1.1: Read in the data\n",
    "\n",
    "Parse the file [movies.csv](movies.csv) using the [csv library](https://docs.python.org/3/library/csv.html). Lecture 6 and/or Homework 2 might be a good inspiration for this. \n",
    "\n",
    "We recommend that you store the header in a separate array. Make sure that at least the \"ratings\" and the \"votes\" columns are cast to the appropriate data types for doing calculations with them. \n",
    "\n",
    "Print the header, a row of the table, and the number of rows and columns."
   ]
  },
  {
   "cell_type": "code",
   "execution_count": 1,
   "metadata": {},
   "outputs": [
    {
     "name": "stdout",
     "output_type": "stream",
     "text": [
      "header: ['', 'title', 'year', 'length', 'budget', 'rating', 'votes', 'r1', 'r2', 'r3', 'r4', 'r5', 'r6', 'r7', 'r8', 'r9', 'r10', 'mpaa', 'Action', 'Animation', 'Comedy', 'Drama', 'Documentary', 'Romance', 'Short'] \n",
      "\n",
      "movies: ['1', '$', '1971', '121', 'NA', 6.4, 348, '4.5', '4.5', '4.5', '4.5', '14.5', '24.5', '24.5', '14.5', '4.5', '4.5', '', '0', '0', '1', '1', '0', '0', '0'] \n",
      "\n",
      "number of rows: 58788   number of columns: 25 \n",
      "\n"
     ]
    }
   ],
   "source": [
    "# import the csv library\n",
    "import csv\n",
    "\n",
    "# initialize the top-level array\n",
    "movies = []\n",
    "header = []\n",
    "\n",
    "with open('movies.csv') as csvfile:\n",
    "    movies_file = csv.reader(csvfile, delimiter=',') #, quotechar='|')\n",
    "    for row in movies_file:\n",
    "        movies.append(row) #(row.split(\",\"))\n",
    "        \n",
    "header = movies.pop(0)\n",
    "\n",
    "for row in movies:\n",
    "    row[5] = float(row[5]) #cast ratings to float\n",
    "    row[6] = int(row[6]) #cast votes to int\n",
    "\n",
    "print(\"header:\",header,\"\\n\")\n",
    "print(\"movies:\",movies[0],\"\\n\")\n",
    "print(\"number of rows:\", len(movies),\"  number of columns:\",len(movies[1]),\"\\n\") \n",
    "#print(\"data type of ratings:\",type(movies[0][5]))\n",
    "#print(\"data type of votes:\",type(movies[0][6]))\n",
    "\n",
    "## should the number of rows and columns include the header??"
   ]
  },
  {
   "cell_type": "markdown",
   "metadata": {
    "collapsed": true
   },
   "source": [
    "### Task 1.2:  Calculate movie stats\n",
    "\n",
    "In this task, you will calculate some statistics about movies. We suggest you implement your solutions for Tasks 1.2.1-1.2.3 in one code cell - you should be able to calculate this in a single iteration over the dataset.\n",
    "\n",
    "#### Task 1.2.1 Calcualte average ratings\n",
    "Compute the average rating for the movies and print the output. Also print the number of movies.\n",
    "Your output could look like this:\n",
    "    \n",
    "    Average rating: xxx.xxxx, Number of movies: xx\n",
    "\n",
    "#### Task 1.2.2: Calculate average rating for major movies\n",
    "\n",
    "Compute the average rating for the movies that have more than 500 votes in your loaded dataset and print the output. (We'll call these movies with more than 500 votes *major movies* from now on).\n",
    "\n",
    "Your output could look like this:\n",
    "    \n",
    "    Average rating of movies with more than 500 votes: xxx.xxxx, Number of major movies: xx\n",
    "\n",
    "#### Task 1.2.3: Find the highest rated major movie\n",
    "\n",
    "Find out which of the movies with more than 500 votes has the highest rating.\n",
    "\n",
    "Your output could look like this:\n",
    "    \n",
    "    Highest rating: xxx.xxxx, Title: MOVIE TITLE\n",
    " \n",
    "#### Task 1.2.4: Interpret the data\n",
    " * What's the size relationship of major movies to all movies?\n",
    " * Are major movies usually better than the average movies?"
   ]
  },
  {
   "cell_type": "code",
   "execution_count": 11,
   "metadata": {},
   "outputs": [
    {
     "name": "stdout",
     "output_type": "stream",
     "text": [
      "Average rating: 5.932850241545932, Number of movies: 58788\n",
      "Average rating of movies with more than 500 votes: 6.370579126664578, Number of major movies: 6458\n",
      "Highest rating: 9.1, Title: Godfather, The\n",
      "\n",
      "\n",
      "movies: [['1', '$', '1971', '121', 'NA', 6.4, 348, '4.5', '4.5', '4.5', '4.5', '14.5', '24.5', '24.5', '14.5', '4.5', '4.5', '', '0', '0', '1', '1', '0', '0', '0'], ['2', '$1000 a Touchdown', '1939', '71', 'NA', 6.0, 20, '0', '14.5', '4.5', '24.5', '14.5', '14.5', '14.5', '4.5', '4.5', '14.5', '', '0', '0', '1', '0', '0', '0', '0'], ['3', '$21 a Day Once a Month', '1941', '7', 'NA', 8.2, 5, '0', '0', '0', '0', '0', '24.5', '0', '44.5', '24.5', '24.5', '', '0', '1', '0', '0', '0', '0', '1'], ['4', '$40,000', '1996', '70', 'NA', 8.2, 6, '14.5', '0', '0', '0', '0', '0', '0', '0', '34.5', '45.5', '', '0', '0', '1', '0', '0', '0', '0'], ['5', '$50,000 Climax Show, The', '1975', '71', 'NA', 3.4, 17, '24.5', '4.5', '0', '14.5', '14.5', '4.5', '0', '0', '0', '24.5', '', '0', '0', '0', '0', '0', '0', '0']] \n",
      "\n"
     ]
    }
   ],
   "source": [
    "# your code goes here\n",
    "\n",
    "def avg_rating(movies_matrix):\n",
    "    sum_ratings = 0\n",
    "    for i in range(len(movies_matrix)):\n",
    "        sum_ratings += movies_matrix[i][5] #ratings is in column index 5\n",
    "    return sum_ratings / len(movies_matrix)\n",
    "\n",
    "def mm_avg_rating(movies_matrix):\n",
    "    sum_ratings = 0\n",
    "    mm_count = 0\n",
    "    for i in range(len(movies_matrix)):\n",
    "        if movies_matrix[i][6] > 500:\n",
    "            sum_ratings += movies_matrix[i][5] #ratings is in column index 5\n",
    "            mm_count += 1\n",
    "    return [sum_ratings / mm_count, mm_count]\n",
    "\n",
    "def top_rated(movies_matrix):\n",
    "    top_rating = movies_matrix[0][5]\n",
    "    for i in range(len(movies_matrix)):\n",
    "        if movies_matrix[i][6] > 500:\n",
    "            if movies_matrix[i][5] > top_rating:\n",
    "                top_rated = movies_matrix[i][1]\n",
    "                top_rating = movies_matrix[i][5]\n",
    "    return [top_rating, top_rated]\n",
    "\n",
    "avg_rating = avg_rating(movies) # Task 1.2.1\n",
    "mm_avg_rating = mm_avg_rating(movies) # Task 1.2.2\n",
    "top_rated = top_rated(movies) # Task 1.2.3\n",
    "    \n",
    "print(\"Average rating: \" + str(avg_rating) + \", Number of movies: \" + str(len(movies)))\n",
    "print(\"Average rating of movies with more than 500 votes: \" + str(mm_avg_rating[0]) + \", Number of major movies: \" + str(mm_avg_rating[1]))\n",
    "# check HW2 solutions for 'count' above\n",
    "print(\"Highest rating: \" + str(top_rated[0]) + \", Title: \" + str(top_rated[1]))\n",
    "print(\"\\n\")\n",
    "\n",
    "print(\"movies:\",movies[0:5],\"\\n\")\n",
    "\n",
    "#should we be using functions?\n",
    "#vanilla Python means no numpy functions, right? everything manual?"
   ]
  },
  {
   "cell_type": "code",
   "execution_count": 3,
   "metadata": {},
   "outputs": [
    {
     "name": "stdout",
     "output_type": "stream",
     "text": [
      "0.10985235081989522\n"
     ]
    }
   ],
   "source": [
    "print(6458/58788) #for interpretation"
   ]
  },
  {
   "cell_type": "markdown",
   "metadata": {},
   "source": [
    "**Your Interpretation**: Only 11% of all movies are considered major movies (they have over 500 votes).  Of those major movies, the average rating is 6.37 whereas the average rating of all movies is 5.93.  Thus, major movies or usually better than the average movies."
   ]
  },
  {
   "cell_type": "markdown",
   "metadata": {},
   "source": [
    "## Part 2: Pandas"
   ]
  },
  {
   "cell_type": "markdown",
   "metadata": {
    "collapsed": true
   },
   "source": [
    "In this part we will use the [Pandas library](http://pandas.pydata.org/pandas-docs/stable) for our analysis."
   ]
  },
  {
   "cell_type": "markdown",
   "metadata": {
    "collapsed": true
   },
   "source": [
    "### Task 2.1: Loading data\n",
    "\n",
    "Read in the data again. This time you should create a [Pandas DataFrame](http://pandas.pydata.org/pandas-docs/stable/generated/pandas.DataFrame.html). Print the head of the dataset. \n",
    " * How many data rows did you load? How many columns?\n",
    " * Of which data types are the columns? \n",
    " * Do you have to do manual data type conversions?"
   ]
  },
  {
   "cell_type": "code",
   "execution_count": 4,
   "metadata": {
    "collapsed": true
   },
   "outputs": [],
   "source": [
    "# import pansas and numpy\n",
    "import pandas as pd\n",
    "\n",
    "# your code goes here\n",
    "movies_csv = pd.read_csv(\"movies.csv\")\n",
    "pdmovies = pd.DataFrame(movies_csv)"
   ]
  },
  {
   "cell_type": "code",
   "execution_count": 5,
   "metadata": {},
   "outputs": [
    {
     "data": {
      "text/html": [
       "<div>\n",
       "<style>\n",
       "    .dataframe thead tr:only-child th {\n",
       "        text-align: right;\n",
       "    }\n",
       "\n",
       "    .dataframe thead th {\n",
       "        text-align: left;\n",
       "    }\n",
       "\n",
       "    .dataframe tbody tr th {\n",
       "        vertical-align: top;\n",
       "    }\n",
       "</style>\n",
       "<table border=\"1\" class=\"dataframe\">\n",
       "  <thead>\n",
       "    <tr style=\"text-align: right;\">\n",
       "      <th></th>\n",
       "      <th>Unnamed: 0</th>\n",
       "      <th>title</th>\n",
       "      <th>year</th>\n",
       "      <th>length</th>\n",
       "      <th>budget</th>\n",
       "      <th>rating</th>\n",
       "      <th>votes</th>\n",
       "      <th>r1</th>\n",
       "      <th>r2</th>\n",
       "      <th>r3</th>\n",
       "      <th>...</th>\n",
       "      <th>r9</th>\n",
       "      <th>r10</th>\n",
       "      <th>mpaa</th>\n",
       "      <th>Action</th>\n",
       "      <th>Animation</th>\n",
       "      <th>Comedy</th>\n",
       "      <th>Drama</th>\n",
       "      <th>Documentary</th>\n",
       "      <th>Romance</th>\n",
       "      <th>Short</th>\n",
       "    </tr>\n",
       "  </thead>\n",
       "  <tbody>\n",
       "    <tr>\n",
       "      <th>0</th>\n",
       "      <td>1</td>\n",
       "      <td>$</td>\n",
       "      <td>1971</td>\n",
       "      <td>121</td>\n",
       "      <td>NaN</td>\n",
       "      <td>6.4</td>\n",
       "      <td>348</td>\n",
       "      <td>4.5</td>\n",
       "      <td>4.5</td>\n",
       "      <td>4.5</td>\n",
       "      <td>...</td>\n",
       "      <td>4.5</td>\n",
       "      <td>4.5</td>\n",
       "      <td>NaN</td>\n",
       "      <td>0</td>\n",
       "      <td>0</td>\n",
       "      <td>1</td>\n",
       "      <td>1</td>\n",
       "      <td>0</td>\n",
       "      <td>0</td>\n",
       "      <td>0</td>\n",
       "    </tr>\n",
       "    <tr>\n",
       "      <th>1</th>\n",
       "      <td>2</td>\n",
       "      <td>$1000 a Touchdown</td>\n",
       "      <td>1939</td>\n",
       "      <td>71</td>\n",
       "      <td>NaN</td>\n",
       "      <td>6.0</td>\n",
       "      <td>20</td>\n",
       "      <td>0.0</td>\n",
       "      <td>14.5</td>\n",
       "      <td>4.5</td>\n",
       "      <td>...</td>\n",
       "      <td>4.5</td>\n",
       "      <td>14.5</td>\n",
       "      <td>NaN</td>\n",
       "      <td>0</td>\n",
       "      <td>0</td>\n",
       "      <td>1</td>\n",
       "      <td>0</td>\n",
       "      <td>0</td>\n",
       "      <td>0</td>\n",
       "      <td>0</td>\n",
       "    </tr>\n",
       "    <tr>\n",
       "      <th>2</th>\n",
       "      <td>3</td>\n",
       "      <td>$21 a Day Once a Month</td>\n",
       "      <td>1941</td>\n",
       "      <td>7</td>\n",
       "      <td>NaN</td>\n",
       "      <td>8.2</td>\n",
       "      <td>5</td>\n",
       "      <td>0.0</td>\n",
       "      <td>0.0</td>\n",
       "      <td>0.0</td>\n",
       "      <td>...</td>\n",
       "      <td>24.5</td>\n",
       "      <td>24.5</td>\n",
       "      <td>NaN</td>\n",
       "      <td>0</td>\n",
       "      <td>1</td>\n",
       "      <td>0</td>\n",
       "      <td>0</td>\n",
       "      <td>0</td>\n",
       "      <td>0</td>\n",
       "      <td>1</td>\n",
       "    </tr>\n",
       "    <tr>\n",
       "      <th>3</th>\n",
       "      <td>4</td>\n",
       "      <td>$40,000</td>\n",
       "      <td>1996</td>\n",
       "      <td>70</td>\n",
       "      <td>NaN</td>\n",
       "      <td>8.2</td>\n",
       "      <td>6</td>\n",
       "      <td>14.5</td>\n",
       "      <td>0.0</td>\n",
       "      <td>0.0</td>\n",
       "      <td>...</td>\n",
       "      <td>34.5</td>\n",
       "      <td>45.5</td>\n",
       "      <td>NaN</td>\n",
       "      <td>0</td>\n",
       "      <td>0</td>\n",
       "      <td>1</td>\n",
       "      <td>0</td>\n",
       "      <td>0</td>\n",
       "      <td>0</td>\n",
       "      <td>0</td>\n",
       "    </tr>\n",
       "    <tr>\n",
       "      <th>4</th>\n",
       "      <td>5</td>\n",
       "      <td>$50,000 Climax Show, The</td>\n",
       "      <td>1975</td>\n",
       "      <td>71</td>\n",
       "      <td>NaN</td>\n",
       "      <td>3.4</td>\n",
       "      <td>17</td>\n",
       "      <td>24.5</td>\n",
       "      <td>4.5</td>\n",
       "      <td>0.0</td>\n",
       "      <td>...</td>\n",
       "      <td>0.0</td>\n",
       "      <td>24.5</td>\n",
       "      <td>NaN</td>\n",
       "      <td>0</td>\n",
       "      <td>0</td>\n",
       "      <td>0</td>\n",
       "      <td>0</td>\n",
       "      <td>0</td>\n",
       "      <td>0</td>\n",
       "      <td>0</td>\n",
       "    </tr>\n",
       "  </tbody>\n",
       "</table>\n",
       "<p>5 rows × 25 columns</p>\n",
       "</div>"
      ],
      "text/plain": [
       "   Unnamed: 0                     title  year  length  budget  rating  votes  \\\n",
       "0           1                         $  1971     121     NaN     6.4    348   \n",
       "1           2         $1000 a Touchdown  1939      71     NaN     6.0     20   \n",
       "2           3    $21 a Day Once a Month  1941       7     NaN     8.2      5   \n",
       "3           4                   $40,000  1996      70     NaN     8.2      6   \n",
       "4           5  $50,000 Climax Show, The  1975      71     NaN     3.4     17   \n",
       "\n",
       "     r1    r2   r3  ...      r9   r10  mpaa  Action  Animation  Comedy  Drama  \\\n",
       "0   4.5   4.5  4.5  ...     4.5   4.5   NaN       0          0       1      1   \n",
       "1   0.0  14.5  4.5  ...     4.5  14.5   NaN       0          0       1      0   \n",
       "2   0.0   0.0  0.0  ...    24.5  24.5   NaN       0          1       0      0   \n",
       "3  14.5   0.0  0.0  ...    34.5  45.5   NaN       0          0       1      0   \n",
       "4  24.5   4.5  0.0  ...     0.0  24.5   NaN       0          0       0      0   \n",
       "\n",
       "  Documentary  Romance  Short  \n",
       "0           0        0      0  \n",
       "1           0        0      0  \n",
       "2           0        0      1  \n",
       "3           0        0      0  \n",
       "4           0        0      0  \n",
       "\n",
       "[5 rows x 25 columns]"
      ]
     },
     "execution_count": 5,
     "metadata": {},
     "output_type": "execute_result"
    }
   ],
   "source": [
    "pdmovies.head()"
   ]
  },
  {
   "cell_type": "code",
   "execution_count": 6,
   "metadata": {},
   "outputs": [
    {
     "name": "stdout",
     "output_type": "stream",
     "text": [
      "Number of rows loaded = 58788, Number of columns loaded = 25\n",
      "\n",
      "<class 'pandas.core.frame.DataFrame'>\n",
      "RangeIndex: 58788 entries, 0 to 58787\n",
      "Data columns (total 25 columns):\n",
      "Unnamed: 0     58788 non-null int64\n",
      "title          58788 non-null object\n",
      "year           58788 non-null int64\n",
      "length         58788 non-null int64\n",
      "budget         5215 non-null float64\n",
      "rating         58788 non-null float64\n",
      "votes          58788 non-null int64\n",
      "r1             58788 non-null float64\n",
      "r2             58788 non-null float64\n",
      "r3             58788 non-null float64\n",
      "r4             58788 non-null float64\n",
      "r5             58788 non-null float64\n",
      "r6             58788 non-null float64\n",
      "r7             58788 non-null float64\n",
      "r8             58788 non-null float64\n",
      "r9             58788 non-null float64\n",
      "r10            58788 non-null float64\n",
      "mpaa           4924 non-null object\n",
      "Action         58788 non-null int64\n",
      "Animation      58788 non-null int64\n",
      "Comedy         58788 non-null int64\n",
      "Drama          58788 non-null int64\n",
      "Documentary    58788 non-null int64\n",
      "Romance        58788 non-null int64\n",
      "Short          58788 non-null int64\n",
      "dtypes: float64(12), int64(11), object(2)\n",
      "memory usage: 11.2+ MB\n"
     ]
    }
   ],
   "source": [
    "# print data types\n",
    "print(\"Number of rows loaded = \" + str(pdmovies.shape[0]) + \", Number of columns loaded = \" + str(pdmovies.shape[1]) + \"\\n\")\n",
    "pdmovies.info()"
   ]
  },
  {
   "cell_type": "markdown",
   "metadata": {},
   "source": [
    "**Your Interpretation**: With the first line of code, I loaded 58788 rows and 25 columns of data.  The data types can be seen in the output of movies.info() above.  For example, the data type of the 'title' column is object, the data type of the 'year' column is int64.  Manual data type conversion is not needed because the ratings are float64 type and the votes are int64 type.  The data type conversion was done automatically by the panda read_csv function."
   ]
  },
  {
   "cell_type": "markdown",
   "metadata": {},
   "source": [
    "### Task 2.2: Calculate the average rating\n",
    "\n",
    "Compute the average rating for all movies and print the output in a formatted way.\n",
    "\n",
    "Your output could look like this:\n",
    "    \n",
    "    Average rating: xxx.xxxx"
   ]
  },
  {
   "cell_type": "code",
   "execution_count": 7,
   "metadata": {},
   "outputs": [
    {
     "name": "stdout",
     "output_type": "stream",
     "text": [
      "Average rating: 5.932850241545932\n"
     ]
    }
   ],
   "source": [
    "# your code goes here\n",
    "print(\"Average rating: \" + str(pdmovies[\"rating\"].mean()))"
   ]
  },
  {
   "cell_type": "markdown",
   "metadata": {},
   "source": [
    "### Task 2.3: Compare the runtime\n",
    "\n",
    "Measure the runtime of the mean calculation using [Pandas](http://pandas.pydata.org/pandas-docs/stable) and compare it to the computation time for calculating the mean using a for loop (you can copy the relevant parts from part one).\n",
    "\n",
    "You can use [time.clock()](https://docs.python.org/3/library/time.html) to set timestamps before and after the execution of the code you want to measure, then you simply substract end time from start time.\n",
    "\n",
    "Print your results in a human readable way and add a metric to the output. Calculate the factor of the difference and print it. Note that the exact times and the factors will vary when you re-run this and especially between machines. \n",
    "\n",
    "E.g.:  \n",
    "    time using own code: xxx.xxx s  \n",
    "    time using Pandas: xxx.xxx s  \n",
    "    difference factor: xxx"
   ]
  },
  {
   "cell_type": "code",
   "execution_count": 15,
   "metadata": {},
   "outputs": [
    {
     "name": "stdout",
     "output_type": "stream",
     "text": [
      "time using own code: 0.016842580613229075 s\n",
      "time using Pandas: 0.0007323123622882122 s\n",
      "difference factor: -21.999175598513837%\n"
     ]
    }
   ],
   "source": [
    "import time\n",
    "# your code goes here\n",
    "\n",
    "def avg_rating(movies_matrix):\n",
    "    sum_ratings = 0\n",
    "    for i in range(len(movies_matrix)):\n",
    "        sum_ratings += movies_matrix[i][5] #ratings is in column index 5\n",
    "    return sum_ratings / len(movies_matrix)\n",
    "\n",
    "start = time.clock()\n",
    "#avg_rating(movies)\n",
    "avg_rating = avg_rating(movies)\n",
    "end = time.clock()\n",
    "own_diff = end-start\n",
    "print(\"time using own code: \" + str(own_diff) + \" s\")\n",
    "\n",
    "start = time.clock()\n",
    "pdmovies[\"rating\"].mean()\n",
    "end = time.clock()\n",
    "pd_diff = end-start\n",
    "print(\"time using Pandas: \" + str(pd_diff) + \" s\")\n",
    "\n",
    "print(\"difference factor: \" + str((pd_diff-own_diff)/pd_diff) + \"%\")"
   ]
  },
  {
   "cell_type": "markdown",
   "metadata": {},
   "source": [
    "### Task 2.4: Filter out rows\n",
    "\n",
    "The whole movies dataset has about 60k entries. Use pandas to filter your dataframe to contain only the major movies with more than 500 votes.\n",
    "\n",
    "Count and print the number of movies with more than 500 votes. \n",
    "\n",
    "E.g.:\n",
    "    xxx.xxx movies have more than 500 votes."
   ]
  },
  {
   "cell_type": "code",
   "execution_count": 20,
   "metadata": {},
   "outputs": [
    {
     "name": "stdout",
     "output_type": "stream",
     "text": [
      "Number of major movies: 6458\n"
     ]
    }
   ],
   "source": [
    "# your code goes here\n",
    "pdmovies[pdmovies[\"votes\"]>500] #filters data\n",
    "print(\"Number of major movies: \" + str(pdmovies[pdmovies[\"votes\"]>500].shape[0]))"
   ]
  },
  {
   "cell_type": "markdown",
   "metadata": {},
   "source": [
    "### Task 2.5: Calculate the average rating for major movies\n",
    "\n",
    "Compute the average rating for the major movies.\n",
    "Your output could look like this:\n",
    "    \n",
    "    Average rating of movies with more than 500 votes: xxx.xxxx"
   ]
  },
  {
   "cell_type": "code",
   "execution_count": 22,
   "metadata": {},
   "outputs": [
    {
     "data": {
      "text/plain": [
       "6.370579126664578"
      ]
     },
     "execution_count": 22,
     "metadata": {},
     "output_type": "execute_result"
    }
   ],
   "source": [
    "# your code goes here\n",
    "pdmovies[pdmovies[\"votes\"]>500][\"rating\"].mean()"
   ]
  },
  {
   "cell_type": "markdown",
   "metadata": {},
   "source": [
    "### Task 2.6: Find the highest rated major movie\n",
    "\n",
    "Find the highest rated major movie in the dataframe. Hint: [idxmax()](http://pandas.pydata.org/pandas-docs/stable/generated/pandas.Series.idxmax.html) could be a helpful function. \n",
    "\n",
    "Print the title and the rating.\n",
    "\n",
    "Your output could look like this:\n",
    "    \n",
    "    Highest rated movie: TITLE, rating: x.x\n"
   ]
  },
  {
   "cell_type": "code",
   "execution_count": 38,
   "metadata": {
    "scrolled": true
   },
   "outputs": [
    {
     "name": "stdout",
     "output_type": "stream",
     "text": [
      "Highest rated movie: Godfather, The, rating: 9.1\n"
     ]
    }
   ],
   "source": [
    "# your code goes here\n",
    "pd_majormovies = pdmovies[pdmovies[\"votes\"]>500]\n",
    "pd_top_rating = pdmovies[pdmovies[\"votes\"]>500][\"rating\"].max()\n",
    "pd_top_rated = pdmovies.iloc[pdmovies[pdmovies[\"votes\"]>500][\"rating\"].idxmax()][\"title\"] #title\n",
    "\n",
    "print(\"Highest rated movie: \" + str(pd_top_rated) + \", rating: \" + str(pd_top_rating))"
   ]
  },
  {
   "cell_type": "markdown",
   "metadata": {},
   "source": [
    "### Task 2.7: Filter out rows and count specific features\n",
    "\n",
    "From the major movies you filtered out in a previous task, find out \n",
    " * How many are comedies.\n",
    " * How many are dramas\n",
    " * How many are both, comedies and dramas\n",
    " \n",
    "Create new dataframed for each of these subsets.\n",
    "\n",
    "Hint: you can combine broadcasting statements with a boolean AND: `&`.\n",
    "\n",
    "Print the results, e.g.:  \n",
    "\n",
    "    xxx.xxx major movies are comedies.\n",
    "    xxx.xxx major movies are dramas.\n",
    "    xxx.xxx major movies are both, comedies and dramas."
   ]
  },
  {
   "cell_type": "code",
   "execution_count": 79,
   "metadata": {},
   "outputs": [
    {
     "name": "stdout",
     "output_type": "stream",
     "text": [
      "2553 major movies are comedies.\n",
      "3370 major movies are dramas.\n"
     ]
    }
   ],
   "source": [
    "# your code goes here\n",
    "pd_majormovies = pdmovies[pdmovies[\"votes\"]>500]\n",
    "com = len(pd_majormovies[pd_majormovies[\"Comedy\"]>0]) # what's a better way to do this?\n",
    "dramas = len(pd_majormovies[pd_majormovies[\"Drama\"]>0])\n",
    "#both = len(pd_majormovies[pd_majormovies[\"Comedy\"]>0 and [\"Drama\"]>0])\n",
    "#add = lambda rows : pd_majormovies[\"Comedy\"]+pd_majormovies[\"Drama\"] for rows in pd_majormovies\n",
    "#both = len(pd_majormovies[add==2])\n",
    "\n",
    "#grouped.agg(lambda rows : sum([cell * 1000000 for cell in rows])).head()\n",
    "#hit_albums[\"Artist\"].value_counts()\n",
    "\n",
    "print(str(com) + \" major movies are comedies.\")\n",
    "print(str(dramas) + \" major movies are dramas.\")\n",
    "#print(str(both) + \" major movies are both comedies and dramas.\")\n",
    "\n",
    "## try this again ############################################################################################################"
   ]
  },
  {
   "cell_type": "markdown",
   "metadata": {},
   "source": [
    "### Task 2.8: Compare ratings of different categories\n",
    "\n",
    "Now we want to compare the ratings for comedies and dramas for major movies.\n",
    "\n",
    "Compute the average rating, maximum rating, minimum rating, standard deviation, and the median for each category. Hint: there is a function that does all of this in one line. \n",
    "\n",
    "What do these numbers tell us? Provide an interpretation."
   ]
  },
  {
   "cell_type": "code",
   "execution_count": 93,
   "metadata": {},
   "outputs": [
    {
     "name": "stdout",
     "output_type": "stream",
     "text": [
      "Comedies: \n",
      "  count    2553.000000\n",
      "mean        6.121387\n",
      "std         1.196146\n",
      "min         1.700000\n",
      "25%         5.300000\n",
      "50%         6.200000\n",
      "75%         7.100000\n",
      "max         8.700000\n",
      "Name: rating, dtype: float64 \n",
      "\n",
      "Dramas: \n",
      "  count    3370.000000\n",
      "mean        6.749614\n",
      "std         0.990969\n",
      "min         1.300000\n",
      "25%         6.200000\n",
      "50%         6.900000\n",
      "75%         7.500000\n",
      "max         9.100000\n",
      "Name: rating, dtype: float64\n"
     ]
    }
   ],
   "source": [
    "# your code goes here\n",
    "print('Comedies: \\n ',pd_majormovies[pd_majormovies[\"Comedy\"]>0][\"rating\"].describe(),\"\\n\") # i need two lines, what's the better way\n",
    "print('Dramas: \\n ',pd_majormovies[pd_majormovies[\"Drama\"]>0][\"rating\"].describe())\n",
    "#mm_categories = pd_majormovies.groupby(\"Comedy\")\n",
    "#grouped = hit_albums.groupby(\"Artist\")\n",
    "#grouped.groups\n",
    "#pd_majormovies[pd_majormovies[\"Comedy\"]>0]\n",
    "\n",
    "# # This step is somewhat optional - it cleans the result a bit\n",
    "# artists_sales = hit_albums[[\"Released\",\"Certified sales (millions)\"]]\n",
    "# # then we group by Artist, then sum the values up, then sort\n",
    "# artists_sales.groupby(\"Released\").sum()"
   ]
  },
  {
   "cell_type": "markdown",
   "metadata": {},
   "source": [
    "**Your Interpretation**: From the output above, we see that in the Comedy category, there are 2,553 movies, the mean rating is 6.1 with a standard deviation of 1.2 while the minimum rating is 1.7, the maximum rating is 8.7, and the median is 6.2.  In the Drama category, there are 3,370 movies, the mean rating is 6.7 with a standard deviation of 1.0 while the minimum rating is 1.3, the maximum rating is 9.1, and the median is 6.9.  From this information, we see that the Drama movies are usually rated higher than Comedy movies and with a smaller standard deviation.  The Drama movies also have a wider spread of ratings with a minimum that is lower and a maximum that is higher than those ratings in the Comedy category."
   ]
  },
  {
   "cell_type": "markdown",
   "metadata": {},
   "source": [
    "### Task 2.9: Movies per year\n",
    "\n",
    "Calcluate how many major movies were made in each year.\n",
    "\n",
    "Print the number like this, sorted by year:\n",
    "\n",
    "    year   number of movies\n",
    "    1902    xxx\n",
    "    1903    xxx\n",
    "    ...     ...\n",
    "\n",
    "Use this data to render a line chart of the number of movies per year."
   ]
  },
  {
   "cell_type": "code",
   "execution_count": null,
   "metadata": {
    "collapsed": true
   },
   "outputs": [],
   "source": [
    "# your code goes here"
   ]
  },
  {
   "cell_type": "code",
   "execution_count": null,
   "metadata": {
    "collapsed": true
   },
   "outputs": [],
   "source": [
    "%matplotlib inline\n",
    "# create the plot here\n"
   ]
  },
  {
   "cell_type": "markdown",
   "metadata": {},
   "source": [
    "### Task 2.10: Yearly average\n",
    "\n",
    "Compute the average rating per year for all major movies.  \n",
    "Use the numbers you computed to plot a line chart. Plot the year on the x-axis and the average rating on th y axis.  "
   ]
  },
  {
   "cell_type": "code",
   "execution_count": null,
   "metadata": {
    "collapsed": true
   },
   "outputs": [],
   "source": [
    "# your code goes here\n"
   ]
  },
  {
   "cell_type": "markdown",
   "metadata": {},
   "source": [
    "### Task 2.11: Explore and Interpret\n",
    "\n",
    "Are old movies better? How could you explain this? Are there differences between the rating of major movies and all movies over time? Continue to explore and use plots to inform your answer. Interesting measures to consider are the total number of votes per year, the average number of votes for a movie in a particular year, etc. "
   ]
  },
  {
   "cell_type": "markdown",
   "metadata": {},
   "source": [
    "**TODO: your code and your interpretation**"
   ]
  }
 ],
 "metadata": {
  "anaconda-cloud": {},
  "kernelspec": {
   "display_name": "Python 3",
   "language": "python",
   "name": "python3"
  },
  "language_info": {
   "codemirror_mode": {
    "name": "ipython",
    "version": 3
   },
   "file_extension": ".py",
   "mimetype": "text/x-python",
   "name": "python",
   "nbconvert_exporter": "python",
   "pygments_lexer": "ipython3",
   "version": "3.6.3"
  }
 },
 "nbformat": 4,
 "nbformat_minor": 1
}
