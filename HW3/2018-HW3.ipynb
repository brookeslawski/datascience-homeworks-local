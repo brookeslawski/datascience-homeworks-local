{
 "cells": [
  {
   "cell_type": "markdown",
   "metadata": {},
   "source": [
    "# Introduction to Data Science - Homework 3\n",
    "*COMP 5369 / MATH 4100, University of Utah, http://datasciencecourse.net/*\n",
    "\n",
    "Due: Friday, February 2, 11:59pm.\n",
    "\n",
    "In this homework you will read in and analyze a movies dataset. First we'll do some basic analysis with vanilla Python, then we'll move on to doing more advanced analysis with [Pandas](http://pandas.pydata.org/pandas-docs/stable). "
   ]
  },
  {
   "cell_type": "markdown",
   "metadata": {},
   "source": [
    "## Your Data\n",
    "Fill out the following information: \n",
    "\n",
    "*First Name:*   Brooke <br>\n",
    "*Last Name:*   Stanislawski <br>\n",
    "*E-mail:*   brooke.stanislawski@utah.edu <br>\n",
    "*UID:*  u1142223 <br>\n"
   ]
  },
  {
   "cell_type": "markdown",
   "metadata": {},
   "source": [
    "## Part 1: Analyzing Data The Hard Way"
   ]
  },
  {
   "cell_type": "markdown",
   "metadata": {},
   "source": [
    "In this part we'll do some manual analysis of a movies dataset."
   ]
  },
  {
   "cell_type": "markdown",
   "metadata": {
    "collapsed": true
   },
   "source": [
    "### Task 1.1: Read in the data\n",
    "\n",
    "Parse the file [movies.csv](movies.csv) using the [csv library](https://docs.python.org/3/library/csv.html). Lecture 6 and/or Homework 2 might be a good inspiration for this. \n",
    "\n",
    "We recommend that you store the header in a separate array. Make sure that at least the \"ratings\" and the \"votes\" columns are cast to the appropriate data types for doing calculations with them. \n",
    "\n",
    "Print the header, a row of the table, and the number of rows and columns."
   ]
  },
  {
   "cell_type": "code",
   "execution_count": 1,
   "metadata": {},
   "outputs": [
    {
     "name": "stdout",
     "output_type": "stream",
     "text": [
      "header: ['', 'title', 'year', 'length', 'budget', 'rating', 'votes', 'r1', 'r2', 'r3', 'r4', 'r5', 'r6', 'r7', 'r8', 'r9', 'r10', 'mpaa', 'Action', 'Animation', 'Comedy', 'Drama', 'Documentary', 'Romance', 'Short'] \n",
      "\n",
      "movies: ['1', '$', '1971', '121', 'NA', 6.4, 348, '4.5', '4.5', '4.5', '4.5', '14.5', '24.5', '24.5', '14.5', '4.5', '4.5', '', '0', '0', '1', '1', '0', '0', '0'] \n",
      "\n",
      "number of rows: 58788 \n",
      "number of columns: 25 \n",
      "\n"
     ]
    }
   ],
   "source": [
    "# import the csv library\n",
    "import csv\n",
    "\n",
    "# initialize the top-level array\n",
    "movies = []\n",
    "header = []\n",
    "\n",
    "with open('movies.csv') as csvfile:\n",
    "    movies_file = csv.reader(csvfile, delimiter=',') #, quotechar='|')\n",
    "    for row in movies_file:\n",
    "        movies.append(row) #(row.split(\",\"))\n",
    "        \n",
    "header = movies.pop(0)\n",
    "\n",
    "for row in movies:\n",
    "    row[5] = float(row[5]) #cast ratings to float\n",
    "    row[6] = int(row[6]) #cast votes to int\n",
    "\n",
    "print(\"header:\",header,\"\\n\")\n",
    "print(\"movies:\",movies[0],\"\\n\")\n",
    "print(\"number of rows:\", len(movies),\"\\nnumber of columns:\",len(movies[1]),\"\\n\") \n",
    "#print(\"data type of ratings:\",type(movies[0][5]))\n",
    "#print(\"data type of votes:\",type(movies[0][6]))"
   ]
  },
  {
   "cell_type": "markdown",
   "metadata": {
    "collapsed": true
   },
   "source": [
    "### Task 1.2:  Calculate movie stats\n",
    "\n",
    "In this task, you will calculate some statistics about movies. We suggest you implement your solutions for Tasks 1.2.1-1.2.3 in one code cell - you should be able to calculate this in a single iteration over the dataset.\n",
    "\n",
    "#### Task 1.2.1 Calcualte average ratings\n",
    "Compute the average rating for the movies and print the output. Also print the number of movies.\n",
    "Your output could look like this:\n",
    "    \n",
    "    Average rating: xxx.xxxx, Number of movies: xx\n",
    "\n",
    "#### Task 1.2.2: Calculate average rating for major movies\n",
    "\n",
    "Compute the average rating for the movies that have more than 500 votes in your loaded dataset and print the output. (We'll call these movies with more than 500 votes *major movies* from now on).\n",
    "\n",
    "Your output could look like this:\n",
    "    \n",
    "    Average rating of movies with more than 500 votes: xxx.xxxx, Number of major movies: xx\n",
    "\n",
    "#### Task 1.2.3: Find the highest rated major movie\n",
    "\n",
    "Find out which of the movies with more than 500 votes has the highest rating.\n",
    "\n",
    "Your output could look like this:\n",
    "    \n",
    "    Highest rating: xxx.xxxx, Title: MOVIE TITLE\n",
    " \n",
    "#### Task 1.2.4: Interpret the data\n",
    " * What's the size relationship of major movies to all movies?\n",
    " * Are major movies usually better than the average movies?"
   ]
  },
  {
   "cell_type": "code",
   "execution_count": 2,
   "metadata": {},
   "outputs": [
    {
     "name": "stdout",
     "output_type": "stream",
     "text": [
      "Average rating: 5.932850241545932, Number of movies: 58788\n",
      "Average rating of movies with more than 500 votes: 6.370579126664578, Number of major movies: 6458\n",
      "Highest rating: 9.1, Title: Godfather, The\n",
      "\n",
      "\n",
      "movies: [['1', '$', '1971', '121', 'NA', 6.4, 348, '4.5', '4.5', '4.5', '4.5', '14.5', '24.5', '24.5', '14.5', '4.5', '4.5', '', '0', '0', '1', '1', '0', '0', '0'], ['2', '$1000 a Touchdown', '1939', '71', 'NA', 6.0, 20, '0', '14.5', '4.5', '24.5', '14.5', '14.5', '14.5', '4.5', '4.5', '14.5', '', '0', '0', '1', '0', '0', '0', '0'], ['3', '$21 a Day Once a Month', '1941', '7', 'NA', 8.2, 5, '0', '0', '0', '0', '0', '24.5', '0', '44.5', '24.5', '24.5', '', '0', '1', '0', '0', '0', '0', '1'], ['4', '$40,000', '1996', '70', 'NA', 8.2, 6, '14.5', '0', '0', '0', '0', '0', '0', '0', '34.5', '45.5', '', '0', '0', '1', '0', '0', '0', '0'], ['5', '$50,000 Climax Show, The', '1975', '71', 'NA', 3.4, 17, '24.5', '4.5', '0', '14.5', '14.5', '4.5', '0', '0', '0', '24.5', '', '0', '0', '0', '0', '0', '0', '0']] \n",
      "\n"
     ]
    }
   ],
   "source": [
    "# your code goes here\n",
    "\n",
    "def avg_rating(movies_matrix):\n",
    "    sum_ratings = 0\n",
    "    for i in range(len(movies_matrix)):\n",
    "        sum_ratings += movies_matrix[i][5] #ratings is in column index 5\n",
    "    return sum_ratings / len(movies_matrix)\n",
    "\n",
    "def mm_avg_rating(movies_matrix):\n",
    "    sum_ratings = 0\n",
    "    mm_count = 0\n",
    "    for i in range(len(movies_matrix)):\n",
    "        if movies_matrix[i][6] > 500:\n",
    "            sum_ratings += movies_matrix[i][5] #ratings is in column index 5\n",
    "            mm_count += 1\n",
    "    return [sum_ratings / mm_count, mm_count]\n",
    "\n",
    "def top_rated(movies_matrix):\n",
    "    top_rating = movies_matrix[0][5]\n",
    "    for i in range(len(movies_matrix)):\n",
    "        if movies_matrix[i][6] > 500:\n",
    "            if movies_matrix[i][5] > top_rating:\n",
    "                top_rated = movies_matrix[i][1]\n",
    "                top_rating = movies_matrix[i][5]\n",
    "    return [top_rating, top_rated]\n",
    "\n",
    "avg_rating = avg_rating(movies) # Task 1.2.1\n",
    "mm_avg_rating = mm_avg_rating(movies) # Task 1.2.2\n",
    "top_rated = top_rated(movies) # Task 1.2.3\n",
    "    \n",
    "print(\"Average rating: \" + str(avg_rating) + \", Number of movies: \" + str(len(movies)))\n",
    "print(\"Average rating of movies with more than 500 votes: \" + str(mm_avg_rating[0]) + \", Number of major movies: \" + str(mm_avg_rating[1]))\n",
    "# check HW2 solutions for 'count' above\n",
    "print(\"Highest rating: \" + str(top_rated[0]) + \", Title: \" + str(top_rated[1]))\n",
    "print(\"\\n\")\n",
    "\n",
    "print(\"movies:\",movies[0:5],\"\\n\")"
   ]
  },
  {
   "cell_type": "code",
   "execution_count": 3,
   "metadata": {},
   "outputs": [
    {
     "name": "stdout",
     "output_type": "stream",
     "text": [
      "0.10985235081989522\n"
     ]
    }
   ],
   "source": [
    "print(6458/58788) #for interpretation"
   ]
  },
  {
   "cell_type": "markdown",
   "metadata": {},
   "source": [
    "**Your Interpretation**: Only 11% of all movies are considered major movies (they have over 500 votes).  Of those major movies, the average rating is 6.37 whereas the average rating of all movies is 5.93.  Thus, major movies or usually better than the average movies."
   ]
  },
  {
   "cell_type": "markdown",
   "metadata": {},
   "source": [
    "## Part 2: Pandas"
   ]
  },
  {
   "cell_type": "markdown",
   "metadata": {
    "collapsed": true
   },
   "source": [
    "In this part we will use the [Pandas library](http://pandas.pydata.org/pandas-docs/stable) for our analysis."
   ]
  },
  {
   "cell_type": "markdown",
   "metadata": {
    "collapsed": true
   },
   "source": [
    "### Task 2.1: Loading data\n",
    "\n",
    "Read in the data again. This time you should create a [Pandas DataFrame](http://pandas.pydata.org/pandas-docs/stable/generated/pandas.DataFrame.html). Print the head of the dataset. \n",
    " * How many data rows did you load? How many columns?\n",
    " * Of which data types are the columns? \n",
    " * Do you have to do manual data type conversions?"
   ]
  },
  {
   "cell_type": "code",
   "execution_count": 4,
   "metadata": {
    "collapsed": true
   },
   "outputs": [],
   "source": [
    "# import pansas and numpy\n",
    "import pandas as pd\n",
    "\n",
    "# your code goes here\n",
    "movies_csv = pd.read_csv(\"movies.csv\")\n",
    "pdmovies = pd.DataFrame(movies_csv)"
   ]
  },
  {
   "cell_type": "code",
   "execution_count": 5,
   "metadata": {},
   "outputs": [
    {
     "data": {
      "text/html": [
       "<div>\n",
       "<style>\n",
       "    .dataframe thead tr:only-child th {\n",
       "        text-align: right;\n",
       "    }\n",
       "\n",
       "    .dataframe thead th {\n",
       "        text-align: left;\n",
       "    }\n",
       "\n",
       "    .dataframe tbody tr th {\n",
       "        vertical-align: top;\n",
       "    }\n",
       "</style>\n",
       "<table border=\"1\" class=\"dataframe\">\n",
       "  <thead>\n",
       "    <tr style=\"text-align: right;\">\n",
       "      <th></th>\n",
       "      <th>Unnamed: 0</th>\n",
       "      <th>title</th>\n",
       "      <th>year</th>\n",
       "      <th>length</th>\n",
       "      <th>budget</th>\n",
       "      <th>rating</th>\n",
       "      <th>votes</th>\n",
       "      <th>r1</th>\n",
       "      <th>r2</th>\n",
       "      <th>r3</th>\n",
       "      <th>...</th>\n",
       "      <th>r9</th>\n",
       "      <th>r10</th>\n",
       "      <th>mpaa</th>\n",
       "      <th>Action</th>\n",
       "      <th>Animation</th>\n",
       "      <th>Comedy</th>\n",
       "      <th>Drama</th>\n",
       "      <th>Documentary</th>\n",
       "      <th>Romance</th>\n",
       "      <th>Short</th>\n",
       "    </tr>\n",
       "  </thead>\n",
       "  <tbody>\n",
       "    <tr>\n",
       "      <th>0</th>\n",
       "      <td>1</td>\n",
       "      <td>$</td>\n",
       "      <td>1971</td>\n",
       "      <td>121</td>\n",
       "      <td>NaN</td>\n",
       "      <td>6.4</td>\n",
       "      <td>348</td>\n",
       "      <td>4.5</td>\n",
       "      <td>4.5</td>\n",
       "      <td>4.5</td>\n",
       "      <td>...</td>\n",
       "      <td>4.5</td>\n",
       "      <td>4.5</td>\n",
       "      <td>NaN</td>\n",
       "      <td>0</td>\n",
       "      <td>0</td>\n",
       "      <td>1</td>\n",
       "      <td>1</td>\n",
       "      <td>0</td>\n",
       "      <td>0</td>\n",
       "      <td>0</td>\n",
       "    </tr>\n",
       "    <tr>\n",
       "      <th>1</th>\n",
       "      <td>2</td>\n",
       "      <td>$1000 a Touchdown</td>\n",
       "      <td>1939</td>\n",
       "      <td>71</td>\n",
       "      <td>NaN</td>\n",
       "      <td>6.0</td>\n",
       "      <td>20</td>\n",
       "      <td>0.0</td>\n",
       "      <td>14.5</td>\n",
       "      <td>4.5</td>\n",
       "      <td>...</td>\n",
       "      <td>4.5</td>\n",
       "      <td>14.5</td>\n",
       "      <td>NaN</td>\n",
       "      <td>0</td>\n",
       "      <td>0</td>\n",
       "      <td>1</td>\n",
       "      <td>0</td>\n",
       "      <td>0</td>\n",
       "      <td>0</td>\n",
       "      <td>0</td>\n",
       "    </tr>\n",
       "    <tr>\n",
       "      <th>2</th>\n",
       "      <td>3</td>\n",
       "      <td>$21 a Day Once a Month</td>\n",
       "      <td>1941</td>\n",
       "      <td>7</td>\n",
       "      <td>NaN</td>\n",
       "      <td>8.2</td>\n",
       "      <td>5</td>\n",
       "      <td>0.0</td>\n",
       "      <td>0.0</td>\n",
       "      <td>0.0</td>\n",
       "      <td>...</td>\n",
       "      <td>24.5</td>\n",
       "      <td>24.5</td>\n",
       "      <td>NaN</td>\n",
       "      <td>0</td>\n",
       "      <td>1</td>\n",
       "      <td>0</td>\n",
       "      <td>0</td>\n",
       "      <td>0</td>\n",
       "      <td>0</td>\n",
       "      <td>1</td>\n",
       "    </tr>\n",
       "    <tr>\n",
       "      <th>3</th>\n",
       "      <td>4</td>\n",
       "      <td>$40,000</td>\n",
       "      <td>1996</td>\n",
       "      <td>70</td>\n",
       "      <td>NaN</td>\n",
       "      <td>8.2</td>\n",
       "      <td>6</td>\n",
       "      <td>14.5</td>\n",
       "      <td>0.0</td>\n",
       "      <td>0.0</td>\n",
       "      <td>...</td>\n",
       "      <td>34.5</td>\n",
       "      <td>45.5</td>\n",
       "      <td>NaN</td>\n",
       "      <td>0</td>\n",
       "      <td>0</td>\n",
       "      <td>1</td>\n",
       "      <td>0</td>\n",
       "      <td>0</td>\n",
       "      <td>0</td>\n",
       "      <td>0</td>\n",
       "    </tr>\n",
       "    <tr>\n",
       "      <th>4</th>\n",
       "      <td>5</td>\n",
       "      <td>$50,000 Climax Show, The</td>\n",
       "      <td>1975</td>\n",
       "      <td>71</td>\n",
       "      <td>NaN</td>\n",
       "      <td>3.4</td>\n",
       "      <td>17</td>\n",
       "      <td>24.5</td>\n",
       "      <td>4.5</td>\n",
       "      <td>0.0</td>\n",
       "      <td>...</td>\n",
       "      <td>0.0</td>\n",
       "      <td>24.5</td>\n",
       "      <td>NaN</td>\n",
       "      <td>0</td>\n",
       "      <td>0</td>\n",
       "      <td>0</td>\n",
       "      <td>0</td>\n",
       "      <td>0</td>\n",
       "      <td>0</td>\n",
       "      <td>0</td>\n",
       "    </tr>\n",
       "  </tbody>\n",
       "</table>\n",
       "<p>5 rows × 25 columns</p>\n",
       "</div>"
      ],
      "text/plain": [
       "   Unnamed: 0                     title  year  length  budget  rating  votes  \\\n",
       "0           1                         $  1971     121     NaN     6.4    348   \n",
       "1           2         $1000 a Touchdown  1939      71     NaN     6.0     20   \n",
       "2           3    $21 a Day Once a Month  1941       7     NaN     8.2      5   \n",
       "3           4                   $40,000  1996      70     NaN     8.2      6   \n",
       "4           5  $50,000 Climax Show, The  1975      71     NaN     3.4     17   \n",
       "\n",
       "     r1    r2   r3  ...      r9   r10  mpaa  Action  Animation  Comedy  Drama  \\\n",
       "0   4.5   4.5  4.5  ...     4.5   4.5   NaN       0          0       1      1   \n",
       "1   0.0  14.5  4.5  ...     4.5  14.5   NaN       0          0       1      0   \n",
       "2   0.0   0.0  0.0  ...    24.5  24.5   NaN       0          1       0      0   \n",
       "3  14.5   0.0  0.0  ...    34.5  45.5   NaN       0          0       1      0   \n",
       "4  24.5   4.5  0.0  ...     0.0  24.5   NaN       0          0       0      0   \n",
       "\n",
       "  Documentary  Romance  Short  \n",
       "0           0        0      0  \n",
       "1           0        0      0  \n",
       "2           0        0      1  \n",
       "3           0        0      0  \n",
       "4           0        0      0  \n",
       "\n",
       "[5 rows x 25 columns]"
      ]
     },
     "execution_count": 5,
     "metadata": {},
     "output_type": "execute_result"
    }
   ],
   "source": [
    "pdmovies.head()"
   ]
  },
  {
   "cell_type": "code",
   "execution_count": 6,
   "metadata": {},
   "outputs": [
    {
     "name": "stdout",
     "output_type": "stream",
     "text": [
      "Number of rows loaded = 58788, Number of columns loaded = 25\n",
      "\n",
      "<class 'pandas.core.frame.DataFrame'>\n",
      "RangeIndex: 58788 entries, 0 to 58787\n",
      "Data columns (total 25 columns):\n",
      "Unnamed: 0     58788 non-null int64\n",
      "title          58788 non-null object\n",
      "year           58788 non-null int64\n",
      "length         58788 non-null int64\n",
      "budget         5215 non-null float64\n",
      "rating         58788 non-null float64\n",
      "votes          58788 non-null int64\n",
      "r1             58788 non-null float64\n",
      "r2             58788 non-null float64\n",
      "r3             58788 non-null float64\n",
      "r4             58788 non-null float64\n",
      "r5             58788 non-null float64\n",
      "r6             58788 non-null float64\n",
      "r7             58788 non-null float64\n",
      "r8             58788 non-null float64\n",
      "r9             58788 non-null float64\n",
      "r10            58788 non-null float64\n",
      "mpaa           4924 non-null object\n",
      "Action         58788 non-null int64\n",
      "Animation      58788 non-null int64\n",
      "Comedy         58788 non-null int64\n",
      "Drama          58788 non-null int64\n",
      "Documentary    58788 non-null int64\n",
      "Romance        58788 non-null int64\n",
      "Short          58788 non-null int64\n",
      "dtypes: float64(12), int64(11), object(2)\n",
      "memory usage: 11.2+ MB\n"
     ]
    }
   ],
   "source": [
    "# print data types\n",
    "print(\"Number of rows loaded = \" + str(pdmovies.shape[0]) + \", Number of columns loaded = \" + str(pdmovies.shape[1]) + \"\\n\")\n",
    "pdmovies.info()"
   ]
  },
  {
   "cell_type": "markdown",
   "metadata": {},
   "source": [
    "**Your Interpretation**: With the first line of code, I loaded 58788 rows and 25 columns of data.  The data types can be seen in the output of movies.info() above.  For example, the data type of the 'title' column is object, the data type of the 'year' column is int64.  Manual data type conversion is not needed because the ratings are float64 type and the votes are int64 type.  The data type conversion was done automatically by the panda read_csv function."
   ]
  },
  {
   "cell_type": "markdown",
   "metadata": {},
   "source": [
    "### Task 2.2: Calculate the average rating\n",
    "\n",
    "Compute the average rating for all movies and print the output in a formatted way.\n",
    "\n",
    "Your output could look like this:\n",
    "    \n",
    "    Average rating: xxx.xxxx"
   ]
  },
  {
   "cell_type": "code",
   "execution_count": 7,
   "metadata": {},
   "outputs": [
    {
     "name": "stdout",
     "output_type": "stream",
     "text": [
      "Average rating: 5.932850241545932\n"
     ]
    }
   ],
   "source": [
    "# your code goes here\n",
    "print(\"Average rating: \" + str(pdmovies[\"rating\"].mean()))"
   ]
  },
  {
   "cell_type": "markdown",
   "metadata": {},
   "source": [
    "### Task 2.3: Compare the runtime\n",
    "\n",
    "Measure the runtime of the mean calculation using [Pandas](http://pandas.pydata.org/pandas-docs/stable) and compare it to the computation time for calculating the mean using a for loop (you can copy the relevant parts from part one).\n",
    "\n",
    "You can use [time.clock()](https://docs.python.org/3/library/time.html) to set timestamps before and after the execution of the code you want to measure, then you simply substract end time from start time.\n",
    "\n",
    "Print your results in a human readable way and add a metric to the output. Calculate the factor of the difference and print it. Note that the exact times and the factors will vary when you re-run this and especially between machines. \n",
    "\n",
    "E.g.:  \n",
    "    time using own code: xxx.xxx s  \n",
    "    time using Pandas: xxx.xxx s  \n",
    "    difference factor: xxx"
   ]
  },
  {
   "cell_type": "code",
   "execution_count": 8,
   "metadata": {},
   "outputs": [
    {
     "name": "stdout",
     "output_type": "stream",
     "text": [
      "time using own code: 0.02038098354440391 s\n",
      "time using Pandas: 0.0005837972418448016 s\n",
      "difference factor: 34.91106514994816\n"
     ]
    }
   ],
   "source": [
    "import time\n",
    "# your code goes here\n",
    "\n",
    "def avg_rating(movies_matrix):\n",
    "    sum_ratings = 0\n",
    "    for i in range(len(movies_matrix)):\n",
    "        sum_ratings += movies_matrix[i][5] #ratings is in column index 5\n",
    "    return sum_ratings / len(movies_matrix)\n",
    "\n",
    "start = time.clock()\n",
    "#avg_rating(movies)\n",
    "avg_rating = avg_rating(movies)\n",
    "end = time.clock()\n",
    "own_diff = end-start\n",
    "print(\"time using own code: \" + str(own_diff) + \" s\")\n",
    "\n",
    "start = time.clock()\n",
    "pdmovies[\"rating\"].mean()\n",
    "end = time.clock()\n",
    "pd_diff = end-start\n",
    "print(\"time using Pandas: \" + str(pd_diff) + \" s\")\n",
    "\n",
    "print(\"difference factor: \" + str(own_diff/pd_diff))"
   ]
  },
  {
   "cell_type": "markdown",
   "metadata": {},
   "source": [
    "### Task 2.4: Filter out rows\n",
    "\n",
    "The whole movies dataset has about 60k entries. Use pandas to filter your dataframe to contain only the major movies with more than 500 votes.\n",
    "\n",
    "Count and print the number of movies with more than 500 votes. \n",
    "\n",
    "E.g.:\n",
    "    xxx.xxx movies have more than 500 votes."
   ]
  },
  {
   "cell_type": "code",
   "execution_count": 9,
   "metadata": {},
   "outputs": [
    {
     "name": "stdout",
     "output_type": "stream",
     "text": [
      "Number of major movies: 6458\n"
     ]
    }
   ],
   "source": [
    "# your code goes here\n",
    "pdmovies[pdmovies[\"votes\"]>500] #filters data\n",
    "print(\"Number of major movies: \" + str(pdmovies[pdmovies[\"votes\"]>500].shape[0]))"
   ]
  },
  {
   "cell_type": "markdown",
   "metadata": {},
   "source": [
    "### Task 2.5: Calculate the average rating for major movies\n",
    "\n",
    "Compute the average rating for the major movies.\n",
    "Your output could look like this:\n",
    "    \n",
    "    Average rating of movies with more than 500 votes: xxx.xxxx"
   ]
  },
  {
   "cell_type": "code",
   "execution_count": 10,
   "metadata": {},
   "outputs": [
    {
     "data": {
      "text/plain": [
       "6.370579126664578"
      ]
     },
     "execution_count": 10,
     "metadata": {},
     "output_type": "execute_result"
    }
   ],
   "source": [
    "# your code goes here\n",
    "pdmovies[pdmovies[\"votes\"]>500][\"rating\"].mean()"
   ]
  },
  {
   "cell_type": "markdown",
   "metadata": {},
   "source": [
    "### Task 2.6: Find the highest rated major movie\n",
    "\n",
    "Find the highest rated major movie in the dataframe. Hint: [idxmax()](http://pandas.pydata.org/pandas-docs/stable/generated/pandas.Series.idxmax.html) could be a helpful function. \n",
    "\n",
    "Print the title and the rating.\n",
    "\n",
    "Your output could look like this:\n",
    "    \n",
    "    Highest rated movie: TITLE, rating: x.x\n"
   ]
  },
  {
   "cell_type": "code",
   "execution_count": 11,
   "metadata": {
    "scrolled": true
   },
   "outputs": [
    {
     "name": "stdout",
     "output_type": "stream",
     "text": [
      "Highest rated movie: Godfather, The, rating: 9.1\n"
     ]
    }
   ],
   "source": [
    "# your code goes here\n",
    "pd_majormovies = pdmovies[pdmovies[\"votes\"]>500]\n",
    "pd_top_rating = pdmovies[pdmovies[\"votes\"]>500][\"rating\"].max()\n",
    "pd_top_rated = pdmovies.iloc[pdmovies[pdmovies[\"votes\"]>500][\"rating\"].idxmax()][\"title\"] #title\n",
    "\n",
    "print(\"Highest rated movie: \" + str(pd_top_rated) + \", rating: \" + str(pd_top_rating))"
   ]
  },
  {
   "cell_type": "markdown",
   "metadata": {},
   "source": [
    "### Task 2.7: Filter out rows and count specific features\n",
    "\n",
    "From the major movies you filtered out in a previous task, find out \n",
    " * How many are comedies.\n",
    " * How many are dramas\n",
    " * How many are both, comedies and dramas\n",
    " \n",
    "Create new dataframed for each of these subsets.\n",
    "\n",
    "Hint: you can combine broadcasting statements with a boolean AND: `&`.\n",
    "\n",
    "Print the results, e.g.:  \n",
    "\n",
    "    xxx.xxx major movies are comedies.\n",
    "    xxx.xxx major movies are dramas.\n",
    "    xxx.xxx major movies are both, comedies and dramas."
   ]
  },
  {
   "cell_type": "code",
   "execution_count": 12,
   "metadata": {},
   "outputs": [
    {
     "name": "stdout",
     "output_type": "stream",
     "text": [
      "2553 major movies are comedies.\n",
      "3370 major movies are dramas.\n",
      "814 major movies are both comedies and dramas.\n"
     ]
    }
   ],
   "source": [
    "# your code goes here\n",
    "pd_majormovies = pdmovies[pdmovies[\"votes\"]>500]\n",
    "com = len(pd_majormovies[pd_majormovies[\"Comedy\"]==1]) # what's a better way to do this?\n",
    "dramas = len(pd_majormovies[pd_majormovies[\"Drama\"]>0])\n",
    "both = len(pd_majormovies[(pd_majormovies[\"Comedy\"]==1) & (pd_majormovies[\"Drama\"]==1)])\n",
    "\n",
    "print(str(com) + \" major movies are comedies.\")\n",
    "print(str(dramas) + \" major movies are dramas.\")\n",
    "print(str(both) + \" major movies are both comedies and dramas.\")"
   ]
  },
  {
   "cell_type": "markdown",
   "metadata": {},
   "source": [
    "### Task 2.8: Compare ratings of different categories\n",
    "\n",
    "Now we want to compare the ratings for comedies and dramas for major movies.\n",
    "\n",
    "Compute the average rating, maximum rating, minimum rating, standard deviation, and the median for each category. Hint: there is a function that does all of this in one line. \n",
    "\n",
    "What do these numbers tell us? Provide an interpretation."
   ]
  },
  {
   "cell_type": "code",
   "execution_count": 13,
   "metadata": {},
   "outputs": [
    {
     "name": "stdout",
     "output_type": "stream",
     "text": [
      "Comedies: \n",
      "  count    2553.000000\n",
      "mean        6.121387\n",
      "std         1.196146\n",
      "min         1.700000\n",
      "25%         5.300000\n",
      "50%         6.200000\n",
      "75%         7.100000\n",
      "max         8.700000\n",
      "Name: rating, dtype: float64 \n",
      "\n",
      "Dramas: \n",
      "  count    3370.000000\n",
      "mean        6.749614\n",
      "std         0.990969\n",
      "min         1.300000\n",
      "25%         6.200000\n",
      "50%         6.900000\n",
      "75%         7.500000\n",
      "max         9.100000\n",
      "Name: rating, dtype: float64\n"
     ]
    }
   ],
   "source": [
    "# your code goes here\n",
    "print('Comedies: \\n ',pd_majormovies[pd_majormovies[\"Comedy\"]>0][\"rating\"].describe(),\"\\n\") # i used two lines, what's the better way\n",
    "print('Dramas: \\n ',pd_majormovies[pd_majormovies[\"Drama\"]>0][\"rating\"].describe())"
   ]
  },
  {
   "cell_type": "markdown",
   "metadata": {},
   "source": [
    "**Your Interpretation**: From the output above, we see that in the Comedy category, there are 2,553 movies, the mean rating is 6.1 with a standard deviation of 1.2 while the minimum rating is 1.7, the maximum rating is 8.7, and the median is 6.2.  In the Drama category, there are 3,370 movies, the mean rating is 6.7 with a standard deviation of 1.0 while the minimum rating is 1.3, the maximum rating is 9.1, and the median is 6.9.  From this information, we see that the Drama movies are usually rated higher than Comedy movies and with a smaller standard deviation.  The Drama movies also have a wider spread of ratings with a minimum that is lower and a maximum that is higher than those ratings in the Comedy category."
   ]
  },
  {
   "cell_type": "markdown",
   "metadata": {},
   "source": [
    "### Task 2.9: Movies per year\n",
    "\n",
    "Calcluate how many major movies were made in each year.\n",
    "\n",
    "Print the number like this, sorted by year:\n",
    "\n",
    "    year   number of movies\n",
    "    1902    xxx\n",
    "    1903    xxx\n",
    "    ...     ...\n",
    "\n",
    "Use this data to render a line chart of the number of movies per year."
   ]
  },
  {
   "cell_type": "code",
   "execution_count": 14,
   "metadata": {},
   "outputs": [
    {
     "data": {
      "text/plain": [
       "1902      1\n",
       "1903      1\n",
       "1915      1\n",
       "1916      1\n",
       "1917      1\n",
       "1919      1\n",
       "1920      1\n",
       "1921      1\n",
       "1922      3\n",
       "1923      2\n",
       "1924      4\n",
       "1925      5\n",
       "1926      1\n",
       "1927      8\n",
       "1928      5\n",
       "1929      4\n",
       "1930      5\n",
       "1931      7\n",
       "1932     14\n",
       "1933     11\n",
       "1934     12\n",
       "1935      9\n",
       "1936     17\n",
       "1937     15\n",
       "1938     12\n",
       "1939     26\n",
       "1940     19\n",
       "1941     20\n",
       "1942     20\n",
       "1943     13\n",
       "       ... \n",
       "1976     51\n",
       "1977     60\n",
       "1978     65\n",
       "1979     71\n",
       "1980     84\n",
       "1981     92\n",
       "1982     83\n",
       "1983     95\n",
       "1984    105\n",
       "1985    129\n",
       "1986    131\n",
       "1987    146\n",
       "1988    162\n",
       "1989    147\n",
       "1990    156\n",
       "1991    157\n",
       "1992    172\n",
       "1993    202\n",
       "1994    213\n",
       "1995    220\n",
       "1996    266\n",
       "1997    272\n",
       "1998    275\n",
       "1999    281\n",
       "2000    287\n",
       "2001    311\n",
       "2002    317\n",
       "2003    285\n",
       "2004    229\n",
       "2005     36\n",
       "Name: year, Length: 92, dtype: int64"
      ]
     },
     "execution_count": 14,
     "metadata": {},
     "output_type": "execute_result"
    }
   ],
   "source": [
    "# your code goes here\n",
    "mm_yearly = pd_majormovies[\"year\"].value_counts()\n",
    "mm_yearly.sort_index() #sorts by year, which is the index"
   ]
  },
  {
   "cell_type": "code",
   "execution_count": 15,
   "metadata": {},
   "outputs": [
    {
     "data": {
      "text/plain": [
       "<matplotlib.axes._subplots.AxesSubplot at 0x22f9e2545f8>"
      ]
     },
     "execution_count": 15,
     "metadata": {},
     "output_type": "execute_result"
    },
    {
     "data": {
      "image/png": "[encoded data removed]",
      "text/plain": [
       "<matplotlib.figure.Figure at 0x22f9e258e80>"
      ]
     },
     "metadata": {},
     "output_type": "display_data"
    }
   ],
   "source": [
    "%matplotlib inline\n",
    "# create the plot here\n",
    "mm_yearly.sort_index().plot(title=\"Number of major movies made per year\")"
   ]
  },
  {
   "cell_type": "markdown",
   "metadata": {},
   "source": [
    "### Task 2.10: Yearly average\n",
    "\n",
    "Compute the average rating per year for all major movies.  \n",
    "Use the numbers you computed to plot a line chart. Plot the year on the x-axis and the average rating on th y axis.  "
   ]
  },
  {
   "cell_type": "code",
   "execution_count": 16,
   "metadata": {},
   "outputs": [
    {
     "data": {
      "text/html": [
       "<div>\n",
       "<style>\n",
       "    .dataframe thead tr:only-child th {\n",
       "        text-align: right;\n",
       "    }\n",
       "\n",
       "    .dataframe thead th {\n",
       "        text-align: left;\n",
       "    }\n",
       "\n",
       "    .dataframe tbody tr th {\n",
       "        vertical-align: top;\n",
       "    }\n",
       "</style>\n",
       "<table border=\"1\" class=\"dataframe\">\n",
       "  <thead>\n",
       "    <tr style=\"text-align: right;\">\n",
       "      <th></th>\n",
       "      <th>rating</th>\n",
       "    </tr>\n",
       "    <tr>\n",
       "      <th>year</th>\n",
       "      <th></th>\n",
       "    </tr>\n",
       "  </thead>\n",
       "  <tbody>\n",
       "    <tr>\n",
       "      <th>1902</th>\n",
       "      <td>8.2</td>\n",
       "    </tr>\n",
       "    <tr>\n",
       "      <th>1903</th>\n",
       "      <td>7.4</td>\n",
       "    </tr>\n",
       "    <tr>\n",
       "      <th>1915</th>\n",
       "      <td>7.1</td>\n",
       "    </tr>\n",
       "    <tr>\n",
       "      <th>1916</th>\n",
       "      <td>7.8</td>\n",
       "    </tr>\n",
       "    <tr>\n",
       "      <th>1917</th>\n",
       "      <td>7.9</td>\n",
       "    </tr>\n",
       "  </tbody>\n",
       "</table>\n",
       "</div>"
      ],
      "text/plain": [
       "      rating\n",
       "year        \n",
       "1902     8.2\n",
       "1903     7.4\n",
       "1915     7.1\n",
       "1916     7.8\n",
       "1917     7.9"
      ]
     },
     "execution_count": 16,
     "metadata": {},
     "output_type": "execute_result"
    }
   ],
   "source": [
    "# your code goes here\n",
    "rating_year = pd_majormovies[[\"year\",\"rating\"]]\n",
    "rating_year.groupby(\"year\").mean().head()"
   ]
  },
  {
   "cell_type": "code",
   "execution_count": 17,
   "metadata": {
    "scrolled": true
   },
   "outputs": [
    {
     "data": {
      "text/plain": [
       "<matplotlib.axes._subplots.AxesSubplot at 0x22f9e1b5d30>"
      ]
     },
     "execution_count": 17,
     "metadata": {},
     "output_type": "execute_result"
    },
    {
     "data": {
      "image/png": "[encoded data removed]",
      "text/plain": [
       "<matplotlib.figure.Figure at 0x22f9e2435c0>"
      ]
     },
     "metadata": {},
     "output_type": "display_data"
    }
   ],
   "source": [
    "rating_year.groupby(\"year\").mean().plot(title=\"Yearly average ratings of major movies\")"
   ]
  },
  {
   "cell_type": "code",
   "execution_count": 18,
   "metadata": {},
   "outputs": [
    {
     "data": {
      "text/html": [
       "<div>\n",
       "<style>\n",
       "    .dataframe thead tr:only-child th {\n",
       "        text-align: right;\n",
       "    }\n",
       "\n",
       "    .dataframe thead th {\n",
       "        text-align: left;\n",
       "    }\n",
       "\n",
       "    .dataframe tbody tr th {\n",
       "        vertical-align: top;\n",
       "    }\n",
       "</style>\n",
       "<table border=\"1\" class=\"dataframe\">\n",
       "  <thead>\n",
       "    <tr style=\"text-align: right;\">\n",
       "      <th></th>\n",
       "      <th>rating</th>\n",
       "    </tr>\n",
       "    <tr>\n",
       "      <th>year</th>\n",
       "      <th></th>\n",
       "    </tr>\n",
       "  </thead>\n",
       "  <tbody>\n",
       "    <tr>\n",
       "      <th>1902</th>\n",
       "      <td>8.200000</td>\n",
       "    </tr>\n",
       "    <tr>\n",
       "      <th>1903</th>\n",
       "      <td>7.400000</td>\n",
       "    </tr>\n",
       "    <tr>\n",
       "      <th>1915</th>\n",
       "      <td>7.100000</td>\n",
       "    </tr>\n",
       "    <tr>\n",
       "      <th>1916</th>\n",
       "      <td>7.800000</td>\n",
       "    </tr>\n",
       "    <tr>\n",
       "      <th>1917</th>\n",
       "      <td>7.900000</td>\n",
       "    </tr>\n",
       "    <tr>\n",
       "      <th>1919</th>\n",
       "      <td>7.400000</td>\n",
       "    </tr>\n",
       "    <tr>\n",
       "      <th>1920</th>\n",
       "      <td>8.100000</td>\n",
       "    </tr>\n",
       "    <tr>\n",
       "      <th>1921</th>\n",
       "      <td>8.200000</td>\n",
       "    </tr>\n",
       "    <tr>\n",
       "      <th>1922</th>\n",
       "      <td>7.933333</td>\n",
       "    </tr>\n",
       "    <tr>\n",
       "      <th>1923</th>\n",
       "      <td>8.050000</td>\n",
       "    </tr>\n",
       "    <tr>\n",
       "      <th>1924</th>\n",
       "      <td>8.050000</td>\n",
       "    </tr>\n",
       "    <tr>\n",
       "      <th>1925</th>\n",
       "      <td>8.000000</td>\n",
       "    </tr>\n",
       "    <tr>\n",
       "      <th>1926</th>\n",
       "      <td>8.400000</td>\n",
       "    </tr>\n",
       "    <tr>\n",
       "      <th>1927</th>\n",
       "      <td>7.750000</td>\n",
       "    </tr>\n",
       "    <tr>\n",
       "      <th>1928</th>\n",
       "      <td>8.020000</td>\n",
       "    </tr>\n",
       "    <tr>\n",
       "      <th>1929</th>\n",
       "      <td>7.400000</td>\n",
       "    </tr>\n",
       "    <tr>\n",
       "      <th>1930</th>\n",
       "      <td>7.520000</td>\n",
       "    </tr>\n",
       "    <tr>\n",
       "      <th>1931</th>\n",
       "      <td>7.871429</td>\n",
       "    </tr>\n",
       "    <tr>\n",
       "      <th>1932</th>\n",
       "      <td>7.557143</td>\n",
       "    </tr>\n",
       "    <tr>\n",
       "      <th>1933</th>\n",
       "      <td>7.654545</td>\n",
       "    </tr>\n",
       "    <tr>\n",
       "      <th>1934</th>\n",
       "      <td>7.541667</td>\n",
       "    </tr>\n",
       "    <tr>\n",
       "      <th>1935</th>\n",
       "      <td>7.777778</td>\n",
       "    </tr>\n",
       "    <tr>\n",
       "      <th>1936</th>\n",
       "      <td>7.329412</td>\n",
       "    </tr>\n",
       "    <tr>\n",
       "      <th>1937</th>\n",
       "      <td>7.626667</td>\n",
       "    </tr>\n",
       "    <tr>\n",
       "      <th>1938</th>\n",
       "      <td>7.733333</td>\n",
       "    </tr>\n",
       "    <tr>\n",
       "      <th>1939</th>\n",
       "      <td>7.569231</td>\n",
       "    </tr>\n",
       "    <tr>\n",
       "      <th>1940</th>\n",
       "      <td>7.721053</td>\n",
       "    </tr>\n",
       "    <tr>\n",
       "      <th>1941</th>\n",
       "      <td>7.510000</td>\n",
       "    </tr>\n",
       "    <tr>\n",
       "      <th>1942</th>\n",
       "      <td>7.635000</td>\n",
       "    </tr>\n",
       "    <tr>\n",
       "      <th>1943</th>\n",
       "      <td>7.523077</td>\n",
       "    </tr>\n",
       "    <tr>\n",
       "      <th>1944</th>\n",
       "      <td>7.633333</td>\n",
       "    </tr>\n",
       "    <tr>\n",
       "      <th>1945</th>\n",
       "      <td>7.600000</td>\n",
       "    </tr>\n",
       "    <tr>\n",
       "      <th>1946</th>\n",
       "      <td>7.722222</td>\n",
       "    </tr>\n",
       "    <tr>\n",
       "      <th>1947</th>\n",
       "      <td>7.483333</td>\n",
       "    </tr>\n",
       "    <tr>\n",
       "      <th>1948</th>\n",
       "      <td>7.612000</td>\n",
       "    </tr>\n",
       "    <tr>\n",
       "      <th>1949</th>\n",
       "      <td>7.440000</td>\n",
       "    </tr>\n",
       "    <tr>\n",
       "      <th>1950</th>\n",
       "      <td>7.510000</td>\n",
       "    </tr>\n",
       "    <tr>\n",
       "      <th>1951</th>\n",
       "      <td>7.447619</td>\n",
       "    </tr>\n",
       "    <tr>\n",
       "      <th>1952</th>\n",
       "      <td>7.454545</td>\n",
       "    </tr>\n",
       "    <tr>\n",
       "      <th>1953</th>\n",
       "      <td>7.017949</td>\n",
       "    </tr>\n",
       "  </tbody>\n",
       "</table>\n",
       "</div>"
      ],
      "text/plain": [
       "        rating\n",
       "year          \n",
       "1902  8.200000\n",
       "1903  7.400000\n",
       "1915  7.100000\n",
       "1916  7.800000\n",
       "1917  7.900000\n",
       "1919  7.400000\n",
       "1920  8.100000\n",
       "1921  8.200000\n",
       "1922  7.933333\n",
       "1923  8.050000\n",
       "1924  8.050000\n",
       "1925  8.000000\n",
       "1926  8.400000\n",
       "1927  7.750000\n",
       "1928  8.020000\n",
       "1929  7.400000\n",
       "1930  7.520000\n",
       "1931  7.871429\n",
       "1932  7.557143\n",
       "1933  7.654545\n",
       "1934  7.541667\n",
       "1935  7.777778\n",
       "1936  7.329412\n",
       "1937  7.626667\n",
       "1938  7.733333\n",
       "1939  7.569231\n",
       "1940  7.721053\n",
       "1941  7.510000\n",
       "1942  7.635000\n",
       "1943  7.523077\n",
       "1944  7.633333\n",
       "1945  7.600000\n",
       "1946  7.722222\n",
       "1947  7.483333\n",
       "1948  7.612000\n",
       "1949  7.440000\n",
       "1950  7.510000\n",
       "1951  7.447619\n",
       "1952  7.454545\n",
       "1953  7.017949"
      ]
     },
     "execution_count": 18,
     "metadata": {},
     "output_type": "execute_result"
    }
   ],
   "source": [
    "rating_year.groupby(\"year\").mean().head(40) #for Task 2.11"
   ]
  },
  {
   "cell_type": "markdown",
   "metadata": {},
   "source": [
    "### Task 2.11: Explore and Interpret\n",
    "\n",
    "Are old movies better? How could you explain this? Are there differences between the rating of major movies and all movies over time? Continue to explore and use plots to inform your answer. Interesting measures to consider are the total number of votes per year, the average number of votes for a movie in a particular year, etc. "
   ]
  },
  {
   "cell_type": "markdown",
   "metadata": {},
   "source": [
    "**TODO: your code and your interpretation**  Please see below for the code and plots generated to inform my response to this question.  When looking at the plot above of yearly average ratings of major movies, there is a clear downward trend through time, leading us to believe that older movies might be better.  However, when plotting the yearly average ratings of ALL movies, there is much more variability.  The oldest movies have the lowest mean ratings, then there is a spike from 1910-1930 before a very slow decrease in ratings until the year 2000, when there is another large spike.  One conclusion that can be drawn from both plots is that the period between 1912 and 1928 was a consistently high-rated movie timeframe as compared to timeframes afterward.\n",
    "\n",
    "However, from 1902 to 1930, less than 200 movies were made per year (see last plot).  After this point, the number of movies made per year jumped up to about 500 and slowly increased until a spike in the late 1990s leading to 2,168 movies being made in the year 2000.  One might conclude that more movies means more competition for higher ratings.  This could be another reason for the decrease in ratings over time.\n",
    "\n",
    "Why would there be so much variability in the ratings of all movies?  Taking a look at the voting behavior over time, it is clear that the average number of votes in a year increased significantly starting at a minimum yearly average of 13.2 around the year 1900 and increasing to 1365 votes around the year 2000.  With this substantial increase in voters as well as an increase in number of movies available over the years, it is possible that voters became more critical of movies as compared to the numerous movie options available."
   ]
  },
  {
   "cell_type": "code",
   "execution_count": 19,
   "metadata": {},
   "outputs": [
    {
     "data": {
      "text/html": [
       "<div>\n",
       "<style>\n",
       "    .dataframe thead tr:only-child th {\n",
       "        text-align: right;\n",
       "    }\n",
       "\n",
       "    .dataframe thead th {\n",
       "        text-align: left;\n",
       "    }\n",
       "\n",
       "    .dataframe tbody tr th {\n",
       "        vertical-align: top;\n",
       "    }\n",
       "</style>\n",
       "<table border=\"1\" class=\"dataframe\">\n",
       "  <thead>\n",
       "    <tr style=\"text-align: right;\">\n",
       "      <th></th>\n",
       "      <th>rating</th>\n",
       "    </tr>\n",
       "    <tr>\n",
       "      <th>year</th>\n",
       "      <th></th>\n",
       "    </tr>\n",
       "  </thead>\n",
       "  <tbody>\n",
       "    <tr>\n",
       "      <th>1893</th>\n",
       "      <td>7.000000</td>\n",
       "    </tr>\n",
       "    <tr>\n",
       "      <th>1894</th>\n",
       "      <td>4.888889</td>\n",
       "    </tr>\n",
       "    <tr>\n",
       "      <th>1895</th>\n",
       "      <td>5.500000</td>\n",
       "    </tr>\n",
       "    <tr>\n",
       "      <th>1896</th>\n",
       "      <td>5.269231</td>\n",
       "    </tr>\n",
       "    <tr>\n",
       "      <th>1897</th>\n",
       "      <td>4.677778</td>\n",
       "    </tr>\n",
       "    <tr>\n",
       "      <th>1898</th>\n",
       "      <td>5.040000</td>\n",
       "    </tr>\n",
       "    <tr>\n",
       "      <th>1899</th>\n",
       "      <td>4.277778</td>\n",
       "    </tr>\n",
       "    <tr>\n",
       "      <th>1900</th>\n",
       "      <td>4.731250</td>\n",
       "    </tr>\n",
       "    <tr>\n",
       "      <th>1901</th>\n",
       "      <td>4.682143</td>\n",
       "    </tr>\n",
       "    <tr>\n",
       "      <th>1902</th>\n",
       "      <td>4.900000</td>\n",
       "    </tr>\n",
       "    <tr>\n",
       "      <th>1903</th>\n",
       "      <td>4.808108</td>\n",
       "    </tr>\n",
       "    <tr>\n",
       "      <th>1904</th>\n",
       "      <td>4.223810</td>\n",
       "    </tr>\n",
       "    <tr>\n",
       "      <th>1905</th>\n",
       "      <td>5.047059</td>\n",
       "    </tr>\n",
       "    <tr>\n",
       "      <th>1906</th>\n",
       "      <td>5.676471</td>\n",
       "    </tr>\n",
       "    <tr>\n",
       "      <th>1907</th>\n",
       "      <td>5.383333</td>\n",
       "    </tr>\n",
       "    <tr>\n",
       "      <th>1908</th>\n",
       "      <td>4.912500</td>\n",
       "    </tr>\n",
       "    <tr>\n",
       "      <th>1909</th>\n",
       "      <td>5.126667</td>\n",
       "    </tr>\n",
       "    <tr>\n",
       "      <th>1910</th>\n",
       "      <td>5.211538</td>\n",
       "    </tr>\n",
       "    <tr>\n",
       "      <th>1911</th>\n",
       "      <td>5.881818</td>\n",
       "    </tr>\n",
       "    <tr>\n",
       "      <th>1912</th>\n",
       "      <td>6.400000</td>\n",
       "    </tr>\n",
       "    <tr>\n",
       "      <th>1913</th>\n",
       "      <td>6.665625</td>\n",
       "    </tr>\n",
       "    <tr>\n",
       "      <th>1914</th>\n",
       "      <td>6.088889</td>\n",
       "    </tr>\n",
       "    <tr>\n",
       "      <th>1915</th>\n",
       "      <td>6.246296</td>\n",
       "    </tr>\n",
       "    <tr>\n",
       "      <th>1916</th>\n",
       "      <td>6.632653</td>\n",
       "    </tr>\n",
       "    <tr>\n",
       "      <th>1917</th>\n",
       "      <td>6.751351</td>\n",
       "    </tr>\n",
       "    <tr>\n",
       "      <th>1918</th>\n",
       "      <td>6.378049</td>\n",
       "    </tr>\n",
       "    <tr>\n",
       "      <th>1919</th>\n",
       "      <td>7.075000</td>\n",
       "    </tr>\n",
       "    <tr>\n",
       "      <th>1920</th>\n",
       "      <td>6.772093</td>\n",
       "    </tr>\n",
       "    <tr>\n",
       "      <th>1921</th>\n",
       "      <td>6.926415</td>\n",
       "    </tr>\n",
       "    <tr>\n",
       "      <th>1922</th>\n",
       "      <td>6.705769</td>\n",
       "    </tr>\n",
       "    <tr>\n",
       "      <th>1923</th>\n",
       "      <td>6.818750</td>\n",
       "    </tr>\n",
       "    <tr>\n",
       "      <th>1924</th>\n",
       "      <td>6.928000</td>\n",
       "    </tr>\n",
       "    <tr>\n",
       "      <th>1925</th>\n",
       "      <td>6.862025</td>\n",
       "    </tr>\n",
       "    <tr>\n",
       "      <th>1926</th>\n",
       "      <td>6.617021</td>\n",
       "    </tr>\n",
       "    <tr>\n",
       "      <th>1927</th>\n",
       "      <td>7.085542</td>\n",
       "    </tr>\n",
       "    <tr>\n",
       "      <th>1928</th>\n",
       "      <td>7.170642</td>\n",
       "    </tr>\n",
       "    <tr>\n",
       "      <th>1929</th>\n",
       "      <td>6.531522</td>\n",
       "    </tr>\n",
       "    <tr>\n",
       "      <th>1930</th>\n",
       "      <td>5.931250</td>\n",
       "    </tr>\n",
       "    <tr>\n",
       "      <th>1931</th>\n",
       "      <td>6.174566</td>\n",
       "    </tr>\n",
       "    <tr>\n",
       "      <th>1932</th>\n",
       "      <td>6.114563</td>\n",
       "    </tr>\n",
       "  </tbody>\n",
       "</table>\n",
       "</div>"
      ],
      "text/plain": [
       "        rating\n",
       "year          \n",
       "1893  7.000000\n",
       "1894  4.888889\n",
       "1895  5.500000\n",
       "1896  5.269231\n",
       "1897  4.677778\n",
       "1898  5.040000\n",
       "1899  4.277778\n",
       "1900  4.731250\n",
       "1901  4.682143\n",
       "1902  4.900000\n",
       "1903  4.808108\n",
       "1904  4.223810\n",
       "1905  5.047059\n",
       "1906  5.676471\n",
       "1907  5.383333\n",
       "1908  4.912500\n",
       "1909  5.126667\n",
       "1910  5.211538\n",
       "1911  5.881818\n",
       "1912  6.400000\n",
       "1913  6.665625\n",
       "1914  6.088889\n",
       "1915  6.246296\n",
       "1916  6.632653\n",
       "1917  6.751351\n",
       "1918  6.378049\n",
       "1919  7.075000\n",
       "1920  6.772093\n",
       "1921  6.926415\n",
       "1922  6.705769\n",
       "1923  6.818750\n",
       "1924  6.928000\n",
       "1925  6.862025\n",
       "1926  6.617021\n",
       "1927  7.085542\n",
       "1928  7.170642\n",
       "1929  6.531522\n",
       "1930  5.931250\n",
       "1931  6.174566\n",
       "1932  6.114563"
      ]
     },
     "execution_count": 19,
     "metadata": {},
     "output_type": "execute_result"
    },
    {
     "data": {
      "image/png": "[encoded data removed]",
      "text/plain": [
       "<matplotlib.figure.Figure at 0x22f9e16cc88>"
      ]
     },
     "metadata": {},
     "output_type": "display_data"
    }
   ],
   "source": [
    "all_rating_year = pdmovies[[\"year\",\"rating\"]]\n",
    "all_rating_year.groupby(\"year\").mean().plot(title=\"Yearly average ratings of all movies\")\n",
    "#pdmovies.iloc[pdmovies[[\"year\",\"rating\"]].groupby(\"year\").mean()].idxmax()[\"year\"]\n",
    "#pdmovies[[\"year\",\"rating\"]].mean().max()\n",
    "\n",
    "all_rating_year.groupby(\"year\").mean().head(40)\n"
   ]
  },
  {
   "cell_type": "code",
   "execution_count": 20,
   "metadata": {},
   "outputs": [
    {
     "data": {
      "text/plain": [
       "count     58788.000000\n",
       "mean        632.130384\n",
       "std        3829.621413\n",
       "min           5.000000\n",
       "25%          11.000000\n",
       "50%          30.000000\n",
       "75%         112.000000\n",
       "max      157608.000000\n",
       "Name: votes, dtype: float64"
      ]
     },
     "execution_count": 20,
     "metadata": {},
     "output_type": "execute_result"
    }
   ],
   "source": [
    "pdmovies[\"votes\"].describe()"
   ]
  },
  {
   "cell_type": "code",
   "execution_count": 21,
   "metadata": {
    "scrolled": true
   },
   "outputs": [
    {
     "data": {
      "text/plain": [
       "count    1.130000e+02\n",
       "mean     3.288644e+05\n",
       "std      5.723608e+05\n",
       "min      9.000000e+01\n",
       "25%      5.678000e+03\n",
       "50%      1.027950e+05\n",
       "75%      2.672040e+05\n",
       "max      2.630297e+06\n",
       "Name: votes, dtype: float64"
      ]
     },
     "execution_count": 21,
     "metadata": {},
     "output_type": "execute_result"
    },
    {
     "data": {
      "image/png": "[encoded data removed]",
      "text/plain": [
       "<matplotlib.figure.Figure at 0x22f9e0cc7f0>"
      ]
     },
     "metadata": {},
     "output_type": "display_data"
    }
   ],
   "source": [
    "annualvotes = pdmovies.groupby(pdmovies[\"year\"])[\"votes\"].sum()\n",
    "annualvotes.plot(title=\"Total votes for all movies per year\")\n",
    "annualvotes.describe()"
   ]
  },
  {
   "cell_type": "code",
   "execution_count": 22,
   "metadata": {},
   "outputs": [
    {
     "data": {
      "text/plain": [
       "count      6458.000000\n",
       "mean       5263.632239\n",
       "std       10457.498069\n",
       "min         501.000000\n",
       "25%         867.250000\n",
       "50%        1813.000000\n",
       "75%        5054.500000\n",
       "max      157608.000000\n",
       "Name: votes, dtype: float64"
      ]
     },
     "execution_count": 22,
     "metadata": {},
     "output_type": "execute_result"
    }
   ],
   "source": [
    "pd_majormovies[\"votes\"].describe()"
   ]
  },
  {
   "cell_type": "code",
   "execution_count": 23,
   "metadata": {
    "scrolled": true
   },
   "outputs": [
    {
     "data": {
      "text/plain": [
       "<matplotlib.axes._subplots.AxesSubplot at 0x22f9e1e2f60>"
      ]
     },
     "execution_count": 23,
     "metadata": {},
     "output_type": "execute_result"
    },
    {
     "data": {
      "image/png": "[encoded data removed]",
      "text/plain": [
       "<matplotlib.figure.Figure at 0x22f9e070860>"
      ]
     },
     "metadata": {},
     "output_type": "display_data"
    }
   ],
   "source": [
    "pd_majormovies[[\"year\",\"votes\"]].groupby(\"year\").sum().plot(title=\"Total votes for major movies per year\")"
   ]
  },
  {
   "cell_type": "code",
   "execution_count": 24,
   "metadata": {},
   "outputs": [
    {
     "data": {
      "text/html": [
       "<div>\n",
       "<style>\n",
       "    .dataframe thead tr:only-child th {\n",
       "        text-align: right;\n",
       "    }\n",
       "\n",
       "    .dataframe thead th {\n",
       "        text-align: left;\n",
       "    }\n",
       "\n",
       "    .dataframe tbody tr th {\n",
       "        vertical-align: top;\n",
       "    }\n",
       "</style>\n",
       "<table border=\"1\" class=\"dataframe\">\n",
       "  <thead>\n",
       "    <tr style=\"text-align: right;\">\n",
       "      <th></th>\n",
       "      <th>votes</th>\n",
       "    </tr>\n",
       "  </thead>\n",
       "  <tbody>\n",
       "    <tr>\n",
       "      <th>count</th>\n",
       "      <td>92.000000</td>\n",
       "    </tr>\n",
       "    <tr>\n",
       "      <th>mean</th>\n",
       "      <td>3621.078802</td>\n",
       "    </tr>\n",
       "    <tr>\n",
       "      <th>std</th>\n",
       "      <td>1729.666473</td>\n",
       "    </tr>\n",
       "    <tr>\n",
       "      <th>min</th>\n",
       "      <td>522.000000</td>\n",
       "    </tr>\n",
       "    <tr>\n",
       "      <th>25%</th>\n",
       "      <td>2227.895122</td>\n",
       "    </tr>\n",
       "    <tr>\n",
       "      <th>50%</th>\n",
       "      <td>3530.121092</td>\n",
       "    </tr>\n",
       "    <tr>\n",
       "      <th>75%</th>\n",
       "      <td>4757.320546</td>\n",
       "    </tr>\n",
       "    <tr>\n",
       "      <th>max</th>\n",
       "      <td>8951.412811</td>\n",
       "    </tr>\n",
       "  </tbody>\n",
       "</table>\n",
       "</div>"
      ],
      "text/plain": [
       "             votes\n",
       "count    92.000000\n",
       "mean   3621.078802\n",
       "std    1729.666473\n",
       "min     522.000000\n",
       "25%    2227.895122\n",
       "50%    3530.121092\n",
       "75%    4757.320546\n",
       "max    8951.412811"
      ]
     },
     "execution_count": 24,
     "metadata": {},
     "output_type": "execute_result"
    }
   ],
   "source": [
    "pd_majormovies[[\"year\",\"votes\"]].groupby(\"year\").mean().describe()"
   ]
  },
  {
   "cell_type": "code",
   "execution_count": 25,
   "metadata": {},
   "outputs": [
    {
     "data": {
      "text/plain": [
       "<matplotlib.axes._subplots.AxesSubplot at 0x22f9e01fa20>"
      ]
     },
     "execution_count": 25,
     "metadata": {},
     "output_type": "execute_result"
    },
    {
     "data": {
      "image/png": "[encoded data removed]",
      "text/plain": [
       "<matplotlib.figure.Figure at 0x22f9dff4f98>"
      ]
     },
     "metadata": {},
     "output_type": "display_data"
    }
   ],
   "source": [
    "pd_majormovies[[\"year\",\"votes\"]].groupby(\"year\").mean().plot(title=\"Average number of votes for major movies per year\")"
   ]
  },
  {
   "cell_type": "code",
   "execution_count": 26,
   "metadata": {
    "scrolled": true
   },
   "outputs": [
    {
     "data": {
      "text/html": [
       "<div>\n",
       "<style>\n",
       "    .dataframe thead tr:only-child th {\n",
       "        text-align: right;\n",
       "    }\n",
       "\n",
       "    .dataframe thead th {\n",
       "        text-align: left;\n",
       "    }\n",
       "\n",
       "    .dataframe tbody tr th {\n",
       "        vertical-align: top;\n",
       "    }\n",
       "</style>\n",
       "<table border=\"1\" class=\"dataframe\">\n",
       "  <thead>\n",
       "    <tr style=\"text-align: right;\">\n",
       "      <th></th>\n",
       "      <th>votes</th>\n",
       "    </tr>\n",
       "  </thead>\n",
       "  <tbody>\n",
       "    <tr>\n",
       "      <th>count</th>\n",
       "      <td>113.000000</td>\n",
       "    </tr>\n",
       "    <tr>\n",
       "      <th>mean</th>\n",
       "      <td>339.887225</td>\n",
       "    </tr>\n",
       "    <tr>\n",
       "      <th>std</th>\n",
       "      <td>344.119145</td>\n",
       "    </tr>\n",
       "    <tr>\n",
       "      <th>min</th>\n",
       "      <td>13.208333</td>\n",
       "    </tr>\n",
       "    <tr>\n",
       "      <th>25%</th>\n",
       "      <td>89.247573</td>\n",
       "    </tr>\n",
       "    <tr>\n",
       "      <th>50%</th>\n",
       "      <td>218.824000</td>\n",
       "    </tr>\n",
       "    <tr>\n",
       "      <th>75%</th>\n",
       "      <td>427.526400</td>\n",
       "    </tr>\n",
       "    <tr>\n",
       "      <th>max</th>\n",
       "      <td>1364.969901</td>\n",
       "    </tr>\n",
       "  </tbody>\n",
       "</table>\n",
       "</div>"
      ],
      "text/plain": [
       "             votes\n",
       "count   113.000000\n",
       "mean    339.887225\n",
       "std     344.119145\n",
       "min      13.208333\n",
       "25%      89.247573\n",
       "50%     218.824000\n",
       "75%     427.526400\n",
       "max    1364.969901"
      ]
     },
     "execution_count": 26,
     "metadata": {},
     "output_type": "execute_result"
    }
   ],
   "source": [
    "pdmovies[[\"year\",\"votes\"]].groupby(\"year\").mean().describe()"
   ]
  },
  {
   "cell_type": "code",
   "execution_count": 27,
   "metadata": {},
   "outputs": [
    {
     "data": {
      "text/plain": [
       "<matplotlib.axes._subplots.AxesSubplot at 0x22f9df47780>"
      ]
     },
     "execution_count": 27,
     "metadata": {},
     "output_type": "execute_result"
    },
    {
     "data": {
      "image/png": "[encoded data removed]",
      "text/plain": [
       "<matplotlib.figure.Figure at 0x22f9df76f28>"
      ]
     },
     "metadata": {},
     "output_type": "display_data"
    }
   ],
   "source": [
    "pdmovies[[\"year\",\"votes\"]].groupby(\"year\").mean().plot(title=\"Average number of votes for all movies per year\")"
   ]
  },
  {
   "cell_type": "code",
   "execution_count": 28,
   "metadata": {},
   "outputs": [
    {
     "name": "stdout",
     "output_type": "stream",
     "text": [
      "Most movies made per year = 2168\n"
     ]
    },
    {
     "data": {
      "image/png": "[encoded data removed]",
      "text/plain": [
       "<matplotlib.figure.Figure at 0x22f9de9b7f0>"
      ]
     },
     "metadata": {},
     "output_type": "display_data"
    }
   ],
   "source": [
    "pdmovies[\"year\"].value_counts().sort_index().plot(title=\"Total movies made per year\") #sorts by year, which is the index\n",
    "print(\"Most movies made per year = \" + str(pdmovies[\"year\"].value_counts().max()))"
   ]
  },
  {
   "cell_type": "markdown",
   "metadata": {},
   "source": []
  }
 ],
 "metadata": {
  "anaconda-cloud": {},
  "kernelspec": {
   "display_name": "Python 3",
   "language": "python",
   "name": "python3"
  },
  "language_info": {
   "codemirror_mode": {
    "name": "ipython",
    "version": 3
   },
   "file_extension": ".py",
   "mimetype": "text/x-python",
   "name": "python",
   "nbconvert_exporter": "python",
   "pygments_lexer": "ipython3",
   "version": "3.6.3"
  }
 },
 "nbformat": 4,
 "nbformat_minor": 1
}
